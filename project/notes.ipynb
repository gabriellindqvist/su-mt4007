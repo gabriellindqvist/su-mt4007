{
 "cells": [
  {
   "cell_type": "markdown",
   "id": "a4571549-9d31-4f5e-a15b-4798222eaae1",
   "metadata": {},
   "source": [
    "# Vem är bättre? Alexander Isak vs Viktor Gyökeres\n",
    "\n",
    "## Potentiella spelare som inkluderas\n",
    "\n",
    "Fotbollsentusiaster vet att det finns klasskillnader inom olika ligor. För att göra jämförelsen mer bred, inkluderas två centerforwards för respektive \"Big 5\" (England, Tyskland, Spanien, Italien och Frankrike), samt portugisiska ligan. Urvalet baseras på marknadsvärde, enligt `transfermarkt.com`\n",
    "\n",
    "- **Premier League**: (England): Erling Håland, Alexander Isak\n",
    "- **Bundesliga**: Harry Kane, Loïs Openda\n",
    "- **La Liga**: Kylian Mbappé, Julián Alvarez\n",
    "- **Serie A**: Lautaro Martínez, Dušan Vlahović\n",
    "- **Liga Portugal**: Viktor Gyökeres, Samu Aghehowa\n",
    "\n",
    "## Potentiella ligor\n",
    "\n",
    "Inkludering av landskamper (exempelvis Nations League) samt UEFA cuper gör jämförelsen bättre.\n",
    "\n",
    "## Data av intresse\n",
    "\n",
    "### Stats\n",
    "\n",
    "- **Goals, Non-penalty goals, Assists, xG, npxG xAG, Progressive Carries, Progressive Passes, Goals/90, Non-penalty Goals/90, Assists/90, xG/90, npxG/90, xAG/90**\n",
    "\n",
    "## Visualisering\n",
    "\n",
    "https://datamb.football/strikers/\n",
    "\n",
    "https://flourish.studio/blog/visualize-premier-league-football-data/\n",
    "\n",
    "https://plotly.com/r/dropdowns/"
   ]
  }
 ],
 "metadata": {
  "kernelspec": {
   "display_name": "R",
   "language": "R",
   "name": "ir"
  },
  "language_info": {
   "codemirror_mode": "r",
   "file_extension": ".r",
   "mimetype": "text/x-r-source",
   "name": "R",
   "pygments_lexer": "r",
   "version": "4.1.3"
  }
 },
 "nbformat": 4,
 "nbformat_minor": 5
}
