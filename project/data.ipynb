{
 "cells": [
  {
   "cell_type": "code",
   "execution_count": 55,
   "id": "4e617449-8dec-4e42-b31f-9710b00dd7e7",
   "metadata": {},
   "outputs": [],
   "source": [
    "# Load necessary libraries\n",
    "suppressPackageStartupMessages({\n",
    "    library(rvest)\n",
    "    library(tidyverse)\n",
    "    library(stringr)\n",
    "    library(worldfootballR)\n",
    "    library(purrr)\n",
    "})"
   ]
  },
  {
   "cell_type": "markdown",
   "id": "baac1d8e-de1b-4c98-ab28-46c823360bbf",
   "metadata": {},
   "source": [
    "https://www.appsilon.com/post/webscraping-dynamic-websites-with-r\n",
    "\n",
    "https://github.com/JaseZiv/worldfootballR/blob/main/R/player_transfer_history.R#L35"
   ]
  },
  {
   "cell_type": "code",
   "execution_count": 2,
   "id": "e390eda9-25e1-43bc-b785-b4833c44f4bd",
   "metadata": {},
   "outputs": [
    {
     "name": "stdout",
     "output_type": "stream",
     "text": [
      "[1] \"Page 1 completed\"\n",
      "[1] \"Page 2 completed\"\n",
      "[1] \"Page 3 completed\"\n",
      "[1] \"Page 4 completed\"\n",
      "[1] \"Page 5 completed\"\n",
      "[1] \"Page 6 completed\"\n",
      "[1] \"Page 7 completed\"\n",
      "[1] \"Page 8 completed\"\n"
     ]
    }
   ],
   "source": [
    "# Base URL\n",
    "base_url <- \"https://www.transfermarkt.com/spieler-statistik/wertvollstespieler/marktwertetop\"\n",
    "\n",
    "# Initialize empty vectors\n",
    "players <- c()\n",
    "profile_links <- c()\n",
    "market_values <- c()\n",
    "\n",
    "# Step 1: Loop through all pages (8 pages for 200 players)\n",
    "for (page_num in 1:8) {\n",
    "  # Construct the URL for each page\n",
    "  url <- ifelse(page_num == 1, base_url, paste0(base_url, \"?page=\", page_num))\n",
    "  \n",
    "  # Read the page\n",
    "  page <- read_html(url)\n",
    "  \n",
    "  # Extract all rows in the table\n",
    "  rows <- page %>% html_nodes(\"table.items tbody tr\")\n",
    "  \n",
    "  # Loop through rows to extract data\n",
    "  for (row in rows) {\n",
    "    # Extract player profile link\n",
    "    player_node <- row %>% html_node(\"td.hauptlink a\")\n",
    "    player_name <- player_node %>% html_text(trim = TRUE)\n",
    "    player_link <- player_node %>% html_attr(\"href\")\n",
    "    \n",
    "    # Extract market value\n",
    "    market_value_node <- row %>% html_node(\"td.rechts.hauptlink\")\n",
    "    market_value <- market_value_node %>% html_text(trim = TRUE)\n",
    "    \n",
    "    # Append data if player name exists\n",
    "    if (!is.na(player_name) && player_name != \"\") {\n",
    "      players <- c(players, player_name)\n",
    "      profile_links <- c(profile_links, paste0(\"https://www.transfermarkt.com\", player_link))\n",
    "      market_values <- c(market_values, market_value)\n",
    "    }\n",
    "  }\n",
    "  \n",
    "  # Optional: Print progress\n",
    "  print(paste(\"Page\", page_num, \"completed\"))\n",
    "}\n",
    "\n",
    "# Step 2: Combine into a Data Frame\n",
    "top_players <- data.frame(\n",
    "  Player = players,\n",
    "  Profile_Link = profile_links,\n",
    "  Market_Value = market_values\n",
    ")\n",
    "\n",
    "# Step 3: Clean the data (there are duplicates for each player but Market_Value is NA for the duplicate rows)\n",
    "top_players <- top_players %>%\n",
    "    filter(!is.na(Market_Value))"
   ]
  },
  {
   "cell_type": "markdown",
   "id": "be748268-aecd-45af-948d-21e5e2b8c59c",
   "metadata": {},
   "source": [
    "Next is to code two functions that extracts the relevant data we want."
   ]
  },
  {
   "cell_type": "code",
   "execution_count": 3,
   "id": "de72d50f-12b5-4fe3-a34e-81799f7647a5",
   "metadata": {},
   "outputs": [],
   "source": [
    "# Function to extract first club and the clubs country\n",
    "get_first_club_and_country <- function(player_url) {\n",
    "    # Get the transfer history\n",
    "    transfer_history <- tm_player_transfer_history(player_url = player_url)\n",
    "\n",
    "    # Handles the issue of NA by filling missing country_to with\n",
    "    # the first non-NA country_from\n",
    "    first_valid_country_from <- transfer_history %>%\n",
    "        filter(!is.na(country_from)) %>%\n",
    "        slice(1) %>%\n",
    "        pull(country_from)\n",
    "\n",
    "    transfer_history <- transfer_history %>%\n",
    "        mutate(\n",
    "            country_to = ifelse(is.na(country_to),first_valid_country_from, country_to)\n",
    "        )\n",
    "    \n",
    "    # Extract the first recorded transfer\n",
    "    first_recorded_transfer <- transfer_history %>%\n",
    "        arrange(transfer_date) %>%\n",
    "        slice(1) %>%\n",
    "        select(team_from, country_to)\n",
    "\n",
    "    # Return the 1x2 tibble containing team_from and country_to\n",
    "    return(first_recorded_transfer)\n",
    "}\n",
    "\n",
    "# Function to extract player information\n",
    "get_player_info <- function(player_url) {\n",
    "    # Get player bio\n",
    "    player_bio <- tm_player_bio(player_url = player_url)\n",
    "\n",
    "    # Select necessary information about the player\n",
    "    player_info <- player_bio %>%\n",
    "        select(citizenship, position, foot, current_club)\n",
    "    \n",
    "    # Return the 1x4 tibble\n",
    "    return(player_info)\n",
    "}"
   ]
  },
  {
   "cell_type": "code",
   "execution_count": 4,
   "id": "4476075b-0cd4-4582-bbf3-cfda99b07965",
   "metadata": {},
   "outputs": [],
   "source": [
    "unique_profile_urls <- unique(profile_links) # This was needed, because profile_links had duplicates"
   ]
  },
  {
   "cell_type": "code",
   "execution_count": 5,
   "id": "71a9a955-55ad-4f06-9a1f-d110a352a7eb",
   "metadata": {},
   "outputs": [],
   "source": [
    "# Apply both functions to all profile urls and combine the results\n",
    "# into a single dataframe using map_dfr()\n",
    "first_club_data <- map_dfr(unique_profile_urls, get_first_club_and_country)\n",
    "player_info_data <- map_dfr(unique_profile_urls, get_player_info)"
   ]
  },
  {
   "cell_type": "markdown",
   "id": "81bf163b-08ba-4ccb-8775-635e684131a6",
   "metadata": {},
   "source": [
    "Next step is to join the data. We will use the player urls to correctly join the datasets."
   ]
  },
  {
   "cell_type": "code",
   "execution_count": 70,
   "id": "f1c29cab-fc02-4bb3-bb17-149592f9dfe2",
   "metadata": {},
   "outputs": [],
   "source": [
    "# Add Profile_Link column to the two datasets\n",
    "first_club_data <- first_club_data %>%\n",
    "    mutate(Profile_Link = unique_profile_urls)\n",
    "\n",
    "player_info_data <- player_info_data %>%\n",
    "    mutate(Profile_Link = unique_profile_urls)\n",
    "\n",
    "# Join all data with top_players\n",
    "final_data <- top_players %>%\n",
    "    left_join(player_info_data, by = \"Profile_Link\") %>%\n",
    "    left_join(first_club_data, by = \"Profile_Link\")"
   ]
  },
  {
   "cell_type": "markdown",
   "id": "ad4ec00a-d754-42fc-aebd-8df74347a7f2",
   "metadata": {},
   "source": [
    "There are only two players who has NA in the column `country_to`. After further investigation, this is due to the player only been associated with clubs residing in one country. The two players in the dataframe are Lamine Yamal and Gavi, both of which only has been associated with Barcelona.\n",
    "\n",
    "Thus we fill in these values manually."
   ]
  },
  {
   "cell_type": "code",
   "execution_count": 71,
   "id": "070d824a-6042-4719-b132-3aed05511176",
   "metadata": {},
   "outputs": [],
   "source": [
    "final_data <- final_data %>%\n",
    "    mutate(\n",
    "        country_to = case_when(\n",
    "            Player == \"Gavi\" ~ \"Spain\",\n",
    "            Player == \"Lamine Yamal\" ~ \"Spain\",\n",
    "            TRUE ~ country_to\n",
    "        )\n",
    "    )"
   ]
  },
  {
   "cell_type": "markdown",
   "id": "e3eff131-3913-4872-8a16-d6953160dfe3",
   "metadata": {},
   "source": [
    "After looking through the dataframe I found that some cell values in `country_to` are incorrect. This is due to the raw data and we need to manually adjust it, by creating a Club-to-Country Mapping. "
   ]
  },
  {
   "cell_type": "code",
   "execution_count": 72,
   "id": "c0f8966a-ed61-4ca1-9aab-d260076ec62f",
   "metadata": {},
   "outputs": [],
   "source": [
    "# Manual club-to-country mapping\n",
    "club_country_mapping <- data.frame(\n",
    "    team_from = c(\"Godset Yth.\", \"IDV U20\", \"Tháder Youth\", \"Argentinos U20\", \"River Plate U20\", \"CA Atalaya\",\n",
    "                  \"NK Tresnjevka\", \"Videoton Jgd.\", \"Ult. Strikers\", \"Sporting Yth.\", \"IFK AT U19\", \"ACBB Youth\",\n",
    "                  \"Mariadorf Yth.\", \"Rentistas U19\", \"Peñarol Yth.\", \"Belgrano U20\", \"Hörsholm U IK\", \"Desportivo U20\",\n",
    "                  \"Beerschot Yth\", \"IF Bromma U17\", \"Avaí U20\", \"São Paulo U17\", \"Real Madrid U18\", \"Standard Liège\",\n",
    "                  \"Espanyol Youth\", \"Benfica Yth\", \"Casa Sports\", \"WSV '30 Yth.\", \"Vianense For.\", \"Zulte W. Youth\",\n",
    "                  \"Zeeburgia Yth.\", \"Atlético Yth.\", \"Reading Yth.\", \"NK Krsko U17\", \"Desportivo U20\", \"Right to Dream\",\n",
    "                  \"Coritiba U20\", \"Newell's U20\", \"CA Fénix U19\", \"Whitecaps Res\", \"Frontale Jgd.\", \"AZ Alkmaar Yout\", \n",
    "                  \"Paris FC Yth.\", \"VAFC U19\", \"PSG Youth\", \"Gondomar SC CJ\", \"PA Classics\", \"SV Sallern Jgd.\", \"Real Sapphire\", \n",
    "                  \"Génération Foot\", \"Rayo U19\", \"Ottawa ISC\", \"Frontale U18\", \"Dooryong ES\", \"Gagra Acad.\", \"FCK Youth\", \"Pancratius Yth.\", \n",
    "                  \"Abcoude Yth.\", \"Wattensch. Yth.\", \"Spartaan Yth.\", \"OS Abobo\", \"St. Kevins Boys\", \"Anderlecht Yth.\", \"OH Leuven Yth.\", \"Salitas\", \n",
    "                  \"Tottenham Yth.\", \"FC Porto Youth\", \"Recife U17\", \"Málaga CF Youth\", \"J3 Amilly Jgd.\", \"Cornellà Youth\", \"GC Zürich Jgd.\", \"Alta Lisboa S15\", \n",
    "                  \"Valencia CF You\", \"PSV Mannh. Yth.\", \"Club Brugge Yth\"),\n",
    "    \n",
    "    country_to = c(\"Norway\", \"Ecuador\", \"Spain\", \"Argentina\", \"Argentina\", \"Argentina\", \"Croatia\",\n",
    "                   \"Hungary\", \"Nigeria\", \"Portugal\", \"Sweden\", \"France\", \"Germany\", \"Uruguay\", \"Uruguay\",\n",
    "                   \"Argentina\", \"Denmark\", \"Brazil\", \"Belgium\", \"Sweden\", \"Brazil\", \"Brazil\", \"Spain\", \"Belgium\",\n",
    "                   \"Spain\", \"Portugal\", \"Senegal\", \"Netherlands\", \"Portugal\", \"Belgium\", \"Netherlands\", \"Spain\",\n",
    "                   \"England\", \"Slovenia\", \"Brazil\", \"Ghana\", \"Brazil\", \"Argentina\", \"Uruguay\", \"Canada\", \"Japan\",\n",
    "                   \"Netherlands\", \"France\", \"France\", \"France\", \"Portugal\", \"USA\", \"Germany\", \"Nigeria\", \"Senegal\", \n",
    "                   \"Spain\", \"Canada\", \"Japan\", \"Korea, South\", \"Georgia\", \"Denmark\", \"Netherlands\", \"Netherlands\", \"Germany\",\n",
    "                   \"Netherlands\", \"Ivory Coast\", \"Ireland\", \"Belgium\", \"Belgium\", \"Burkina Faso\", \"England\", \"Portugal\", \"Brazil\", \n",
    "                   \"Spain\", \"France\", \"Spain\", \"Switzerland\", \"Portugal\", \"Spain\", \"Germany\", \"Belgium\")\n",
    ")\n",
    "\n",
    "\n",
    "# Clean Whitespaces\n",
    "final_data$team_from <- trimws(final_data$team_from)\n",
    "club_country_mapping$team_from <- trimws(club_country_mapping$team_from)\n",
    "\n",
    "# Join with Mapping and update ´country_to´\n",
    "final_data <- final_data %>%\n",
    "    left_join(club_country_mapping, by = \"team_from\", suffix = c(\"\", \"_mapped\"), relationship = \"many-to-many\") %>%\n",
    "    mutate(\n",
    "        # Always prioritize mapped values from the mapping\n",
    "        country_to = ifelse(!is.na(country_to_mapped), country_to_mapped, country_to)\n",
    "        ) %>%\n",
    "    select(-country_to_mapped)  # Remove the temporary mapped column"
   ]
  },
  {
   "cell_type": "markdown",
   "id": "cf8c5640-6b15-4bf8-824a-2e8b91c05a86",
   "metadata": {},
   "source": [
    "We remove any dual citizenship displayed. By doing so, this column will represent the country they play for. After which we can rename the columns and then save the dataframe."
   ]
  },
  {
   "cell_type": "code",
   "execution_count": 73,
   "id": "4d55b0ea-3bc9-4258-8837-eb68afed9907",
   "metadata": {},
   "outputs": [],
   "source": [
    "# Adjust citizenship to extract only the first country\n",
    "final_data <- final_data %>%\n",
    "    mutate(\n",
    "        citizenship = ifelse(\n",
    "            str_detect(citizenship, \" \"),\n",
    "            str_split(citizenship, \" \") %>% map_chr(~ .[1]),\n",
    "            citizenship\n",
    "        )\n",
    "    )\n",
    "\n",
    "# Change the column names\n",
    "colnames(final_data) <- c(\"player\", \"url\", \"mv\", \"citizenship\", \"position\", \"foot\", \"current_club\", \"youth_club\", \"youth_club_country\")"
   ]
  },
  {
   "cell_type": "code",
   "execution_count": 79,
   "id": "42659d9a-d2ee-4c26-b5ce-bf52de075523",
   "metadata": {},
   "outputs": [
    {
     "data": {
      "text/html": [
       "35"
      ],
      "text/latex": [
       "35"
      ],
      "text/markdown": [
       "35"
      ],
      "text/plain": [
       "[1] 35"
      ]
     },
     "metadata": {},
     "output_type": "display_data"
    }
   ],
   "source": [
    "length(unique(final_data$youth_club_country))"
   ]
  }
 ],
 "metadata": {
  "kernelspec": {
   "display_name": "R",
   "language": "R",
   "name": "ir"
  },
  "language_info": {
   "codemirror_mode": "r",
   "file_extension": ".r",
   "mimetype": "text/x-r-source",
   "name": "R",
   "pygments_lexer": "r",
   "version": "4.1.3"
  }
 },
 "nbformat": 4,
 "nbformat_minor": 5
}
