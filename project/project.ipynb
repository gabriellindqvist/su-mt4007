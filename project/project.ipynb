{
 "cells": [
  {
   "attachments": {},
   "cell_type": "markdown",
   "id": "860b284a-607d-44bd-96a1-aa934b2be1c1",
   "metadata": {},
   "source": [
    "# Most Successful Academies\n",
    "\n",
    "## Research Question\n",
    "\n",
    "Which football academies produced the most valuable players in the world today?\n",
    "\n",
    "## Considered footballers\n",
    "\n",
    "- Top 200 most valuable players based on Transfermarkts \"most valuable players\" category.\n",
    "\n",
    "## Academy Eligibility\n",
    "\n",
    "- A player is attributed to an academy if they spent at least 3 years there during their youth development.\n",
    "- If above does not apply, \n",
    "\n",
    "## Metrics\n",
    "\n",
    "- Count the number of top 200 players produced by each academy\n",
    "\n",
    "## Data Collection Workflow\n",
    "\n",
    "### Step 1: Scraping the Top 200 Most Valuable Players on Transfermarkt\n",
    "\n",
    "Our goal for this step is to extract the following data from the URL:\n",
    "\n",
    "1. Player Name\n",
    "2. Current Market Value\n",
    "3. Profile Link"
   ]
  },
  {
   "cell_type": "code",
   "execution_count": null,
   "id": "78da9591-7300-4bfc-920b-6edfbb1addf9",
   "metadata": {},
   "outputs": [],
   "source": []
  }
 ],
 "metadata": {
  "kernelspec": {
   "display_name": "R",
   "language": "R",
   "name": "ir"
  },
  "language_info": {
   "codemirror_mode": "r",
   "file_extension": ".r",
   "mimetype": "text/x-r-source",
   "name": "R",
   "pygments_lexer": "r",
   "version": "4.1.3"
  }
 },
 "nbformat": 4,
 "nbformat_minor": 5
}
