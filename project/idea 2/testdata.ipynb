{
 "cells": [
  {
   "cell_type": "markdown",
   "id": "fa5d05cb-4229-42d2-b2be-1b0f63d60ebb",
   "metadata": {},
   "source": [
    "- Ge cred till R paketet"
   ]
  },
  {
   "cell_type": "code",
   "execution_count": 1,
   "id": "731c10f7-5d5d-42da-8a3e-dc30b13b9373",
   "metadata": {},
   "outputs": [],
   "source": [
    "suppressPackageStartupMessages({\n",
    "    library(rvest)\n",
    "    library(tidyverse)\n",
    "    library(stringr)\n",
    "    library(worldfootballR)\n",
    "})"
   ]
  },
  {
   "cell_type": "code",
   "execution_count": 2,
   "id": "7917c3b7-7317-4395-9f4c-c196302cc7c8",
   "metadata": {},
   "outputs": [],
   "source": [
    "# Skapa en vektor som innehåller urvalet URLs\n",
    "player_urls <- c(\n",
    "    \"https://fbref.com/en/players/8e92be30/Alexander-Isak\",\n",
    "    \"https://fbref.com/en/players/1f44ac21/Erling-Haaland\",\n",
    "    \"https://fbref.com/en/players/21a66f6a/Harry-Kane\",\n",
    "    \"https://fbref.com/en/players/8652a85c/Lois-Openda\",\n",
    "    \"https://fbref.com/en/players/42fd9c7f/Kylian-Mbappe\",\n",
    "    \"https://fbref.com/en/players/f7036e1c/Lautaro-Martinez\",\n",
    "    \"https://fbref.com/en/players/79443529/Dusan-Vlahovic\",\n",
    "    \"https://fbref.com/en/players/4d5a9185/Viktor-Gyokeres\",\n",
    "    \"https://fbref.com/en/players/dc44b03c/Samu-Omorodion\"\n",
    ")\n",
    "\n",
    "# Data av intresse i vektorform\n",
    "# c(\n",
    "#    player_name, Season, Age, Comp, MP, Mins_Per_90_Time,\n",
    "#    Gls, G_minus_PK, Ast,\n",
    "#    xG_Expected, npxG_Expected, xAG_Expected,\n",
    "#    PrgC_Progression, PrgP_Progression,\n",
    "#    Gls_Per_Minutes, G_minus_PK_Per_Minutes, Ast_Per_Minutes,\n",
    "#    xG_Per_Minutes, npxG_Per_Minutes, xAG_Per_Minutes \n",
    "# )\n",
    "\n",
    "# Ligor och cuper av intresse. Ligue 1 är inkluderad pga Kylian Mbappé\n",
    "comps <- c(\n",
    "    \"1. Premier League\", \"1. Bundesliga\", \"1. La Liga\", \"1. Serie A\",\n",
    "    \"1. Ligue 1\", \"1. Primeira Liga\", \"1. Champions Lg\", \"2. Europa Lg\"\n",
    ")\n",
    "\n",
    "# Säsonger av intresse\n",
    "seasons <- c(\"2024-2025\", \"2023-2024\")"
   ]
  },
  {
   "cell_type": "code",
   "execution_count": null,
   "id": "ddc7f31f-530b-48fe-87a6-b25224b8c04c",
   "metadata": {},
   "outputs": [],
   "source": []
  }
 ],
 "metadata": {
  "kernelspec": {
   "display_name": "R",
   "language": "R",
   "name": "ir"
  },
  "language_info": {
   "codemirror_mode": "r",
   "file_extension": ".r",
   "mimetype": "text/x-r-source",
   "name": "R",
   "pygments_lexer": "r",
   "version": "4.1.3"
  }
 },
 "nbformat": 4,
 "nbformat_minor": 5
}
