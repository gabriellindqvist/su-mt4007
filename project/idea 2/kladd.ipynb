{
 "cells": [
  {
   "cell_type": "code",
   "execution_count": 2,
   "id": "0e02b684-5fc5-4021-bb03-9b68f130d276",
   "metadata": {},
   "outputs": [
    {
     "name": "stdout",
     "output_type": "stream",
     "text": [
      "'data.frame':\t27 obs. of  24 variables:\n",
      " $ player_name           : chr  \"Alexander Isak\" \"Alexander Isak\" \"Alexander Isak\" \"Alexander Isak\" ...\n",
      " $ player_url            : chr  \"https://fbref.com/en/players/8e92be30/Alexander-Isak\" \"https://fbref.com/en/players/8e92be30/Alexander-Isak\" \"https://fbref.com/en/players/8e92be30/Alexander-Isak\" \"https://fbref.com/en/players/8e92be30/Alexander-Isak\" ...\n",
      " $ Season                : chr  \"2016\" \"2016-2017\" \"2016-2017\" \"2017-2018\" ...\n",
      " $ Age                   : num  16 16 16 17 17 17 17 18 19 19 ...\n",
      " $ Squad                 : chr  \"AIK Stockholm\" \"Dortmund\" \"Dortmund U19\" \"Dortmund\" ...\n",
      " $ Country               : chr  \"SWE\" \"GER\" \"GER\" \"GER\" ...\n",
      " $ Comp                  : chr  \"1. Allsvenskan\" \"DFB-Pokal\" \"Jr. U19 Bundesliga\" \"1. Bundesliga\" ...\n",
      " $ Mins_Per_90           : num  17.7 0.1 1 1.3 0.1 1.1 0.6 15.2 4.8 16.7 ...\n",
      " $ Tkl_Tackles           : num  NA NA NA 1 0 NA 0 11 NA 7 ...\n",
      " $ TklW_Tackles          : num  0 0 NA 0 0 0 0 8 0 2 ...\n",
      " $ Def 3rd_Tackles       : num  NA NA NA 0 0 NA 0 0 NA 0 ...\n",
      " $ Mid 3rd_Tackles       : num  NA NA NA 1 0 NA 0 5 NA 3 ...\n",
      " $ Att 3rd_Tackles       : num  NA NA NA 0 0 NA 0 6 NA 4 ...\n",
      " $ Tkl_Challenges        : num  NA NA NA 0 0 NA 0 3 NA 1 ...\n",
      " $ Att_Challenges        : num  NA NA NA 1 0 NA 0 10 NA 8 ...\n",
      " $ Tkl_percent_Challenges: num  NA NA NA 0 NA NA NA 30 NA 12.5 ...\n",
      " $ Lost_Challenges       : num  NA NA NA 1 0 NA 0 7 NA 7 ...\n",
      " $ Blocks_Blocks         : num  NA NA NA 1 0 NA 1 10 NA 8 ...\n",
      " $ Sh_Blocks             : num  NA NA NA 0 0 NA 0 0 NA 0 ...\n",
      " $ Pass_Blocks           : num  NA NA NA 1 0 NA 1 10 NA 8 ...\n",
      " $ Int                   : num  0 1 NA 0 0 1 0 2 2 3 ...\n",
      " $ Tkl+Int               : num  NA NA NA 1 0 NA 0 13 NA 10 ...\n",
      " $ Clr                   : num  NA NA NA 0 0 NA 0 6 NA 6 ...\n",
      " $ Err                   : num  NA NA NA 0 0 NA 0 0 NA 0 ...\n"
     ]
    }
   ],
   "source": [
    "suppressPackageStartupMessages({\n",
    "    library(rvest)\n",
    "    library(tidyverse)\n",
    "    library(stringr)\n",
    "    library(worldfootballR)\n",
    "})\n",
    "\n",
    "# Skapa en vektor som innehåller urvalet URLs\n",
    "player_urls <- c(\n",
    "    \"https://fbref.com/en/players/8e92be30/Alexander-Isak\",\n",
    "    \"https://fbref.com/en/players/1f44ac21/Erling-Haaland\",\n",
    "    \"https://fbref.com/en/players/21a66f6a/Harry-Kane\",\n",
    "    \"https://fbref.com/en/players/8652a85c/Lois-Openda\",\n",
    "    \"https://fbref.com/en/players/42fd9c7f/Kylian-Mbappe\",\n",
    "    \"https://fbref.com/en/players/f7036e1c/Lautaro-Martinez\",\n",
    "    \"https://fbref.com/en/players/79443529/Dusan-Vlahovic\",\n",
    "    \"https://fbref.com/en/players/4d5a9185/Viktor-Gyokeres\",\n",
    "    \"https://fbref.com/en/players/dc44b03c/Samu-Omorodion\"\n",
    ")\n",
    "\n",
    "# Data av intresse i vektorform\n",
    "# c(\n",
    "#    player_name, Season, Age, Comp, Mins_Per_90_Time,\n",
    "#    Gls, G_minus_PK, Ast,\n",
    "#    xG_Expected, npxG_Expected, xAG_Expected,\n",
    "#    PrgC_Progression, PrgP_Progression, PrgR_Progression\n",
    "#    Gls_Per_Minutes, G_minus_PK_Per_Minutes, Ast_Per_Minutes,\n",
    "#    xG_Per_Minutes, npxG_Per_Minutes, xAG_Per_Minutes \n",
    "# )\n",
    "\n",
    "# Ligor och cuper av intresse. Ligue 1 är inkluderad pga Kylian Mbappé\n",
    "comps <- c(\n",
    "    \"1. Premier League\", \"1. Bundesliga\", \"1. La Liga\", \"1. Serie A\",\n",
    "    \"1. Ligue 1\", \"1. Primeira Liga\", \"1. Champions Lg\", \"2. Europa Lg\"\n",
    ")\n",
    "\n",
    "# Säsonger av intresse\n",
    "seasons <- c(\"2024-2025\", \"2023-2024\")\n",
    "\n",
    "test <- fb_player_season_stats(player_urls[1], stat_type = \"defense\")\n",
    "\n",
    "str(test)"
   ]
  }
 ],
 "metadata": {
  "kernelspec": {
   "display_name": "R",
   "language": "R",
   "name": "ir"
  },
  "language_info": {
   "codemirror_mode": "r",
   "file_extension": ".r",
   "mimetype": "text/x-r-source",
   "name": "R",
   "pygments_lexer": "r",
   "version": "4.1.3"
  }
 },
 "nbformat": 4,
 "nbformat_minor": 5
}
