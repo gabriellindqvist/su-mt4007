{
 "cells": [
  {
   "cell_type": "code",
   "execution_count": 1,
   "id": "1464e425-e09e-430a-b686-430e018c9985",
   "metadata": {},
   "outputs": [],
   "source": [
    "suppressPackageStartupMessages({\n",
    "    library(tidyverse)\n",
    "    library(ggplot2)\n",
    "    library(palmerpenguins)\n",
    "    library(ggthemes)\n",
    "})"
   ]
  },
  {
   "cell_type": "markdown",
   "id": "52483ddc-4882-4059-b5ec-e108c333d0bf",
   "metadata": {},
   "source": [
    "# DataFrames & Visualizing data with plots\n",
    "\n",
    "## Overview of the datastructure and its content\n",
    "- Use the function `glimpse()`"
   ]
  },
  {
   "cell_type": "code",
   "execution_count": 2,
   "id": "8241f04c-80c3-4f79-93bd-6e9a2dd9fe8a",
   "metadata": {},
   "outputs": [
    {
     "name": "stdout",
     "output_type": "stream",
     "text": [
      "Rows: 344\n",
      "Columns: 8\n",
      "$ species           \u001b[3m\u001b[90m<fct>\u001b[39m\u001b[23m Adelie, Adelie, Adelie, Adelie, Adelie, Adelie, Adel~\n",
      "$ island            \u001b[3m\u001b[90m<fct>\u001b[39m\u001b[23m Torgersen, Torgersen, Torgersen, Torgersen, Torgerse~\n",
      "$ bill_length_mm    \u001b[3m\u001b[90m<dbl>\u001b[39m\u001b[23m 39.1, 39.5, 40.3, NA, 36.7, 39.3, 38.9, 39.2, 34.1, ~\n",
      "$ bill_depth_mm     \u001b[3m\u001b[90m<dbl>\u001b[39m\u001b[23m 18.7, 17.4, 18.0, NA, 19.3, 20.6, 17.8, 19.6, 18.1, ~\n",
      "$ flipper_length_mm \u001b[3m\u001b[90m<int>\u001b[39m\u001b[23m 181, 186, 195, NA, 193, 190, 181, 195, 193, 190, 186~\n",
      "$ body_mass_g       \u001b[3m\u001b[90m<int>\u001b[39m\u001b[23m 3750, 3800, 3250, NA, 3450, 3650, 3625, 4675, 3475, ~\n",
      "$ sex               \u001b[3m\u001b[90m<fct>\u001b[39m\u001b[23m male, female, female, NA, female, male, female, male~\n",
      "$ year              \u001b[3m\u001b[90m<int>\u001b[39m\u001b[23m 2007, 2007, 2007, 2007, 2007, 2007, 2007, 2007, 2007~\n"
     ]
    }
   ],
   "source": [
    "glimpse(penguins)"
   ]
  },
  {
   "cell_type": "markdown",
   "id": "a319cbd6-f992-4201-9ee4-d4f0763a4484",
   "metadata": {},
   "source": [
    "## Sorting\n",
    "- Use the function `arrange()`"
   ]
  },
  {
   "cell_type": "code",
   "execution_count": 3,
   "id": "c91e1069-6583-42b7-bce0-4999a051bac9",
   "metadata": {},
   "outputs": [
    {
     "data": {
      "text/html": [
       "<table class=\"dataframe\">\n",
       "<caption>A tibble: 3 × 8</caption>\n",
       "<thead>\n",
       "\t<tr><th scope=col>species</th><th scope=col>island</th><th scope=col>bill_length_mm</th><th scope=col>bill_depth_mm</th><th scope=col>flipper_length_mm</th><th scope=col>body_mass_g</th><th scope=col>sex</th><th scope=col>year</th></tr>\n",
       "\t<tr><th scope=col>&lt;fct&gt;</th><th scope=col>&lt;fct&gt;</th><th scope=col>&lt;dbl&gt;</th><th scope=col>&lt;dbl&gt;</th><th scope=col>&lt;int&gt;</th><th scope=col>&lt;int&gt;</th><th scope=col>&lt;fct&gt;</th><th scope=col>&lt;int&gt;</th></tr>\n",
       "</thead>\n",
       "<tbody>\n",
       "\t<tr><td>Gentoo</td><td>Biscoe</td><td>49.2</td><td>15.2</td><td>221</td><td>6300</td><td>male</td><td>2007</td></tr>\n",
       "\t<tr><td>Gentoo</td><td>Biscoe</td><td>59.6</td><td>17.0</td><td>230</td><td>6050</td><td>male</td><td>2007</td></tr>\n",
       "\t<tr><td>Gentoo</td><td>Biscoe</td><td>51.1</td><td>16.3</td><td>220</td><td>6000</td><td>male</td><td>2008</td></tr>\n",
       "</tbody>\n",
       "</table>\n"
      ],
      "text/latex": [
       "A tibble: 3 × 8\n",
       "\\begin{tabular}{llllllll}\n",
       " species & island & bill\\_length\\_mm & bill\\_depth\\_mm & flipper\\_length\\_mm & body\\_mass\\_g & sex & year\\\\\n",
       " <fct> & <fct> & <dbl> & <dbl> & <int> & <int> & <fct> & <int>\\\\\n",
       "\\hline\n",
       "\t Gentoo & Biscoe & 49.2 & 15.2 & 221 & 6300 & male & 2007\\\\\n",
       "\t Gentoo & Biscoe & 59.6 & 17.0 & 230 & 6050 & male & 2007\\\\\n",
       "\t Gentoo & Biscoe & 51.1 & 16.3 & 220 & 6000 & male & 2008\\\\\n",
       "\\end{tabular}\n"
      ],
      "text/markdown": [
       "\n",
       "A tibble: 3 × 8\n",
       "\n",
       "| species &lt;fct&gt; | island &lt;fct&gt; | bill_length_mm &lt;dbl&gt; | bill_depth_mm &lt;dbl&gt; | flipper_length_mm &lt;int&gt; | body_mass_g &lt;int&gt; | sex &lt;fct&gt; | year &lt;int&gt; |\n",
       "|---|---|---|---|---|---|---|---|\n",
       "| Gentoo | Biscoe | 49.2 | 15.2 | 221 | 6300 | male | 2007 |\n",
       "| Gentoo | Biscoe | 59.6 | 17.0 | 230 | 6050 | male | 2007 |\n",
       "| Gentoo | Biscoe | 51.1 | 16.3 | 220 | 6000 | male | 2008 |\n",
       "\n"
      ],
      "text/plain": [
       "  species island bill_length_mm bill_depth_mm flipper_length_mm body_mass_g\n",
       "1 Gentoo  Biscoe 49.2           15.2          221               6300       \n",
       "2 Gentoo  Biscoe 59.6           17.0          230               6050       \n",
       "3 Gentoo  Biscoe 51.1           16.3          220               6000       \n",
       "  sex  year\n",
       "1 male 2007\n",
       "2 male 2007\n",
       "3 male 2008"
      ]
     },
     "metadata": {},
     "output_type": "display_data"
    }
   ],
   "source": [
    "penguins %>%\n",
    "    arrange(desc(body_mass_g)) %>%\n",
    "    slice_head(n = 3)"
   ]
  },
  {
   "cell_type": "markdown",
   "id": "010c7f54-3b1b-4f53-b38a-87f54aea89d8",
   "metadata": {},
   "source": [
    "## Filtering\n",
    "- Use the function `filter()` combined with condition(s)"
   ]
  },
  {
   "cell_type": "code",
   "execution_count": 4,
   "id": "3fe7c42f-1739-4bca-ac63-78731d723ebe",
   "metadata": {},
   "outputs": [
    {
     "data": {
      "text/html": [
       "<table class=\"dataframe\">\n",
       "<caption>A tibble: 3 × 8</caption>\n",
       "<thead>\n",
       "\t<tr><th scope=col>species</th><th scope=col>island</th><th scope=col>bill_length_mm</th><th scope=col>bill_depth_mm</th><th scope=col>flipper_length_mm</th><th scope=col>body_mass_g</th><th scope=col>sex</th><th scope=col>year</th></tr>\n",
       "\t<tr><th scope=col>&lt;fct&gt;</th><th scope=col>&lt;fct&gt;</th><th scope=col>&lt;dbl&gt;</th><th scope=col>&lt;dbl&gt;</th><th scope=col>&lt;int&gt;</th><th scope=col>&lt;int&gt;</th><th scope=col>&lt;fct&gt;</th><th scope=col>&lt;int&gt;</th></tr>\n",
       "</thead>\n",
       "<tbody>\n",
       "\t<tr><td>Adelie</td><td>Torgersen</td><td>39.5</td><td>17.4</td><td>186</td><td>3800</td><td>female</td><td>2007</td></tr>\n",
       "\t<tr><td>Adelie</td><td>Torgersen</td><td>36.7</td><td>19.3</td><td>193</td><td>3450</td><td>female</td><td>2007</td></tr>\n",
       "\t<tr><td>Adelie</td><td>Torgersen</td><td>38.9</td><td>17.8</td><td>181</td><td>3625</td><td>female</td><td>2007</td></tr>\n",
       "</tbody>\n",
       "</table>\n"
      ],
      "text/latex": [
       "A tibble: 3 × 8\n",
       "\\begin{tabular}{llllllll}\n",
       " species & island & bill\\_length\\_mm & bill\\_depth\\_mm & flipper\\_length\\_mm & body\\_mass\\_g & sex & year\\\\\n",
       " <fct> & <fct> & <dbl> & <dbl> & <int> & <int> & <fct> & <int>\\\\\n",
       "\\hline\n",
       "\t Adelie & Torgersen & 39.5 & 17.4 & 186 & 3800 & female & 2007\\\\\n",
       "\t Adelie & Torgersen & 36.7 & 19.3 & 193 & 3450 & female & 2007\\\\\n",
       "\t Adelie & Torgersen & 38.9 & 17.8 & 181 & 3625 & female & 2007\\\\\n",
       "\\end{tabular}\n"
      ],
      "text/markdown": [
       "\n",
       "A tibble: 3 × 8\n",
       "\n",
       "| species &lt;fct&gt; | island &lt;fct&gt; | bill_length_mm &lt;dbl&gt; | bill_depth_mm &lt;dbl&gt; | flipper_length_mm &lt;int&gt; | body_mass_g &lt;int&gt; | sex &lt;fct&gt; | year &lt;int&gt; |\n",
       "|---|---|---|---|---|---|---|---|\n",
       "| Adelie | Torgersen | 39.5 | 17.4 | 186 | 3800 | female | 2007 |\n",
       "| Adelie | Torgersen | 36.7 | 19.3 | 193 | 3450 | female | 2007 |\n",
       "| Adelie | Torgersen | 38.9 | 17.8 | 181 | 3625 | female | 2007 |\n",
       "\n"
      ],
      "text/plain": [
       "  species island    bill_length_mm bill_depth_mm flipper_length_mm body_mass_g\n",
       "1 Adelie  Torgersen 39.5           17.4          186               3800       \n",
       "2 Adelie  Torgersen 36.7           19.3          193               3450       \n",
       "3 Adelie  Torgersen 38.9           17.8          181               3625       \n",
       "  sex    year\n",
       "1 female 2007\n",
       "2 female 2007\n",
       "3 female 2007"
      ]
     },
     "metadata": {},
     "output_type": "display_data"
    }
   ],
   "source": [
    "# Filter out all males and body masses less than 3300\n",
    "penguins %>%\n",
    "    filter(sex != \"male\" & body_mass_g > 3300) %>%\n",
    "    slice_head(n = 3)"
   ]
  },
  {
   "cell_type": "code",
   "execution_count": 5,
   "id": "d21a6d0c-86c4-4eb0-8c81-cade8c9f48e9",
   "metadata": {},
   "outputs": [
    {
     "data": {
      "text/html": [
       "<style>\n",
       ".list-inline {list-style: none; margin:0; padding: 0}\n",
       ".list-inline>li {display: inline-block}\n",
       ".list-inline>li:not(:last-child)::after {content: \"\\00b7\"; padding: 0 .5ex}\n",
       "</style>\n",
       "<ol class=list-inline><li>Adelie</li><li>Gentoo</li><li>Chinstrap</li></ol>\n",
       "\n",
       "<details>\n",
       "\t<summary style=display:list-item;cursor:pointer>\n",
       "\t\t<strong>Levels</strong>:\n",
       "\t</summary>\n",
       "\t<style>\n",
       "\t.list-inline {list-style: none; margin:0; padding: 0}\n",
       "\t.list-inline>li {display: inline-block}\n",
       "\t.list-inline>li:not(:last-child)::after {content: \"\\00b7\"; padding: 0 .5ex}\n",
       "\t</style>\n",
       "\t<ol class=list-inline><li>'Adelie'</li><li>'Chinstrap'</li><li>'Gentoo'</li></ol>\n",
       "</details>"
      ],
      "text/latex": [
       "\\begin{enumerate*}\n",
       "\\item Adelie\n",
       "\\item Gentoo\n",
       "\\item Chinstrap\n",
       "\\end{enumerate*}\n",
       "\n",
       "\\emph{Levels}: \\begin{enumerate*}\n",
       "\\item 'Adelie'\n",
       "\\item 'Chinstrap'\n",
       "\\item 'Gentoo'\n",
       "\\end{enumerate*}\n"
      ],
      "text/markdown": [
       "1. Adelie\n",
       "2. Gentoo\n",
       "3. Chinstrap\n",
       "\n",
       "\n",
       "\n",
       "**Levels**: 1. 'Adelie'\n",
       "2. 'Chinstrap'\n",
       "3. 'Gentoo'\n",
       "\n",
       "\n"
      ],
      "text/plain": [
       "[1] Adelie    Gentoo    Chinstrap\n",
       "Levels: Adelie Chinstrap Gentoo"
      ]
     },
     "metadata": {},
     "output_type": "display_data"
    },
    {
     "data": {
      "text/html": [
       "Adelie\n",
       "<details>\n",
       "\t<summary style=display:list-item;cursor:pointer>\n",
       "\t\t<strong>Levels</strong>:\n",
       "\t</summary>\n",
       "\t<style>\n",
       "\t.list-inline {list-style: none; margin:0; padding: 0}\n",
       "\t.list-inline>li {display: inline-block}\n",
       "\t.list-inline>li:not(:last-child)::after {content: \"\\00b7\"; padding: 0 .5ex}\n",
       "\t</style>\n",
       "\t<ol class=list-inline><li>'Adelie'</li><li>'Chinstrap'</li><li>'Gentoo'</li></ol>\n",
       "</details>"
      ],
      "text/latex": [
       "Adelie\n",
       "\\emph{Levels}: \\begin{enumerate*}\n",
       "\\item 'Adelie'\n",
       "\\item 'Chinstrap'\n",
       "\\item 'Gentoo'\n",
       "\\end{enumerate*}\n"
      ],
      "text/markdown": [
       "Adelie\n",
       "**Levels**: 1. 'Adelie'\n",
       "2. 'Chinstrap'\n",
       "3. 'Gentoo'\n",
       "\n",
       "\n"
      ],
      "text/plain": [
       "[1] Adelie\n",
       "Levels: Adelie Chinstrap Gentoo"
      ]
     },
     "metadata": {},
     "output_type": "display_data"
    }
   ],
   "source": [
    "# Filtering multiple values\n",
    "# Filter species not equal to Chinstrap, Gentoo\n",
    "unique(penguins$species)\n",
    "Adelie <- penguins %>% \n",
    "    filter(! species %in% c(\"Chinstrap\", \"Gentoo\"))\n",
    "unique(Adelie$species)"
   ]
  },
  {
   "cell_type": "markdown",
   "id": "c47a4786-0b60-4e9c-b318-4b020d2080a7",
   "metadata": {},
   "source": [
    "## Summarise, Mutating & Grouping\n",
    "- Use `summarise()` when you want to create a new dataframe\n",
    "- Use `mutate()` when you want to create a new variable (column)\n",
    "- Combine with `group_by()` to aggregate the data."
   ]
  },
  {
   "cell_type": "code",
   "execution_count": 6,
   "id": "b7be6a78-d839-4221-9f14-a675e3da534f",
   "metadata": {},
   "outputs": [
    {
     "data": {
      "text/html": [
       "<table class=\"dataframe\">\n",
       "<caption>A grouped_df: 2 × 2</caption>\n",
       "<thead>\n",
       "\t<tr><th scope=col>sex</th><th scope=col>avg_body_mass_sex</th></tr>\n",
       "\t<tr><th scope=col>&lt;fct&gt;</th><th scope=col>&lt;dbl&gt;</th></tr>\n",
       "</thead>\n",
       "<tbody>\n",
       "\t<tr><td>female</td><td>3862.273</td></tr>\n",
       "\t<tr><td>male  </td><td>4545.685</td></tr>\n",
       "</tbody>\n",
       "</table>\n"
      ],
      "text/latex": [
       "A grouped\\_df: 2 × 2\n",
       "\\begin{tabular}{ll}\n",
       " sex & avg\\_body\\_mass\\_sex\\\\\n",
       " <fct> & <dbl>\\\\\n",
       "\\hline\n",
       "\t female & 3862.273\\\\\n",
       "\t male   & 4545.685\\\\\n",
       "\\end{tabular}\n"
      ],
      "text/markdown": [
       "\n",
       "A grouped_df: 2 × 2\n",
       "\n",
       "| sex &lt;fct&gt; | avg_body_mass_sex &lt;dbl&gt; |\n",
       "|---|---|\n",
       "| female | 3862.273 |\n",
       "| male   | 4545.685 |\n",
       "\n"
      ],
      "text/plain": [
       "  sex    avg_body_mass_sex\n",
       "1 female 3862.273         \n",
       "2 male   4545.685         "
      ]
     },
     "metadata": {},
     "output_type": "display_data"
    },
    {
     "data": {
      "text/html": [
       "<table class=\"dataframe\">\n",
       "<caption>A grouped_df: 3 × 2</caption>\n",
       "<thead>\n",
       "\t<tr><th scope=col>species</th><th scope=col>avg_bill_area_mm2</th></tr>\n",
       "\t<tr><th scope=col>&lt;fct&gt;</th><th scope=col>&lt;dbl&gt;</th></tr>\n",
       "</thead>\n",
       "<tbody>\n",
       "\t<tr><td>Chinstrap</td><td>901.9891</td></tr>\n",
       "\t<tr><td>Gentoo   </td><td>713.6533</td></tr>\n",
       "\t<tr><td>Adelie   </td><td>712.9409</td></tr>\n",
       "</tbody>\n",
       "</table>\n"
      ],
      "text/latex": [
       "A grouped\\_df: 3 × 2\n",
       "\\begin{tabular}{ll}\n",
       " species & avg\\_bill\\_area\\_mm2\\\\\n",
       " <fct> & <dbl>\\\\\n",
       "\\hline\n",
       "\t Chinstrap & 901.9891\\\\\n",
       "\t Gentoo    & 713.6533\\\\\n",
       "\t Adelie    & 712.9409\\\\\n",
       "\\end{tabular}\n"
      ],
      "text/markdown": [
       "\n",
       "A grouped_df: 3 × 2\n",
       "\n",
       "| species &lt;fct&gt; | avg_bill_area_mm2 &lt;dbl&gt; |\n",
       "|---|---|\n",
       "| Chinstrap | 901.9891 |\n",
       "| Gentoo    | 713.6533 |\n",
       "| Adelie    | 712.9409 |\n",
       "\n"
      ],
      "text/plain": [
       "  species   avg_bill_area_mm2\n",
       "1 Chinstrap 901.9891         \n",
       "2 Gentoo    713.6533         \n",
       "3 Adelie    712.9409         "
      ]
     },
     "metadata": {},
     "output_type": "display_data"
    }
   ],
   "source": [
    "# Group by sex and summarise the average body mass for male and female\n",
    "penguins %>%\n",
    "    select(sex, body_mass_g) %>%\n",
    "    drop_na(sex) %>%\n",
    "    group_by(sex) %>%\n",
    "    summarise(\n",
    "        avg_body_mass_sex = mean(body_mass_g, na.rm = TRUE),\n",
    "        .groups = \"keep\" # keep the data grouped\n",
    "    )\n",
    "\n",
    "# create a new variable : BILL AREA\n",
    "penguins <- penguins %>%\n",
    "    drop_na(bill_length_mm, bill_depth_mm) %>%\n",
    "    mutate(\n",
    "        bill_area_mm2 = bill_length_mm * bill_depth_mm\n",
    "    )\n",
    "\n",
    "# group by species and display species with greatest average bill_area\n",
    "penguins %>%\n",
    "    group_by(species) %>%\n",
    "    summarise(\n",
    "        avg_bill_area_mm2 = mean(bill_area_mm2, na.rm = TRUE),\n",
    "        .groups = \"keep\"\n",
    "    ) %>%\n",
    "    arrange(desc(avg_bill_area_mm2))"
   ]
  },
  {
   "cell_type": "markdown",
   "id": "bd74cc7a-4257-4fab-ace4-a5e6384e99e6",
   "metadata": {},
   "source": [
    "## Data Visualization: Barplots"
   ]
  },
  {
   "cell_type": "code",
   "execution_count": 7,
   "id": "627b8123-095a-4b41-bf81-0a5f4ca747b7",
   "metadata": {},
   "outputs": [
    {
     "data": {
      "image/png": "[encoded data removed]",
      "text/plain": [
       "plot without title"
      ]
     },
     "metadata": {
      "image/png": {
       "height": 420,
       "width": 420
      }
     },
     "output_type": "display_data"
    }
   ],
   "source": [
    "ggplot(\n",
    "    data = penguins,\n",
    "    mapping = aes(x = species, color = species)\n",
    ") +\n",
    "    geom_bar(mapping = aes(fill = species)) +\n",
    "    scale_color_colorblind()"
   ]
  },
  {
   "cell_type": "markdown",
   "id": "1db61d32-db8d-4b8f-9a9c-a6e1a647f1e6",
   "metadata": {},
   "source": [
    "## Data Visualization: Scatterplots\n",
    "- Use `geom_point()` to create a scatterplot\n",
    "- Use `facet_wrap(~variable)` when you want to create subplots based on a categorical `variable`"
   ]
  },
  {
   "cell_type": "code",
   "execution_count": 8,
   "id": "18c2bd03-058d-4c7a-9de4-926b826e438e",
   "metadata": {},
   "outputs": [
    {
     "name": "stderr",
     "output_type": "stream",
     "text": [
      "\u001b[1m\u001b[22m`geom_smooth()` using formula = 'y ~ x'\n"
     ]
    },
    {
     "data": {
      "image/png": "[encoded data removed]",
      "text/plain": [
       "plot without title"
      ]
     },
     "metadata": {
      "image/png": {
       "height": 420,
       "width": 420
      }
     },
     "output_type": "display_data"
    }
   ],
   "source": [
    "ggplot(\n",
    "    data = penguins,\n",
    "    mapping = aes(x = flipper_length_mm, y = body_mass_g)\n",
    ") +\n",
    "    # add shape and color to species\n",
    "    geom_point(mapping = aes(color = species, shape = species)) +\n",
    "    # add a fitted line\n",
    "    geom_smooth(method = \"lm\") +\n",
    "    labs(\n",
    "        title = \"Body mass and flipper length\",\n",
    "        subtitle = \"Dimensions for Adelie, Chinstrap, and Gentoo Penguins\",\n",
    "        x = \"Flipper length (mm)\", y = \"Body mass (g)\",\n",
    "        color = \"Species\", shape = \"Species\"\n",
    "    ) +\n",
    "    scale_color_colorblind()"
   ]
  },
  {
   "cell_type": "code",
   "execution_count": 9,
   "id": "421cc2d9-7705-4311-a44f-609287e19b3c",
   "metadata": {},
   "outputs": [
    {
     "data": {
      "image/png": "[encoded data removed]",
      "text/plain": [
       "plot without title"
      ]
     },
     "metadata": {
      "image/png": {
       "height": 420,
       "width": 420
      }
     },
     "output_type": "display_data"
    }
   ],
   "source": [
    "ggplot(\n",
    "    data = penguins,\n",
    "    mapping = aes(x = flipper_length_mm, y = body_mass_g)\n",
    ") +\n",
    "    geom_point(mapping = aes(color = species, shape = species)) +\n",
    "    facet_wrap(~island) +\n",
    "    scale_color_colorblind()"
   ]
  }
 ],
 "metadata": {
  "kernelspec": {
   "display_name": "R",
   "language": "R",
   "name": "ir"
  },
  "language_info": {
   "codemirror_mode": "r",
   "file_extension": ".r",
   "mimetype": "text/x-r-source",
   "name": "R",
   "pygments_lexer": "r",
   "version": "4.1.3"
  }
 },
 "nbformat": 4,
 "nbformat_minor": 5
}
