{
 "cells": [
  {
   "cell_type": "markdown",
   "id": "577db437-1e9f-4582-b25f-cc7722f87c5f",
   "metadata": {},
   "source": [
    "# Homework 2\n",
    "\n",
    "## Reading The Data"
   ]
  },
  {
   "cell_type": "code",
   "execution_count": 1,
   "id": "b8a47ed6-cab5-43af-b604-92de6b7481ad",
   "metadata": {},
   "outputs": [
    {
     "name": "stderr",
     "output_type": "stream",
     "text": [
      "\n",
      "Attaching package: 'dplyr'\n",
      "\n",
      "\n",
      "The following objects are masked from 'package:stats':\n",
      "\n",
      "    filter, lag\n",
      "\n",
      "\n",
      "The following objects are masked from 'package:base':\n",
      "\n",
      "    intersect, setdiff, setequal, union\n",
      "\n",
      "\n"
     ]
    }
   ],
   "source": [
    "library(dplyr)\n",
    "library(readr)\n",
    "library(ggplot2)"
   ]
  },
  {
   "cell_type": "code",
   "execution_count": 2,
   "id": "5c096abc-bf80-4552-8b0c-dbdef0e0d1e8",
   "metadata": {},
   "outputs": [],
   "source": [
    "apartment_prices_df <- read.csv('https://raw.githubusercontent.com/su-mt4007/data/refs/heads/main/Booli_sold.csv', fileEncoding = 'UTF-8')\n",
    "swe_election_df <- read_delim('https://raw.githubusercontent.com/su-mt4007/data/refs/heads/main/2018_R_per_kommun.csv', \n",
    "                            delim = ';', locale = locale(encoding = 'UTF-8', decimal_mark = ','), show_col_types = FALSE)\n",
    "stroke_df <- read.csv('https://raw.githubusercontent.com/su-mt4007/data/refs/heads/main/stroke-data.csv')"
   ]
  },
  {
   "cell_type": "markdown",
   "id": "08589dba-a63c-4c60-9e70-135ca1cbc3aa",
   "metadata": {},
   "source": [
    "# Apartment Prices\n",
    "We start refining the dataframe by selecting the relevant variables and then creating a new variable that calculates the price per square meter (ppsqm)."
   ]
  },
  {
   "cell_type": "code",
   "execution_count": 3,
   "id": "127ad4ee-6117-44cf-b5b1-a4a13b7e44db",
   "metadata": {
    "scrolled": true
   },
   "outputs": [],
   "source": [
    "relevant_apartment_prices_df <- apartment_prices_df %>%\n",
    "    select(soldPrice, livingArea, soldDate, location.address.streetAddress) %>%\n",
    "    mutate(ppsqm = soldPrice / livingArea)"
   ]
  },
  {
   "cell_type": "markdown",
   "id": "955507ae-c378-4c4d-b8e9-f576f20fb7c5",
   "metadata": {},
   "source": [
    "Now we can rank the top 5 most expensive apartments (w.r.t ppsqm) by using a sort function."
   ]
  },
  {
   "cell_type": "code",
   "execution_count": 4,
   "id": "3cb87bb7-48b6-4e1f-8905-632673a37ec4",
   "metadata": {},
   "outputs": [
    {
     "data": {
      "text/html": [
       "<table class=\"dataframe\">\n",
       "<caption>A data.frame: 5 × 3</caption>\n",
       "<thead>\n",
       "\t<tr><th scope=col>location.address.streetAddress</th><th scope=col>soldDate</th><th scope=col>ppsqm</th></tr>\n",
       "\t<tr><th scope=col>&lt;chr&gt;</th><th scope=col>&lt;chr&gt;</th><th scope=col>&lt;dbl&gt;</th></tr>\n",
       "</thead>\n",
       "<tbody>\n",
       "\t<tr><td>Ekhagsvägen 8  </td><td>2016-01-21</td><td>104166.67</td></tr>\n",
       "\t<tr><td>Ekhagsvägen 8  </td><td>2016-06-21</td><td>102083.33</td></tr>\n",
       "\t<tr><td>Ekhagsvägen 10 </td><td>2016-04-28</td><td>100000.00</td></tr>\n",
       "\t<tr><td>Torphagsvägen 4</td><td>2017-06-01</td><td> 88400.00</td></tr>\n",
       "\t<tr><td>Docentbacken 1B</td><td>2016-04-19</td><td> 85501.86</td></tr>\n",
       "</tbody>\n",
       "</table>\n"
      ],
      "text/latex": [
       "A data.frame: 5 × 3\n",
       "\\begin{tabular}{lll}\n",
       " location.address.streetAddress & soldDate & ppsqm\\\\\n",
       " <chr> & <chr> & <dbl>\\\\\n",
       "\\hline\n",
       "\t Ekhagsvägen 8   & 2016-01-21 & 104166.67\\\\\n",
       "\t Ekhagsvägen 8   & 2016-06-21 & 102083.33\\\\\n",
       "\t Ekhagsvägen 10  & 2016-04-28 & 100000.00\\\\\n",
       "\t Torphagsvägen 4 & 2017-06-01 &  88400.00\\\\\n",
       "\t Docentbacken 1B & 2016-04-19 &  85501.86\\\\\n",
       "\\end{tabular}\n"
      ],
      "text/markdown": [
       "\n",
       "A data.frame: 5 × 3\n",
       "\n",
       "| location.address.streetAddress &lt;chr&gt; | soldDate &lt;chr&gt; | ppsqm &lt;dbl&gt; |\n",
       "|---|---|---|\n",
       "| Ekhagsvägen 8   | 2016-01-21 | 104166.67 |\n",
       "| Ekhagsvägen 8   | 2016-06-21 | 102083.33 |\n",
       "| Ekhagsvägen 10  | 2016-04-28 | 100000.00 |\n",
       "| Torphagsvägen 4 | 2017-06-01 |  88400.00 |\n",
       "| Docentbacken 1B | 2016-04-19 |  85501.86 |\n",
       "\n"
      ],
      "text/plain": [
       "  location.address.streetAddress soldDate   ppsqm    \n",
       "1 Ekhagsvägen 8                  2016-01-21 104166.67\n",
       "2 Ekhagsvägen 8                  2016-06-21 102083.33\n",
       "3 Ekhagsvägen 10                 2016-04-28 100000.00\n",
       "4 Torphagsvägen 4                2017-06-01  88400.00\n",
       "5 Docentbacken 1B                2016-04-19  85501.86"
      ]
     },
     "metadata": {},
     "output_type": "display_data"
    }
   ],
   "source": [
    "relevant_apartment_prices_df %>%\n",
    "    select(location.address.streetAddress, soldDate, ppsqm) %>%\n",
    "    arrange(desc(ppsqm), .by_group = FALSE) %>%\n",
    "    slice_head(n = 5)"
   ]
  },
  {
   "cell_type": "markdown",
   "id": "be9163a4-da99-4de3-9c8f-1567cba046b1",
   "metadata": {},
   "source": [
    "Next is to calculate the average ppsqm in Ekhagen."
   ]
  },
  {
   "cell_type": "code",
   "execution_count": 5,
   "id": "57577c06-8640-45e6-a621-0df80ba45dc2",
   "metadata": {},
   "outputs": [
    {
     "data": {
      "text/html": [
       "<table class=\"dataframe\">\n",
       "<caption>A data.frame: 1 × 1</caption>\n",
       "<thead>\n",
       "\t<tr><th scope=col>mean_ppsqm</th></tr>\n",
       "\t<tr><th scope=col>&lt;dbl&gt;</th></tr>\n",
       "</thead>\n",
       "<tbody>\n",
       "\t<tr><td>58759.38</td></tr>\n",
       "</tbody>\n",
       "</table>\n"
      ],
      "text/latex": [
       "A data.frame: 1 × 1\n",
       "\\begin{tabular}{l}\n",
       " mean\\_ppsqm\\\\\n",
       " <dbl>\\\\\n",
       "\\hline\n",
       "\t 58759.38\\\\\n",
       "\\end{tabular}\n"
      ],
      "text/markdown": [
       "\n",
       "A data.frame: 1 × 1\n",
       "\n",
       "| mean_ppsqm &lt;dbl&gt; |\n",
       "|---|\n",
       "| 58759.38 |\n",
       "\n"
      ],
      "text/plain": [
       "  mean_ppsqm\n",
       "1 58759.38  "
      ]
     },
     "metadata": {},
     "output_type": "display_data"
    }
   ],
   "source": [
    "relevant_apartment_prices_df %>%\n",
    "    summarize(mean_ppsqm = mean(ppsqm, na.rm = TRUE))"
   ]
  },
  {
   "cell_type": "markdown",
   "id": "d4a9e0a9-06c7-486a-a953-b05ce4974f34",
   "metadata": {},
   "source": [
    "Something that I found interesting was that the top three most expensive apartments was sold in the year 2016, indicating that maybe that year was at its most peak. We can rank each year with respect to the average ppsqm and check whether this is true."
   ]
  },
  {
   "cell_type": "code",
   "execution_count": 6,
   "id": "ac5a302f-4307-4dbf-9465-07cfa992f110",
   "metadata": {},
   "outputs": [
    {
     "name": "stderr",
     "output_type": "stream",
     "text": [
      "\n",
      "Attaching package: 'lubridate'\n",
      "\n",
      "\n",
      "The following objects are masked from 'package:base':\n",
      "\n",
      "    date, intersect, setdiff, union\n",
      "\n",
      "\n"
     ]
    },
    {
     "data": {
      "text/html": [
       "<table class=\"dataframe\">\n",
       "<caption>A tibble: 7 × 2</caption>\n",
       "<thead>\n",
       "\t<tr><th scope=col>year</th><th scope=col>avg_ppsqm</th></tr>\n",
       "\t<tr><th scope=col>&lt;dbl&gt;</th><th scope=col>&lt;dbl&gt;</th></tr>\n",
       "</thead>\n",
       "<tbody>\n",
       "\t<tr><td>2016</td><td>67287.56</td></tr>\n",
       "\t<tr><td>2017</td><td>66340.71</td></tr>\n",
       "\t<tr><td>2018</td><td>64213.61</td></tr>\n",
       "\t<tr><td>2015</td><td>58834.71</td></tr>\n",
       "\t<tr><td>2014</td><td>50464.61</td></tr>\n",
       "\t<tr><td>2012</td><td>49030.83</td></tr>\n",
       "\t<tr><td>2013</td><td>46193.42</td></tr>\n",
       "</tbody>\n",
       "</table>\n"
      ],
      "text/latex": [
       "A tibble: 7 × 2\n",
       "\\begin{tabular}{ll}\n",
       " year & avg\\_ppsqm\\\\\n",
       " <dbl> & <dbl>\\\\\n",
       "\\hline\n",
       "\t 2016 & 67287.56\\\\\n",
       "\t 2017 & 66340.71\\\\\n",
       "\t 2018 & 64213.61\\\\\n",
       "\t 2015 & 58834.71\\\\\n",
       "\t 2014 & 50464.61\\\\\n",
       "\t 2012 & 49030.83\\\\\n",
       "\t 2013 & 46193.42\\\\\n",
       "\\end{tabular}\n"
      ],
      "text/markdown": [
       "\n",
       "A tibble: 7 × 2\n",
       "\n",
       "| year &lt;dbl&gt; | avg_ppsqm &lt;dbl&gt; |\n",
       "|---|---|\n",
       "| 2016 | 67287.56 |\n",
       "| 2017 | 66340.71 |\n",
       "| 2018 | 64213.61 |\n",
       "| 2015 | 58834.71 |\n",
       "| 2014 | 50464.61 |\n",
       "| 2012 | 49030.83 |\n",
       "| 2013 | 46193.42 |\n",
       "\n"
      ],
      "text/plain": [
       "  year avg_ppsqm\n",
       "1 2016 67287.56 \n",
       "2 2017 66340.71 \n",
       "3 2018 64213.61 \n",
       "4 2015 58834.71 \n",
       "5 2014 50464.61 \n",
       "6 2012 49030.83 \n",
       "7 2013 46193.42 "
      ]
     },
     "metadata": {},
     "output_type": "display_data"
    }
   ],
   "source": [
    "library(lubridate)\n",
    "\n",
    "most_expensive_year <- relevant_apartment_prices_df %>% \n",
    "    mutate(soldDate = as.Date(soldDate, format = \"%Y-%m-%d\"))\n",
    "\n",
    "most_expensive_year <- relevant_apartment_prices_df %>%\n",
    "    mutate(year = year(soldDate))\n",
    "\n",
    "most_expensive_year %>%\n",
    "    group_by(year) %>%\n",
    "    summarize(avg_ppsqm = mean(ppsqm, na.rm = TRUE)) %>%\n",
    "    arrange(desc(avg_ppsqm))"
   ]
  },
  {
   "cell_type": "markdown",
   "id": "b091fd36-368e-4844-80ad-a2b2f38063f4",
   "metadata": {},
   "source": [
    "The ppsqm did in fact peak in 2016.\n",
    "\n",
    "# The Swedish Election of 2018\n",
    "First task is to calculate the total number of legitimate votes in Stockholm during the election. This can be done by firstly create a subset of the original data with `filter()`, and then use `summarize()` together with `sum()`.\n"
   ]
  },
  {
   "cell_type": "code",
   "execution_count": 7,
   "id": "cbd6325b-55ff-4f8a-8a62-c19f642f3933",
   "metadata": {},
   "outputs": [
    {
     "data": {
      "text/html": [
       "<table class=\"dataframe\">\n",
       "<caption>A tibble: 1 × 1</caption>\n",
       "<thead>\n",
       "\t<tr><th scope=col>legitimate_votes_total</th></tr>\n",
       "\t<tr><th scope=col>&lt;dbl&gt;</th></tr>\n",
       "</thead>\n",
       "<tbody>\n",
       "\t<tr><td>1426237</td></tr>\n",
       "</tbody>\n",
       "</table>\n"
      ],
      "text/latex": [
       "A tibble: 1 × 1\n",
       "\\begin{tabular}{l}\n",
       " legitimate\\_votes\\_total\\\\\n",
       " <dbl>\\\\\n",
       "\\hline\n",
       "\t 1426237\\\\\n",
       "\\end{tabular}\n"
      ],
      "text/markdown": [
       "\n",
       "A tibble: 1 × 1\n",
       "\n",
       "| legitimate_votes_total &lt;dbl&gt; |\n",
       "|---|\n",
       "| 1426237 |\n",
       "\n"
      ],
      "text/plain": [
       "  legitimate_votes_total\n",
       "1 1426237               "
      ]
     },
     "metadata": {},
     "output_type": "display_data"
    }
   ],
   "source": [
    "stockholm_df <- swe_election_df %>%\n",
    "    filter(LÄNSNAMN == 'Stockholms län')\n",
    "\n",
    "stockholm_df %>%\n",
    "    summarize(legitimate_votes_total = sum(`RÖSTER GILTIGA`, na.rm = TRUE))\n"
   ]
  },
  {
   "cell_type": "markdown",
   "id": "b0294308-bd72-4df4-adac-d9af851b52f5",
   "metadata": {},
   "source": [
    "Next task we want to investigate in which municipality did the Social Democratic Party garner the highest voting percentage. Since the column `S` represents the percentage garnered for a specific municipality, we can just arrange the column in decsending order and then display the top one."
   ]
  },
  {
   "cell_type": "code",
   "execution_count": 8,
   "id": "183f7b60-06be-445e-bc8d-f1522fba00c0",
   "metadata": {},
   "outputs": [
    {
     "data": {
      "text/html": [
       "<table class=\"dataframe\">\n",
       "<caption>A tibble: 1 × 2</caption>\n",
       "<thead>\n",
       "\t<tr><th scope=col>S</th><th scope=col>KOMMUNNAMN</th></tr>\n",
       "\t<tr><th scope=col>&lt;dbl&gt;</th><th scope=col>&lt;chr&gt;</th></tr>\n",
       "</thead>\n",
       "<tbody>\n",
       "\t<tr><td>52.18</td><td>Munkfors</td></tr>\n",
       "</tbody>\n",
       "</table>\n"
      ],
      "text/latex": [
       "A tibble: 1 × 2\n",
       "\\begin{tabular}{ll}\n",
       " S & KOMMUNNAMN\\\\\n",
       " <dbl> & <chr>\\\\\n",
       "\\hline\n",
       "\t 52.18 & Munkfors\\\\\n",
       "\\end{tabular}\n"
      ],
      "text/markdown": [
       "\n",
       "A tibble: 1 × 2\n",
       "\n",
       "| S &lt;dbl&gt; | KOMMUNNAMN &lt;chr&gt; |\n",
       "|---|---|\n",
       "| 52.18 | Munkfors |\n",
       "\n"
      ],
      "text/plain": [
       "  S     KOMMUNNAMN\n",
       "1 52.18 Munkfors  "
      ]
     },
     "metadata": {},
     "output_type": "display_data"
    }
   ],
   "source": [
    "swe_election_df %>%\n",
    "    select(S, KOMMUNNAMN) %>%\n",
    "    arrange(desc(S), .by_group = FALSE) %>%\n",
    "    slice_head(n = 1)"
   ]
  },
  {
   "cell_type": "markdown",
   "id": "3d05e677-90e8-4056-8db0-4a7fb7e2a277",
   "metadata": {},
   "source": [
    "Lastly, we want to rank the top three municipialities with highest participation and presenting this in the form of a table. Like the previous task, we can use the arrange operation with the `desc()` function, but now on the column `VALDELTAGANDE`, and then display the three first rows using `slice_head(n = 3)`"
   ]
  },
  {
   "cell_type": "code",
   "execution_count": 9,
   "id": "992fd3f5-0b17-4654-b219-e2059b0bfe17",
   "metadata": {},
   "outputs": [
    {
     "data": {
      "text/html": [
       "<table class=\"dataframe\">\n",
       "<caption>A tibble: 3 × 2</caption>\n",
       "<thead>\n",
       "\t<tr><th scope=col>KOMMUNNAMN</th><th scope=col>VALDELTAGANDE</th></tr>\n",
       "\t<tr><th scope=col>&lt;chr&gt;</th><th scope=col>&lt;dbl&gt;</th></tr>\n",
       "</thead>\n",
       "<tbody>\n",
       "\t<tr><td>Lomma   </td><td>93.86</td></tr>\n",
       "\t<tr><td>Habo    </td><td>93.35</td></tr>\n",
       "\t<tr><td>Vellinge</td><td>93.13</td></tr>\n",
       "</tbody>\n",
       "</table>\n"
      ],
      "text/latex": [
       "A tibble: 3 × 2\n",
       "\\begin{tabular}{ll}\n",
       " KOMMUNNAMN & VALDELTAGANDE\\\\\n",
       " <chr> & <dbl>\\\\\n",
       "\\hline\n",
       "\t Lomma    & 93.86\\\\\n",
       "\t Habo     & 93.35\\\\\n",
       "\t Vellinge & 93.13\\\\\n",
       "\\end{tabular}\n"
      ],
      "text/markdown": [
       "\n",
       "A tibble: 3 × 2\n",
       "\n",
       "| KOMMUNNAMN &lt;chr&gt; | VALDELTAGANDE &lt;dbl&gt; |\n",
       "|---|---|\n",
       "| Lomma    | 93.86 |\n",
       "| Habo     | 93.35 |\n",
       "| Vellinge | 93.13 |\n",
       "\n"
      ],
      "text/plain": [
       "  KOMMUNNAMN VALDELTAGANDE\n",
       "1 Lomma      93.86        \n",
       "2 Habo       93.35        \n",
       "3 Vellinge   93.13        "
      ]
     },
     "metadata": {},
     "output_type": "display_data"
    }
   ],
   "source": [
    "swe_election_df %>%\n",
    "    select(KOMMUNNAMN, VALDELTAGANDE) %>%\n",
    "    arrange(desc(VALDELTAGANDE), .by_group = FALSE) %>%\n",
    "    slice_head(n = 3)"
   ]
  },
  {
   "cell_type": "markdown",
   "id": "5c335d4d-0998-4fa3-928a-441ade2a8e3d",
   "metadata": {},
   "source": [
    "## Predicting Strokes\n",
    "I started with doing different plots against the response variable (stroke status). The one I landed on is the boxplot below."
   ]
  },
  {
   "cell_type": "code",
   "execution_count": 10,
   "id": "0cc149b9-0e7a-4770-957f-808d644a0932",
   "metadata": {},
   "outputs": [
    {
     "data": {
      "image/png": "[encoded data removed]",
      "text/plain": [
       "plot without title"
      ]
     },
     "metadata": {
      "image/png": {
       "height": 420,
       "width": 420
      }
     },
     "output_type": "display_data"
    }
   ],
   "source": [
    "ggplot(stroke_df, aes(x = factor(stroke), y = age)) +\n",
    "    geom_boxplot() +\n",
    "    labs(x = \"Stroke Status\", y = \"Age\",\n",
    "         title = \"Age Distribution by Stroke Status\")"
   ]
  },
  {
   "cell_type": "markdown",
   "id": "b3164912-c316-45d5-8b49-94729e462759",
   "metadata": {},
   "source": [
    "From this boxplot, we can conclude that stroke occurrence is associated with age. As age increases, the likelihood of experiencing a stroke also increases."
   ]
  }
 ],
 "metadata": {
  "kernelspec": {
   "display_name": "R",
   "language": "R",
   "name": "ir"
  },
  "language_info": {
   "codemirror_mode": "r",
   "file_extension": ".r",
   "mimetype": "text/x-r-source",
   "name": "R",
   "pygments_lexer": "r",
   "version": "4.1.3"
  }
 },
 "nbformat": 4,
 "nbformat_minor": 5
}
