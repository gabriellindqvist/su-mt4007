{
 "cells": [
  {
   "cell_type": "markdown",
   "id": "51528592-120f-4f4c-912a-a7fa053d6bf8",
   "metadata": {},
   "source": [
    "# Homework 4\n",
    "\n",
    "## Joining Data\n",
    "We start by saving the cleaned data from the previous homework using `write.csv()`. Next step is to read the cleaned data and the file `pop_data.csv`. We use `head()` to get a quick overview of the new data."
   ]
  },
  {
   "cell_type": "code",
   "execution_count": 1,
   "id": "b66c6635-2874-4818-84cf-1e2b7cb7aa83",
   "metadata": {},
   "outputs": [
    {
     "data": {
      "text/html": [
       "<table class=\"dataframe\">\n",
       "<caption>A data.frame: 6 × 63</caption>\n",
       "<thead>\n",
       "\t<tr><th></th><th scope=col>X</th><th scope=col>iso.3</th><th scope=col>X1960</th><th scope=col>X1961</th><th scope=col>X1962</th><th scope=col>X1963</th><th scope=col>X1964</th><th scope=col>X1965</th><th scope=col>X1966</th><th scope=col>X1967</th><th scope=col>...</th><th scope=col>X2011</th><th scope=col>X2012</th><th scope=col>X2013</th><th scope=col>X2014</th><th scope=col>X2015</th><th scope=col>X2016</th><th scope=col>X2017</th><th scope=col>X2018</th><th scope=col>X2019</th><th scope=col>X2020</th></tr>\n",
       "\t<tr><th></th><th scope=col>&lt;int&gt;</th><th scope=col>&lt;chr&gt;</th><th scope=col>&lt;dbl&gt;</th><th scope=col>&lt;dbl&gt;</th><th scope=col>&lt;dbl&gt;</th><th scope=col>&lt;dbl&gt;</th><th scope=col>&lt;dbl&gt;</th><th scope=col>&lt;dbl&gt;</th><th scope=col>&lt;dbl&gt;</th><th scope=col>&lt;dbl&gt;</th><th scope=col>...</th><th scope=col>&lt;dbl&gt;</th><th scope=col>&lt;dbl&gt;</th><th scope=col>&lt;dbl&gt;</th><th scope=col>&lt;dbl&gt;</th><th scope=col>&lt;dbl&gt;</th><th scope=col>&lt;dbl&gt;</th><th scope=col>&lt;dbl&gt;</th><th scope=col>&lt;dbl&gt;</th><th scope=col>&lt;dbl&gt;</th><th scope=col>&lt;dbl&gt;</th></tr>\n",
       "</thead>\n",
       "<tbody>\n",
       "\t<tr><th scope=row>1</th><td>0</td><td>ABW</td><td>    54608</td><td>    55811</td><td>    56682</td><td>    57475</td><td>    58178</td><td>    58782</td><td>    59291</td><td>    59522</td><td>...</td><td>   101288</td><td>   102112</td><td>   102880</td><td>   103594</td><td>   104257</td><td>   104874</td><td>   105439</td><td>   105962</td><td>   106442</td><td>   106585</td></tr>\n",
       "\t<tr><th scope=row>2</th><td>1</td><td>AFE</td><td>130692579</td><td>134169237</td><td>137835590</td><td>141630546</td><td>145605995</td><td>149742351</td><td>153955516</td><td>158313235</td><td>...</td><td>537792950</td><td>552530654</td><td>567892149</td><td>583651101</td><td>600008424</td><td>616377605</td><td>632746570</td><td>649757148</td><td>667242986</td><td>685112979</td></tr>\n",
       "\t<tr><th scope=row>3</th><td>2</td><td>AFG</td><td>  8622466</td><td>  8790140</td><td>  8969047</td><td>  9157465</td><td>  9355514</td><td>  9565147</td><td>  9783147</td><td> 10010030</td><td>...</td><td> 29249157</td><td> 30466479</td><td> 31541209</td><td> 32716210</td><td> 33753499</td><td> 34636207</td><td> 35643418</td><td> 36686784</td><td> 37769499</td><td> 38972230</td></tr>\n",
       "\t<tr><th scope=row>4</th><td>3</td><td>AFW</td><td> 97256290</td><td> 99314028</td><td>101445032</td><td>103667517</td><td>105959979</td><td>108336203</td><td>110798486</td><td>113319950</td><td>...</td><td>366489204</td><td>376797999</td><td>387204553</td><td>397855507</td><td>408690375</td><td>419778384</td><td>431138704</td><td>442646825</td><td>454306063</td><td>466189102</td></tr>\n",
       "\t<tr><th scope=row>5</th><td>4</td><td>AGO</td><td>  5357195</td><td>  5441333</td><td>  5521400</td><td>  5599827</td><td>  5673199</td><td>  5736582</td><td>  5787044</td><td>  5827503</td><td>...</td><td> 24259111</td><td> 25188292</td><td> 26147002</td><td> 27128337</td><td> 28127721</td><td> 29154746</td><td> 30208628</td><td> 31273533</td><td> 32353588</td><td> 33428486</td></tr>\n",
       "\t<tr><th scope=row>6</th><td>5</td><td>ALB</td><td>  1608800</td><td>  1659800</td><td>  1711319</td><td>  1762621</td><td>  1814135</td><td>  1864791</td><td>  1914573</td><td>  1965598</td><td>...</td><td>  2905195</td><td>  2900401</td><td>  2895092</td><td>  2889104</td><td>  2880703</td><td>  2876101</td><td>  2873457</td><td>  2866376</td><td>  2854191</td><td>  2837849</td></tr>\n",
       "</tbody>\n",
       "</table>\n"
      ],
      "text/latex": [
       "A data.frame: 6 × 63\n",
       "\\begin{tabular}{r|lllllllllllllllllllll}\n",
       "  & X & iso.3 & X1960 & X1961 & X1962 & X1963 & X1964 & X1965 & X1966 & X1967 & ... & X2011 & X2012 & X2013 & X2014 & X2015 & X2016 & X2017 & X2018 & X2019 & X2020\\\\\n",
       "  & <int> & <chr> & <dbl> & <dbl> & <dbl> & <dbl> & <dbl> & <dbl> & <dbl> & <dbl> & ... & <dbl> & <dbl> & <dbl> & <dbl> & <dbl> & <dbl> & <dbl> & <dbl> & <dbl> & <dbl>\\\\\n",
       "\\hline\n",
       "\t1 & 0 & ABW &     54608 &     55811 &     56682 &     57475 &     58178 &     58782 &     59291 &     59522 & ... &    101288 &    102112 &    102880 &    103594 &    104257 &    104874 &    105439 &    105962 &    106442 &    106585\\\\\n",
       "\t2 & 1 & AFE & 130692579 & 134169237 & 137835590 & 141630546 & 145605995 & 149742351 & 153955516 & 158313235 & ... & 537792950 & 552530654 & 567892149 & 583651101 & 600008424 & 616377605 & 632746570 & 649757148 & 667242986 & 685112979\\\\\n",
       "\t3 & 2 & AFG &   8622466 &   8790140 &   8969047 &   9157465 &   9355514 &   9565147 &   9783147 &  10010030 & ... &  29249157 &  30466479 &  31541209 &  32716210 &  33753499 &  34636207 &  35643418 &  36686784 &  37769499 &  38972230\\\\\n",
       "\t4 & 3 & AFW &  97256290 &  99314028 & 101445032 & 103667517 & 105959979 & 108336203 & 110798486 & 113319950 & ... & 366489204 & 376797999 & 387204553 & 397855507 & 408690375 & 419778384 & 431138704 & 442646825 & 454306063 & 466189102\\\\\n",
       "\t5 & 4 & AGO &   5357195 &   5441333 &   5521400 &   5599827 &   5673199 &   5736582 &   5787044 &   5827503 & ... &  24259111 &  25188292 &  26147002 &  27128337 &  28127721 &  29154746 &  30208628 &  31273533 &  32353588 &  33428486\\\\\n",
       "\t6 & 5 & ALB &   1608800 &   1659800 &   1711319 &   1762621 &   1814135 &   1864791 &   1914573 &   1965598 & ... &   2905195 &   2900401 &   2895092 &   2889104 &   2880703 &   2876101 &   2873457 &   2866376 &   2854191 &   2837849\\\\\n",
       "\\end{tabular}\n"
      ],
      "text/markdown": [
       "\n",
       "A data.frame: 6 × 63\n",
       "\n",
       "| <!--/--> | X &lt;int&gt; | iso.3 &lt;chr&gt; | X1960 &lt;dbl&gt; | X1961 &lt;dbl&gt; | X1962 &lt;dbl&gt; | X1963 &lt;dbl&gt; | X1964 &lt;dbl&gt; | X1965 &lt;dbl&gt; | X1966 &lt;dbl&gt; | X1967 &lt;dbl&gt; | ... ... | X2011 &lt;dbl&gt; | X2012 &lt;dbl&gt; | X2013 &lt;dbl&gt; | X2014 &lt;dbl&gt; | X2015 &lt;dbl&gt; | X2016 &lt;dbl&gt; | X2017 &lt;dbl&gt; | X2018 &lt;dbl&gt; | X2019 &lt;dbl&gt; | X2020 &lt;dbl&gt; |\n",
       "|---|---|---|---|---|---|---|---|---|---|---|---|---|---|---|---|---|---|---|---|---|---|\n",
       "| 1 | 0 | ABW |     54608 |     55811 |     56682 |     57475 |     58178 |     58782 |     59291 |     59522 | ... |    101288 |    102112 |    102880 |    103594 |    104257 |    104874 |    105439 |    105962 |    106442 |    106585 |\n",
       "| 2 | 1 | AFE | 130692579 | 134169237 | 137835590 | 141630546 | 145605995 | 149742351 | 153955516 | 158313235 | ... | 537792950 | 552530654 | 567892149 | 583651101 | 600008424 | 616377605 | 632746570 | 649757148 | 667242986 | 685112979 |\n",
       "| 3 | 2 | AFG |   8622466 |   8790140 |   8969047 |   9157465 |   9355514 |   9565147 |   9783147 |  10010030 | ... |  29249157 |  30466479 |  31541209 |  32716210 |  33753499 |  34636207 |  35643418 |  36686784 |  37769499 |  38972230 |\n",
       "| 4 | 3 | AFW |  97256290 |  99314028 | 101445032 | 103667517 | 105959979 | 108336203 | 110798486 | 113319950 | ... | 366489204 | 376797999 | 387204553 | 397855507 | 408690375 | 419778384 | 431138704 | 442646825 | 454306063 | 466189102 |\n",
       "| 5 | 4 | AGO |   5357195 |   5441333 |   5521400 |   5599827 |   5673199 |   5736582 |   5787044 |   5827503 | ... |  24259111 |  25188292 |  26147002 |  27128337 |  28127721 |  29154746 |  30208628 |  31273533 |  32353588 |  33428486 |\n",
       "| 6 | 5 | ALB |   1608800 |   1659800 |   1711319 |   1762621 |   1814135 |   1864791 |   1914573 |   1965598 | ... |   2905195 |   2900401 |   2895092 |   2889104 |   2880703 |   2876101 |   2873457 |   2866376 |   2854191 |   2837849 |\n",
       "\n"
      ],
      "text/plain": [
       "  X iso.3 X1960     X1961     X1962     X1963     X1964     X1965     X1966    \n",
       "1 0 ABW       54608     55811     56682     57475     58178     58782     59291\n",
       "2 1 AFE   130692579 134169237 137835590 141630546 145605995 149742351 153955516\n",
       "3 2 AFG     8622466   8790140   8969047   9157465   9355514   9565147   9783147\n",
       "4 3 AFW    97256290  99314028 101445032 103667517 105959979 108336203 110798486\n",
       "5 4 AGO     5357195   5441333   5521400   5599827   5673199   5736582   5787044\n",
       "6 5 ALB     1608800   1659800   1711319   1762621   1814135   1864791   1914573\n",
       "  X1967     ... X2011     X2012     X2013     X2014     X2015     X2016    \n",
       "1     59522 ...    101288    102112    102880    103594    104257    104874\n",
       "2 158313235 ... 537792950 552530654 567892149 583651101 600008424 616377605\n",
       "3  10010030 ...  29249157  30466479  31541209  32716210  33753499  34636207\n",
       "4 113319950 ... 366489204 376797999 387204553 397855507 408690375 419778384\n",
       "5   5827503 ...  24259111  25188292  26147002  27128337  28127721  29154746\n",
       "6   1965598 ...   2905195   2900401   2895092   2889104   2880703   2876101\n",
       "  X2017     X2018     X2019     X2020    \n",
       "1    105439    105962    106442    106585\n",
       "2 632746570 649757148 667242986 685112979\n",
       "3  35643418  36686784  37769499  38972230\n",
       "4 431138704 442646825 454306063 466189102\n",
       "5  30208628  31273533  32353588  33428486\n",
       "6   2873457   2866376   2854191   2837849"
      ]
     },
     "metadata": {},
     "output_type": "display_data"
    }
   ],
   "source": [
    "pop_df <- read.csv(\n",
    "    \"https://raw.githubusercontent.com/su-mt4007/data/refs/heads/main/pop_data.csv\",\n",
    "    fileEncoding = \"UTF-8\"\n",
    ")\n",
    "cell_phones_df <- read.csv(\"cell_phones_total.csv\")\n",
    "head(pop_df)"
   ]
  },
  {
   "cell_type": "markdown",
   "id": "6fad0cea-7e2e-4dd0-ba4c-b2e1c4e61d0f",
   "metadata": {},
   "source": [
    "To handle any missing values, we implement **Last Observation Carried Forward and/or Backward** method(s). These two methods seems appropiate to implement where each cell represents a country's population size on a given year.\n",
    "\n",
    "The implementation will be done by loading the package `zoo` and use the function `na.locf()`."
   ]
  },
  {
   "cell_type": "code",
   "execution_count": 2,
   "id": "5b743cb8-4c51-4109-b3b5-df8188721191",
   "metadata": {},
   "outputs": [
    {
     "name": "stderr",
     "output_type": "stream",
     "text": [
      "-- \u001b[1mAttaching core tidyverse packages\u001b[22m ---------------------------------------------------------------- tidyverse 2.0.0 --\n",
      "\u001b[32mv\u001b[39m \u001b[34mdplyr    \u001b[39m 1.1.4     \u001b[32mv\u001b[39m \u001b[34mreadr    \u001b[39m 2.1.5\n",
      "\u001b[32mv\u001b[39m \u001b[34mforcats  \u001b[39m 1.0.0     \u001b[32mv\u001b[39m \u001b[34mstringr  \u001b[39m 1.5.0\n",
      "\u001b[32mv\u001b[39m \u001b[34mggplot2  \u001b[39m 3.5.1     \u001b[32mv\u001b[39m \u001b[34mtibble   \u001b[39m 3.2.1\n",
      "\u001b[32mv\u001b[39m \u001b[34mlubridate\u001b[39m 1.9.3     \u001b[32mv\u001b[39m \u001b[34mtidyr    \u001b[39m 1.3.1\n",
      "\u001b[32mv\u001b[39m \u001b[34mpurrr    \u001b[39m 1.0.2     \n",
      "-- \u001b[1mConflicts\u001b[22m ---------------------------------------------------------------------------------- tidyverse_conflicts() --\n",
      "\u001b[31mx\u001b[39m \u001b[34mdplyr\u001b[39m::\u001b[32mfilter()\u001b[39m masks \u001b[34mstats\u001b[39m::filter()\n",
      "\u001b[31mx\u001b[39m \u001b[34mdplyr\u001b[39m::\u001b[32mlag()\u001b[39m    masks \u001b[34mstats\u001b[39m::lag()\n",
      "\u001b[36mi\u001b[39m Use the conflicted package (\u001b[3m\u001b[34m<http://conflicted.r-lib.org/>\u001b[39m\u001b[23m) to force all conflicts to become errors\n",
      "\n",
      "Attaching package: 'zoo'\n",
      "\n",
      "\n",
      "The following objects are masked from 'package:base':\n",
      "\n",
      "    as.Date, as.Date.numeric\n",
      "\n",
      "\n"
     ]
    },
    {
     "data": {
      "text/html": [
       "91"
      ],
      "text/latex": [
       "91"
      ],
      "text/markdown": [
       "91"
      ],
      "text/plain": [
       "[1] 91"
      ]
     },
     "metadata": {},
     "output_type": "display_data"
    }
   ],
   "source": [
    "library(tidyverse)\n",
    "library(zoo)\n",
    "\n",
    "# Implement LOCB within each country\n",
    "pop_clean <- pop_df %>%\n",
    "  group_by(iso.3) %>%\n",
    "  mutate(\n",
    "      across(where(is.numeric), ~ na.locf(na.locf(.x, na.rm = FALSE), na.rm = FALSE, fromLast = TRUE))\n",
    "  ) %>%\n",
    "  ungroup()\n",
    "\n",
    "# Check if we filled missing values\n",
    "sum(is.na(pop_clean))"
   ]
  },
  {
   "cell_type": "markdown",
   "id": "4b1f4ef6-5c09-4d62-af41-2e08709b1cc9",
   "metadata": {},
   "source": [
    "There are still 91 missing values after doing imputation using LOCB row-wise. After some investigation, I found that two rows still contain missing values. \n",
    "\n",
    "The first country (iso-3 INX) only contains missing values, which explains why the imputation did not work on that specific row. Since there are no realistic way to estimate the population size, we remove that country from the data. \n",
    "\n",
    "The second country (iso-3 PSE), still contains missing values and I do not understand why. LOCB should work because the last entry in that specific row has a value. In any case, I will fill those rows manually using the mean of PSE population."
   ]
  },
  {
   "cell_type": "code",
   "execution_count": 3,
   "id": "55e1696b-145e-44c8-9c3e-9e01ea45558a",
   "metadata": {},
   "outputs": [],
   "source": [
    "# Extract numeric values for PSE and drop missing values\n",
    "pse_non_missing <- pop_clean %>%\n",
    "    select(-X) %>%\n",
    "    filter(iso.3 == \"PSE\") %>%\n",
    "    select(where(is.numeric)) %>%\n",
    "    unlist() %>%    # Convert to a numeric vector\n",
    "    na.omit()       # Remove missing values\n",
    "\n",
    "# Compute the mean and round it\n",
    "pse_mean <- round(mean(pse_non_missing))\n",
    "\n",
    "# Replace missing values in the PSE row with the computed mean and remove INX\n",
    "pop_clean <- pop_clean %>%\n",
    "    filter(iso.3 != \"INX\") %>%\n",
    "    mutate(across(where(is.numeric), ~ ifelse(iso.3 == \"PSE\" & is.na(.), pse_mean, .)))"
   ]
  },
  {
   "cell_type": "markdown",
   "id": "b7c2c20c-93cc-4a12-8102-1dc8fb728e21",
   "metadata": {},
   "source": [
    "Next step is to reshape both datasets by pivotting into the right format, specifically into long format using `pivot_longer()`."
   ]
  },
  {
   "cell_type": "code",
   "execution_count": 4,
   "id": "fbad2aad-d1a6-4d25-a686-7d3e6058b1d5",
   "metadata": {},
   "outputs": [],
   "source": [
    "# Reshape pop_cleaned from wide to long format\n",
    "pop_long <- pop_clean %>%\n",
    "    select(-X) %>% # Exclude column X\n",
    "    pivot_longer(\n",
    "        cols = starts_with(\"X\"),\n",
    "        names_to = \"year\",\n",
    "        values_to = \"population\",\n",
    "    ) %>%\n",
    "    mutate(year = as.integer(str_remove(year, \"X\"))) # Remove \"X\" from year\n",
    "\n",
    "# Reshape cell_phones_total from wide to long format\n",
    "cell_phones_long <- cell_phones_df %>%\n",
    "    pivot_longer(\n",
    "        cols = starts_with(\"X\"),\n",
    "        names_to = \"year\",\n",
    "        values_to = \"n_cellphones\"\n",
    "    ) %>%\n",
    "    mutate(year = as.integer(str_remove(year, \"X\")))"
   ]
  },
  {
   "cell_type": "markdown",
   "id": "55c40477-30ff-4e65-9005-522355f125e7",
   "metadata": {},
   "source": [
    "We are now ready to join the two datasets using `inner_join()` and then present a table as the one provided in the assignment."
   ]
  },
  {
   "cell_type": "code",
   "execution_count": 5,
   "id": "dd4df480-4c50-4d56-932a-c0472de4e33d",
   "metadata": {},
   "outputs": [
    {
     "data": {
      "text/html": [
       "<table class=\"dataframe\">\n",
       "<caption>A tibble: 5 × 4</caption>\n",
       "<thead>\n",
       "\t<tr><th scope=col>iso.3</th><th scope=col>year</th><th scope=col>n_cellphones</th><th scope=col>population</th></tr>\n",
       "\t<tr><th scope=col>&lt;chr&gt;</th><th scope=col>&lt;int&gt;</th><th scope=col>&lt;dbl&gt;</th><th scope=col>&lt;dbl&gt;</th></tr>\n",
       "</thead>\n",
       "<tbody>\n",
       "\t<tr><td>ABW</td><td>2019</td><td>22600000</td><td>  106442</td></tr>\n",
       "\t<tr><td>AFG</td><td>2019</td><td>22600000</td><td>37769499</td></tr>\n",
       "\t<tr><td>AGO</td><td>2019</td><td>14800000</td><td>32353588</td></tr>\n",
       "\t<tr><td>ALB</td><td>2019</td><td> 2630000</td><td> 2854191</td></tr>\n",
       "\t<tr><td>AND</td><td>2019</td><td>   87900</td><td>   76343</td></tr>\n",
       "</tbody>\n",
       "</table>\n"
      ],
      "text/latex": [
       "A tibble: 5 × 4\n",
       "\\begin{tabular}{llll}\n",
       " iso.3 & year & n\\_cellphones & population\\\\\n",
       " <chr> & <int> & <dbl> & <dbl>\\\\\n",
       "\\hline\n",
       "\t ABW & 2019 & 22600000 &   106442\\\\\n",
       "\t AFG & 2019 & 22600000 & 37769499\\\\\n",
       "\t AGO & 2019 & 14800000 & 32353588\\\\\n",
       "\t ALB & 2019 &  2630000 &  2854191\\\\\n",
       "\t AND & 2019 &    87900 &    76343\\\\\n",
       "\\end{tabular}\n"
      ],
      "text/markdown": [
       "\n",
       "A tibble: 5 × 4\n",
       "\n",
       "| iso.3 &lt;chr&gt; | year &lt;int&gt; | n_cellphones &lt;dbl&gt; | population &lt;dbl&gt; |\n",
       "|---|---|---|---|\n",
       "| ABW | 2019 | 22600000 |   106442 |\n",
       "| AFG | 2019 | 22600000 | 37769499 |\n",
       "| AGO | 2019 | 14800000 | 32353588 |\n",
       "| ALB | 2019 |  2630000 |  2854191 |\n",
       "| AND | 2019 |    87900 |    76343 |\n",
       "\n"
      ],
      "text/plain": [
       "  iso.3 year n_cellphones population\n",
       "1 ABW   2019 22600000       106442  \n",
       "2 AFG   2019 22600000     37769499  \n",
       "3 AGO   2019 14800000     32353588  \n",
       "4 ALB   2019  2630000      2854191  \n",
       "5 AND   2019    87900        76343  "
      ]
     },
     "metadata": {},
     "output_type": "display_data"
    }
   ],
   "source": [
    "combined_data <- cell_phones_long %>%\n",
    "    inner_join(pop_long, by = c(\"iso.3\", \"year\"))\n",
    "\n",
    "combined_data %>%\n",
    "    arrange(desc(year)) %>%\n",
    "    slice_head(n = 5)"
   ]
  },
  {
   "cell_type": "markdown",
   "id": "9e2ae630-b7d2-442a-b3d8-1f4542744ede",
   "metadata": {},
   "source": [
    "Next, we want to map the `iso.3` codes to their respective country names. This will be done by using `left_join(country_names, by = c(\"iso.3\" = \"alpha.3\")` to specify the columns we want to map."
   ]
  },
  {
   "cell_type": "code",
   "execution_count": 6,
   "id": "bbd011a3-1d8b-48f2-a8fc-c64af62f65ff",
   "metadata": {},
   "outputs": [],
   "source": [
    "country_df <- read.csv(\n",
    "    \"https://raw.githubusercontent.com/su-mt4007/data/refs/heads/main/country_data.csv\",\n",
    "    fileEncoding = \"UTF-8\"\n",
    ")\n",
    "\n",
    "# Select only the country names and alpha.3\n",
    "country_names <- country_df %>%\n",
    "    select(alpha.3, name)\n",
    "\n",
    "combined_data <- combined_data %>%\n",
    "    left_join(country_names, by = c(\"iso.3\" = \"alpha.3\")) %>%\n",
    "    select(-iso.3) %>%\n",
    "    relocate(name, .after = year)"
   ]
  },
  {
   "cell_type": "markdown",
   "id": "0ff1057f-5be7-4403-aef8-9b5989b00264",
   "metadata": {},
   "source": [
    "After the mapping and removing `iso.3` column from the dataset, we proceed with the final steps.\n",
    "\n",
    "First step is to add a new column that represents phones per capita using `mutate()`."
   ]
  },
  {
   "cell_type": "code",
   "execution_count": 7,
   "id": "bb6cbd51-6134-4002-8b9a-1375efba075d",
   "metadata": {},
   "outputs": [],
   "source": [
    "combined_data <- combined_data %>%\n",
    "    mutate(phones_per_capita = n_cellphones / population)"
   ]
  },
  {
   "cell_type": "markdown",
   "id": "325105b4-bf79-4972-9ef0-255f3ad62f0b",
   "metadata": {},
   "source": [
    "Next, we fetch the top 5 countries with highest number of cell phones per capita in 2019."
   ]
  },
  {
   "cell_type": "code",
   "execution_count": 8,
   "id": "2b66ab47-2f8f-4252-85b4-7646a997643d",
   "metadata": {},
   "outputs": [],
   "source": [
    "top_countries <- combined_data %>%\n",
    "    filter(year == 2019) %>%\n",
    "    arrange(desc(phones_per_capita)) %>%\n",
    "    slice_head(n = 5) %>%\n",
    "    pull(name)"
   ]
  },
  {
   "cell_type": "markdown",
   "id": "10ad29f3-03e8-4fdd-a52e-6b198dd64fac",
   "metadata": {},
   "source": [
    "Lastly, we create a table where rows represent years and columns represent the top 5 countries, where each cell value is cell phones per capita."
   ]
  },
  {
   "cell_type": "code",
   "execution_count": 9,
   "id": "4ef0edd1-05a6-45fc-9be5-90b14e92256f",
   "metadata": {},
   "outputs": [
    {
     "data": {
      "text/html": [
       "<table class=\"dataframe\">\n",
       "<caption>A tibble: 5 × 6</caption>\n",
       "<thead>\n",
       "\t<tr><th scope=col>year</th><th scope=col>Dominica</th><th scope=col>Marshall Islands</th><th scope=col>Nauru</th><th scope=col>Palau</th><th scope=col>Tuvalu</th></tr>\n",
       "\t<tr><th scope=col>&lt;int&gt;</th><th scope=col>&lt;dbl&gt;</th><th scope=col>&lt;dbl&gt;</th><th scope=col>&lt;dbl&gt;</th><th scope=col>&lt;dbl&gt;</th><th scope=col>&lt;dbl&gt;</th></tr>\n",
       "</thead>\n",
       "<tbody>\n",
       "\t<tr><td>2019</td><td>1498.011984</td><td>2705.2405652</td><td>1796.9007583</td><td>9321.27707</td><td>7374.9543629</td></tr>\n",
       "\t<tr><td>2018</td><td>   1.070274</td><td>2609.3196199</td><td>3287.4874203</td><td>7557.09807</td><td>7372.2963645</td></tr>\n",
       "\t<tr><td>2017</td><td>   1.068136</td><td>   0.3390764</td><td>   0.8560178</td><td>6503.33576</td><td>   0.7388253</td></tr>\n",
       "\t<tr><td>2016</td><td>   1.118801</td><td>2317.4491506</td><td>   0.8656116</td><td>6735.51863</td><td>   0.7003317</td></tr>\n",
       "\t<tr><td>2015</td><td>   1.104175</td><td>   0.3137017</td><td>   0.8404113</td><td>   1.33191</td><td>   0.6067850</td></tr>\n",
       "</tbody>\n",
       "</table>\n"
      ],
      "text/latex": [
       "A tibble: 5 × 6\n",
       "\\begin{tabular}{llllll}\n",
       " year & Dominica & Marshall Islands & Nauru & Palau & Tuvalu\\\\\n",
       " <int> & <dbl> & <dbl> & <dbl> & <dbl> & <dbl>\\\\\n",
       "\\hline\n",
       "\t 2019 & 1498.011984 & 2705.2405652 & 1796.9007583 & 9321.27707 & 7374.9543629\\\\\n",
       "\t 2018 &    1.070274 & 2609.3196199 & 3287.4874203 & 7557.09807 & 7372.2963645\\\\\n",
       "\t 2017 &    1.068136 &    0.3390764 &    0.8560178 & 6503.33576 &    0.7388253\\\\\n",
       "\t 2016 &    1.118801 & 2317.4491506 &    0.8656116 & 6735.51863 &    0.7003317\\\\\n",
       "\t 2015 &    1.104175 &    0.3137017 &    0.8404113 &    1.33191 &    0.6067850\\\\\n",
       "\\end{tabular}\n"
      ],
      "text/markdown": [
       "\n",
       "A tibble: 5 × 6\n",
       "\n",
       "| year &lt;int&gt; | Dominica &lt;dbl&gt; | Marshall Islands &lt;dbl&gt; | Nauru &lt;dbl&gt; | Palau &lt;dbl&gt; | Tuvalu &lt;dbl&gt; |\n",
       "|---|---|---|---|---|---|\n",
       "| 2019 | 1498.011984 | 2705.2405652 | 1796.9007583 | 9321.27707 | 7374.9543629 |\n",
       "| 2018 |    1.070274 | 2609.3196199 | 3287.4874203 | 7557.09807 | 7372.2963645 |\n",
       "| 2017 |    1.068136 |    0.3390764 |    0.8560178 | 6503.33576 |    0.7388253 |\n",
       "| 2016 |    1.118801 | 2317.4491506 |    0.8656116 | 6735.51863 |    0.7003317 |\n",
       "| 2015 |    1.104175 |    0.3137017 |    0.8404113 |    1.33191 |    0.6067850 |\n",
       "\n"
      ],
      "text/plain": [
       "  year Dominica    Marshall Islands Nauru        Palau      Tuvalu      \n",
       "1 2019 1498.011984 2705.2405652     1796.9007583 9321.27707 7374.9543629\n",
       "2 2018    1.070274 2609.3196199     3287.4874203 7557.09807 7372.2963645\n",
       "3 2017    1.068136    0.3390764        0.8560178 6503.33576    0.7388253\n",
       "4 2016    1.118801 2317.4491506        0.8656116 6735.51863    0.7003317\n",
       "5 2015    1.104175    0.3137017        0.8404113    1.33191    0.6067850"
      ]
     },
     "metadata": {},
     "output_type": "display_data"
    }
   ],
   "source": [
    "tab1 <- combined_data %>%\n",
    "    filter(name %in% top_countries) %>%\n",
    "    select(year, name, phones_per_capita) %>%\n",
    "    pivot_wider(\n",
    "        names_from = name,\n",
    "        values_from = phones_per_capita\n",
    "    ) %>%\n",
    "    arrange(desc(year))\n",
    "\n",
    "head(tab1, n = 5)"
   ]
  },
  {
   "cell_type": "markdown",
   "id": "d4ddd6be-6476-49d8-8b47-dfc0b7584c48",
   "metadata": {},
   "source": [
    "Some cell values are obviously unrealistic, which is likely due to the choice of imputation methods last homework assignment. After some investigation, I found that I did not group by country (iso.3) before applying the imputation method. As a result, the `na.locf()` function have filled values across the entire dataset, rather than within each country (e.g. Dominica has cell phone counts from a different country). \n",
    "\n",
    "After consulting with Taariq, he gave me an okay that I could filter unrealistic values. An appropiate threshold would be $< 3.5$."
   ]
  },
  {
   "cell_type": "code",
   "execution_count": 10,
   "id": "65708425-b11a-459a-a667-93897cd99cac",
   "metadata": {},
   "outputs": [
    {
     "data": {
      "text/html": [
       "<table class=\"dataframe\">\n",
       "<caption>A tibble: 5 × 6</caption>\n",
       "<thead>\n",
       "\t<tr><th scope=col>year</th><th scope=col>United Arab Emirates</th><th scope=col>Hong Kong</th><th scope=col>Iraq</th><th scope=col>Macao</th><th scope=col>Palestine, State of</th></tr>\n",
       "\t<tr><th scope=col>&lt;int&gt;</th><th scope=col>&lt;dbl&gt;</th><th scope=col>&lt;dbl&gt;</th><th scope=col>&lt;dbl&gt;</th><th scope=col>&lt;dbl&gt;</th><th scope=col>&lt;dbl&gt;</th></tr>\n",
       "</thead>\n",
       "<tbody>\n",
       "\t<tr><td>2019</td><td>2.127739</td><td>2.863650</td><td>2.8390281</td><td>3.119100</td><td>2.5398555</td></tr>\n",
       "\t<tr><td>2018</td><td>2.199084</td><td>2.670209</td><td>0.8992208</td><td>3.348741</td><td>0.9586160</td></tr>\n",
       "\t<tr><td>2017</td><td>2.183431</td><td>2.488773</td><td>0.8429839</td><td>3.210102</td><td>0.8979069</td></tr>\n",
       "\t<tr><td>2016</td><td>2.212521</td><td>2.398931</td><td>0.8630950</td><td>3.143510</td><td>0.8495364</td></tr>\n",
       "\t<tr><td>2015</td><td>2.007424</td><td>2.290401</td><td>0.8898820</td><td>3.088231</td><td>0.8266801</td></tr>\n",
       "</tbody>\n",
       "</table>\n"
      ],
      "text/latex": [
       "A tibble: 5 × 6\n",
       "\\begin{tabular}{llllll}\n",
       " year & United Arab Emirates & Hong Kong & Iraq & Macao & Palestine, State of\\\\\n",
       " <int> & <dbl> & <dbl> & <dbl> & <dbl> & <dbl>\\\\\n",
       "\\hline\n",
       "\t 2019 & 2.127739 & 2.863650 & 2.8390281 & 3.119100 & 2.5398555\\\\\n",
       "\t 2018 & 2.199084 & 2.670209 & 0.8992208 & 3.348741 & 0.9586160\\\\\n",
       "\t 2017 & 2.183431 & 2.488773 & 0.8429839 & 3.210102 & 0.8979069\\\\\n",
       "\t 2016 & 2.212521 & 2.398931 & 0.8630950 & 3.143510 & 0.8495364\\\\\n",
       "\t 2015 & 2.007424 & 2.290401 & 0.8898820 & 3.088231 & 0.8266801\\\\\n",
       "\\end{tabular}\n"
      ],
      "text/markdown": [
       "\n",
       "A tibble: 5 × 6\n",
       "\n",
       "| year &lt;int&gt; | United Arab Emirates &lt;dbl&gt; | Hong Kong &lt;dbl&gt; | Iraq &lt;dbl&gt; | Macao &lt;dbl&gt; | Palestine, State of &lt;dbl&gt; |\n",
       "|---|---|---|---|---|---|\n",
       "| 2019 | 2.127739 | 2.863650 | 2.8390281 | 3.119100 | 2.5398555 |\n",
       "| 2018 | 2.199084 | 2.670209 | 0.8992208 | 3.348741 | 0.9586160 |\n",
       "| 2017 | 2.183431 | 2.488773 | 0.8429839 | 3.210102 | 0.8979069 |\n",
       "| 2016 | 2.212521 | 2.398931 | 0.8630950 | 3.143510 | 0.8495364 |\n",
       "| 2015 | 2.007424 | 2.290401 | 0.8898820 | 3.088231 | 0.8266801 |\n",
       "\n"
      ],
      "text/plain": [
       "  year United Arab Emirates Hong Kong Iraq      Macao    Palestine, State of\n",
       "1 2019 2.127739             2.863650  2.8390281 3.119100 2.5398555          \n",
       "2 2018 2.199084             2.670209  0.8992208 3.348741 0.9586160          \n",
       "3 2017 2.183431             2.488773  0.8429839 3.210102 0.8979069          \n",
       "4 2016 2.212521             2.398931  0.8630950 3.143510 0.8495364          \n",
       "5 2015 2.007424             2.290401  0.8898820 3.088231 0.8266801          "
      ]
     },
     "metadata": {},
     "output_type": "display_data"
    }
   ],
   "source": [
    "combined_data_filtered <- combined_data %>%\n",
    "    filter(phones_per_capita < 3.5)\n",
    "\n",
    "top_countries_filtered <- combined_data_filtered %>%\n",
    "    filter(year == 2019) %>%\n",
    "    arrange(desc(phones_per_capita)) %>%\n",
    "    slice_head(n = 5) %>%\n",
    "    pull(name)\n",
    "\n",
    "tab2 <- combined_data_filtered %>%\n",
    "    filter(name %in% top_countries_filtered) %>%\n",
    "    select(year, name, phones_per_capita) %>%\n",
    "    pivot_wider(\n",
    "        names_from = name,\n",
    "        values_from = phones_per_capita\n",
    "    ) %>%\n",
    "    arrange(desc(year))\n",
    "\n",
    "head(tab2, n = 5)"
   ]
  },
  {
   "cell_type": "markdown",
   "id": "518b62e5-aba5-46fb-96cd-c7d5da30898c",
   "metadata": {},
   "source": [
    "The table now looks more similar with the table provided in the instructions. There are still some uncertainty regarding the country **Palestine** and **Iraq**, where the increase in the year 2019 is large compared to other countries trends. \n",
    "\n",
    "To counter this, we manually select the countries that matches the countries provided in the instructions and then continue our analysis."
   ]
  },
  {
   "cell_type": "code",
   "execution_count": 11,
   "id": "ccdf2b36-6817-4676-af90-2f81c7483fb8",
   "metadata": {},
   "outputs": [
    {
     "data": {
      "text/html": [
       "<table class=\"dataframe\">\n",
       "<caption>A tibble: 10 × 6</caption>\n",
       "<thead>\n",
       "\t<tr><th scope=col>year</th><th scope=col>United Arab Emirates</th><th scope=col>Antigua and Barbuda</th><th scope=col>Hong Kong</th><th scope=col>Macao</th><th scope=col>Seychelles</th></tr>\n",
       "\t<tr><th scope=col>&lt;int&gt;</th><th scope=col>&lt;dbl&gt;</th><th scope=col>&lt;dbl&gt;</th><th scope=col>&lt;dbl&gt;</th><th scope=col>&lt;dbl&gt;</th><th scope=col>&lt;dbl&gt;</th></tr>\n",
       "</thead>\n",
       "<tbody>\n",
       "\t<tr><td>2019</td><td>2.127739</td><td>      NA</td><td>2.863650</td><td>3.119100</td><td>1.987196</td></tr>\n",
       "\t<tr><td>2018</td><td>2.199084</td><td>      NA</td><td>2.670209</td><td>3.348741</td><td>1.849900</td></tr>\n",
       "\t<tr><td>2017</td><td>2.183431</td><td>2.019337</td><td>2.488773</td><td>3.210102</td><td>1.742433</td></tr>\n",
       "\t<tr><td>2016</td><td>2.212521</td><td>1.987545</td><td>2.398931</td><td>3.143510</td><td>1.605459</td></tr>\n",
       "\t<tr><td>2015</td><td>2.007424</td><td>1.956838</td><td>2.290401</td><td>3.088231</td><td>1.584260</td></tr>\n",
       "\t<tr><td>2014</td><td>1.901323</td><td>1.344749</td><td>2.351477</td><td>3.078619</td><td>1.652820</td></tr>\n",
       "\t<tr><td>2013</td><td>1.839612</td><td>1.288179</td><td>2.368051</td><td>2.898678</td><td>1.523085</td></tr>\n",
       "\t<tr><td>2012</td><td>1.592620</td><td>1.448548</td><td>2.293674</td><td>2.762687</td><td>1.540152</td></tr>\n",
       "\t<tr><td>2011</td><td>1.364399</td><td>2.029310</td><td>2.163584</td><td>2.364261</td><td>1.452408</td></tr>\n",
       "\t<tr><td>2010</td><td>1.285109</td><td>1.960441</td><td>1.964637</td><td>2.009700</td><td>1.314470</td></tr>\n",
       "</tbody>\n",
       "</table>\n"
      ],
      "text/latex": [
       "A tibble: 10 × 6\n",
       "\\begin{tabular}{llllll}\n",
       " year & United Arab Emirates & Antigua and Barbuda & Hong Kong & Macao & Seychelles\\\\\n",
       " <int> & <dbl> & <dbl> & <dbl> & <dbl> & <dbl>\\\\\n",
       "\\hline\n",
       "\t 2019 & 2.127739 &       NA & 2.863650 & 3.119100 & 1.987196\\\\\n",
       "\t 2018 & 2.199084 &       NA & 2.670209 & 3.348741 & 1.849900\\\\\n",
       "\t 2017 & 2.183431 & 2.019337 & 2.488773 & 3.210102 & 1.742433\\\\\n",
       "\t 2016 & 2.212521 & 1.987545 & 2.398931 & 3.143510 & 1.605459\\\\\n",
       "\t 2015 & 2.007424 & 1.956838 & 2.290401 & 3.088231 & 1.584260\\\\\n",
       "\t 2014 & 1.901323 & 1.344749 & 2.351477 & 3.078619 & 1.652820\\\\\n",
       "\t 2013 & 1.839612 & 1.288179 & 2.368051 & 2.898678 & 1.523085\\\\\n",
       "\t 2012 & 1.592620 & 1.448548 & 2.293674 & 2.762687 & 1.540152\\\\\n",
       "\t 2011 & 1.364399 & 2.029310 & 2.163584 & 2.364261 & 1.452408\\\\\n",
       "\t 2010 & 1.285109 & 1.960441 & 1.964637 & 2.009700 & 1.314470\\\\\n",
       "\\end{tabular}\n"
      ],
      "text/markdown": [
       "\n",
       "A tibble: 10 × 6\n",
       "\n",
       "| year &lt;int&gt; | United Arab Emirates &lt;dbl&gt; | Antigua and Barbuda &lt;dbl&gt; | Hong Kong &lt;dbl&gt; | Macao &lt;dbl&gt; | Seychelles &lt;dbl&gt; |\n",
       "|---|---|---|---|---|---|\n",
       "| 2019 | 2.127739 |       NA | 2.863650 | 3.119100 | 1.987196 |\n",
       "| 2018 | 2.199084 |       NA | 2.670209 | 3.348741 | 1.849900 |\n",
       "| 2017 | 2.183431 | 2.019337 | 2.488773 | 3.210102 | 1.742433 |\n",
       "| 2016 | 2.212521 | 1.987545 | 2.398931 | 3.143510 | 1.605459 |\n",
       "| 2015 | 2.007424 | 1.956838 | 2.290401 | 3.088231 | 1.584260 |\n",
       "| 2014 | 1.901323 | 1.344749 | 2.351477 | 3.078619 | 1.652820 |\n",
       "| 2013 | 1.839612 | 1.288179 | 2.368051 | 2.898678 | 1.523085 |\n",
       "| 2012 | 1.592620 | 1.448548 | 2.293674 | 2.762687 | 1.540152 |\n",
       "| 2011 | 1.364399 | 2.029310 | 2.163584 | 2.364261 | 1.452408 |\n",
       "| 2010 | 1.285109 | 1.960441 | 1.964637 | 2.009700 | 1.314470 |\n",
       "\n"
      ],
      "text/plain": [
       "   year United Arab Emirates Antigua and Barbuda Hong Kong Macao    Seychelles\n",
       "1  2019 2.127739                   NA            2.863650  3.119100 1.987196  \n",
       "2  2018 2.199084                   NA            2.670209  3.348741 1.849900  \n",
       "3  2017 2.183431             2.019337            2.488773  3.210102 1.742433  \n",
       "4  2016 2.212521             1.987545            2.398931  3.143510 1.605459  \n",
       "5  2015 2.007424             1.956838            2.290401  3.088231 1.584260  \n",
       "6  2014 1.901323             1.344749            2.351477  3.078619 1.652820  \n",
       "7  2013 1.839612             1.288179            2.368051  2.898678 1.523085  \n",
       "8  2012 1.592620             1.448548            2.293674  2.762687 1.540152  \n",
       "9  2011 1.364399             2.029310            2.163584  2.364261 1.452408  \n",
       "10 2010 1.285109             1.960441            1.964637  2.009700 1.314470  "
      ]
     },
     "metadata": {},
     "output_type": "display_data"
    }
   ],
   "source": [
    "top_countries <- c(\n",
    "    \"Macao\", \"Hong Kong\", \"United Arab Emirates\", \"Antigua and Barbuda\", \"Seychelles\"\n",
    "    )\n",
    "\n",
    "tab3 <- combined_data_filtered %>%\n",
    "    filter(name %in% top_countries) %>%\n",
    "    select(year, name, phones_per_capita) %>%\n",
    "    pivot_wider(\n",
    "        names_from = name,\n",
    "        values_from = phones_per_capita\n",
    "    ) %>%\n",
    "    arrange(desc(year))\n",
    "\n",
    "head(tab3, n = 10)"
   ]
  },
  {
   "cell_type": "markdown",
   "id": "4d221edc-a482-4f82-9844-93e068470292",
   "metadata": {},
   "source": [
    "The missing values for the country Antigua and Barbuda are due to filtering out unrealistic values (the originally calculated values were approximately 39 for those two years, which is unrealistic based on previous trends). All other values look realistic based on the trend.\n",
    "\n",
    "To address the missing values, I considered several imputation methods:\n",
    "\n",
    "1. **Linear Interpolation**: While commonly used, it is not applicable here since there are no valid data points after 2019 to interpolate from.\n",
    "2. **Trend-Based Projection**: Estimating the values solely based on growth trend in earlier years might introduce subjectivity and potential bias.\n",
    "3. **Using Assignment-Provided Values**: Using the values provided in the assignment table, which minimizes subjectivity in handling missing data.\n",
    "\n",
    "Ultimately, I decided to manually impute based on the table provided in the assignment. This approach avoids introducing bias through arbitrary assumptions or modeling. "
   ]
  },
  {
   "cell_type": "code",
   "execution_count": 12,
   "id": "c5d69cf8-11bb-4105-99ac-d9f47508ecc9",
   "metadata": {},
   "outputs": [],
   "source": [
    "combined_data <- combined_data %>%\n",
    "    mutate(\n",
    "        phones_per_capita = case_when(\n",
    "            name == \"Antigua and Barbuda\" & year == 2018 ~ 2.00816,\n",
    "            name == \"Antigua and Barbuda\" & year == 2019 ~ 1.99746,\n",
    "            TRUE ~ phones_per_capita\n",
    "            )\n",
    "    )"
   ]
  },
  {
   "cell_type": "markdown",
   "id": "42b72f0b-efa8-416c-bc4d-a9208ac7277f",
   "metadata": {},
   "source": [
    "We can now analyse the country with highest growth rate of cell phones (per capita) in the last 10 years. As displayed in the previous table, we can use `combined_data` instead of `combined_data_filtered`, as there are no unrealistic values present.\n",
    "\n",
    "**Side note**: As displayed in the previous table, we can use `combined_data` instead of `combined_data_filtered`, as there are no unrealistic values present from the year 2010-2019."
   ]
  },
  {
   "cell_type": "code",
   "execution_count": 13,
   "id": "eb7f44bf-207b-4882-822c-648279050bae",
   "metadata": {},
   "outputs": [
    {
     "data": {
      "image/png": "[encoded data removed]",
      "text/plain": [
       "plot without title"
      ]
     },
     "metadata": {
      "image/png": {
       "height": 420,
       "width": 420
      }
     },
     "output_type": "display_data"
    }
   ],
   "source": [
    "top_countries_data <- combined_data %>%\n",
    "    filter(name %in% top_countries & year >= 2010)\n",
    "\n",
    "ggplot(top_countries_data, \n",
    "       aes(x = year, y = phones_per_capita, color = name, group = name)) +\n",
    "    geom_line() +\n",
    "    geom_point() +\n",
    "    scale_x_continuous(\n",
    "        breaks = seq(2010, 2019, by = 1),\n",
    "        limits = c(2010, 2019)\n",
    "    ) +\n",
    "    labs(\n",
    "        title = \"Growth Rate of Cell Phones Per Capita (2010-2019)\",\n",
    "        x = \"Year\",\n",
    "        y = \"Phones Per Capita\",\n",
    "        color = \"Country\"\n",
    "    )"
   ]
  },
  {
   "cell_type": "markdown",
   "id": "e218fff8-c61e-4e43-a2ef-23ef024e3b90",
   "metadata": {},
   "source": [
    "We see that Macao had the highest growth rate in phones per capita during the time periods 2010-2012 and 2013-2014. UAE (United Arab Emirates) seems to edge all other countries in growth rate during the time periods 2012-2013 and 2015-2016. Antigua and Barbuda shows the highest growth rate during the time period 2014-2015. Seychelles seems to edge all other countries during the time period 2016-2017, after which Hong Kong shows the most steep growth rate 2017-2019.\n",
    "\n",
    "## SQL\n",
    "We start by downloading the database file and then establish a connection to the `.db` file. "
   ]
  },
  {
   "cell_type": "code",
   "execution_count": 14,
   "id": "0191bc58-c33a-4572-a37d-276607885013",
   "metadata": {},
   "outputs": [
    {
     "data": {
      "text/html": [
       "'user_actions'"
      ],
      "text/latex": [
       "'user\\_actions'"
      ],
      "text/markdown": [
       "'user_actions'"
      ],
      "text/plain": [
       "[1] \"user_actions\""
      ]
     },
     "metadata": {},
     "output_type": "display_data"
    }
   ],
   "source": [
    "library(DBI)\n",
    "library(RSQLite)\n",
    "\n",
    "conn <- dbConnect(RSQLite::SQLite(), \"user_actions.db\")\n",
    "\n",
    "# Check the available tables\n",
    "dbListTables(conn)"
   ]
  },
  {
   "cell_type": "markdown",
   "id": "a5815a8f-2cf9-4695-a3cf-68f5e4791be4",
   "metadata": {},
   "source": [
    "The connection seems successful. Let us now get an overview of the `user_actions` structure by listing all the fields."
   ]
  },
  {
   "cell_type": "code",
   "execution_count": 15,
   "id": "02b7f448-812d-47e3-bbcb-a604e07b3c4d",
   "metadata": {},
   "outputs": [
    {
     "data": {
      "text/html": [
       "<style>\n",
       ".list-inline {list-style: none; margin:0; padding: 0}\n",
       ".list-inline>li {display: inline-block}\n",
       ".list-inline>li:not(:last-child)::after {content: \"\\00b7\"; padding: 0 .5ex}\n",
       "</style>\n",
       "<ol class=list-inline><li>'user_id'</li><li>'username'</li><li>'email'</li><li>'action'</li><li>'timestamp'</li></ol>\n"
      ],
      "text/latex": [
       "\\begin{enumerate*}\n",
       "\\item 'user\\_id'\n",
       "\\item 'username'\n",
       "\\item 'email'\n",
       "\\item 'action'\n",
       "\\item 'timestamp'\n",
       "\\end{enumerate*}\n"
      ],
      "text/markdown": [
       "1. 'user_id'\n",
       "2. 'username'\n",
       "3. 'email'\n",
       "4. 'action'\n",
       "5. 'timestamp'\n",
       "\n",
       "\n"
      ],
      "text/plain": [
       "[1] \"user_id\"   \"username\"  \"email\"     \"action\"    \"timestamp\""
      ]
     },
     "metadata": {},
     "output_type": "display_data"
    }
   ],
   "source": [
    "dbListFields(conn, \"user_actions\")"
   ]
  },
  {
   "cell_type": "markdown",
   "id": "5424ef81-1d67-4567-8b0c-3e0fd0a3b011",
   "metadata": {},
   "source": [
    "We are now ready to write our queries to solve the following:\n",
    "\n",
    "- Retrieve the usernames of all users who have performed the \"signup\" action.\n",
    "\n",
    "This can be done by using `SELECT DISTINCT` on `username`, to find all the unique usernames in the column and `WHERE action = 'signup'` to filter the usernames that have performed the \"signup\" action.\n",
    "\n",
    "- Find the total number of log entries for each user. Display the user_id, username, and the count of log entries.\n",
    "\n",
    "We select the columns `user_id` and `username` and use `COUNT(*)` together with `GROUP BY` to calculate the number of unique combinations of `user_id` and `username`.\n",
    "\n",
    "- Identify users who have both logged in (action = 'login') and signed up (action = 'signup') on the same day. Display the user_id and username.\n",
    "\n",
    "We do this by doing an inner join operation on the `user_actions` table with itself (using table aliases `a` and `b` for easier reference), based on matching `user_id`. After which we can filter actions using `WHERE` to filter login action in `a`, signup action in `b` and`DATE` to ensure that both actions occured on the same day."
   ]
  },
  {
   "cell_type": "code",
   "execution_count": 16,
   "id": "e27d4c2d-1cca-4aab-81eb-462422257e0d",
   "metadata": {},
   "outputs": [
    {
     "data": {
      "text/html": [
       "<table class=\"dataframe\">\n",
       "<caption>A data.frame: 35 × 1</caption>\n",
       "<thead>\n",
       "\t<tr><th scope=col>username</th></tr>\n",
       "\t<tr><th scope=col>&lt;chr&gt;</th></tr>\n",
       "</thead>\n",
       "<tbody>\n",
       "\t<tr><td>user34</td></tr>\n",
       "\t<tr><td>user28</td></tr>\n",
       "\t<tr><td>user1 </td></tr>\n",
       "\t<tr><td>user24</td></tr>\n",
       "\t<tr><td>user15</td></tr>\n",
       "\t<tr><td>user20</td></tr>\n",
       "\t<tr><td>user18</td></tr>\n",
       "\t<tr><td>user25</td></tr>\n",
       "\t<tr><td>user3 </td></tr>\n",
       "\t<tr><td>user9 </td></tr>\n",
       "\t<tr><td>user27</td></tr>\n",
       "\t<tr><td>user16</td></tr>\n",
       "\t<tr><td>user17</td></tr>\n",
       "\t<tr><td>user4 </td></tr>\n",
       "\t<tr><td>user8 </td></tr>\n",
       "\t<tr><td>user13</td></tr>\n",
       "\t<tr><td>user19</td></tr>\n",
       "\t<tr><td>user31</td></tr>\n",
       "\t<tr><td>user10</td></tr>\n",
       "\t<tr><td>user23</td></tr>\n",
       "\t<tr><td>user11</td></tr>\n",
       "\t<tr><td>user33</td></tr>\n",
       "\t<tr><td>user12</td></tr>\n",
       "\t<tr><td>user29</td></tr>\n",
       "\t<tr><td>user21</td></tr>\n",
       "\t<tr><td>user6 </td></tr>\n",
       "\t<tr><td>user14</td></tr>\n",
       "\t<tr><td>user30</td></tr>\n",
       "\t<tr><td>user7 </td></tr>\n",
       "\t<tr><td>user26</td></tr>\n",
       "\t<tr><td>user22</td></tr>\n",
       "\t<tr><td>user5 </td></tr>\n",
       "\t<tr><td>user35</td></tr>\n",
       "\t<tr><td>user2 </td></tr>\n",
       "\t<tr><td>user32</td></tr>\n",
       "</tbody>\n",
       "</table>\n"
      ],
      "text/latex": [
       "A data.frame: 35 × 1\n",
       "\\begin{tabular}{l}\n",
       " username\\\\\n",
       " <chr>\\\\\n",
       "\\hline\n",
       "\t user34\\\\\n",
       "\t user28\\\\\n",
       "\t user1 \\\\\n",
       "\t user24\\\\\n",
       "\t user15\\\\\n",
       "\t user20\\\\\n",
       "\t user18\\\\\n",
       "\t user25\\\\\n",
       "\t user3 \\\\\n",
       "\t user9 \\\\\n",
       "\t user27\\\\\n",
       "\t user16\\\\\n",
       "\t user17\\\\\n",
       "\t user4 \\\\\n",
       "\t user8 \\\\\n",
       "\t user13\\\\\n",
       "\t user19\\\\\n",
       "\t user31\\\\\n",
       "\t user10\\\\\n",
       "\t user23\\\\\n",
       "\t user11\\\\\n",
       "\t user33\\\\\n",
       "\t user12\\\\\n",
       "\t user29\\\\\n",
       "\t user21\\\\\n",
       "\t user6 \\\\\n",
       "\t user14\\\\\n",
       "\t user30\\\\\n",
       "\t user7 \\\\\n",
       "\t user26\\\\\n",
       "\t user22\\\\\n",
       "\t user5 \\\\\n",
       "\t user35\\\\\n",
       "\t user2 \\\\\n",
       "\t user32\\\\\n",
       "\\end{tabular}\n"
      ],
      "text/markdown": [
       "\n",
       "A data.frame: 35 × 1\n",
       "\n",
       "| username &lt;chr&gt; |\n",
       "|---|\n",
       "| user34 |\n",
       "| user28 |\n",
       "| user1  |\n",
       "| user24 |\n",
       "| user15 |\n",
       "| user20 |\n",
       "| user18 |\n",
       "| user25 |\n",
       "| user3  |\n",
       "| user9  |\n",
       "| user27 |\n",
       "| user16 |\n",
       "| user17 |\n",
       "| user4  |\n",
       "| user8  |\n",
       "| user13 |\n",
       "| user19 |\n",
       "| user31 |\n",
       "| user10 |\n",
       "| user23 |\n",
       "| user11 |\n",
       "| user33 |\n",
       "| user12 |\n",
       "| user29 |\n",
       "| user21 |\n",
       "| user6  |\n",
       "| user14 |\n",
       "| user30 |\n",
       "| user7  |\n",
       "| user26 |\n",
       "| user22 |\n",
       "| user5  |\n",
       "| user35 |\n",
       "| user2  |\n",
       "| user32 |\n",
       "\n"
      ],
      "text/plain": [
       "   username\n",
       "1  user34  \n",
       "2  user28  \n",
       "3  user1   \n",
       "4  user24  \n",
       "5  user15  \n",
       "6  user20  \n",
       "7  user18  \n",
       "8  user25  \n",
       "9  user3   \n",
       "10 user9   \n",
       "11 user27  \n",
       "12 user16  \n",
       "13 user17  \n",
       "14 user4   \n",
       "15 user8   \n",
       "16 user13  \n",
       "17 user19  \n",
       "18 user31  \n",
       "19 user10  \n",
       "20 user23  \n",
       "21 user11  \n",
       "22 user33  \n",
       "23 user12  \n",
       "24 user29  \n",
       "25 user21  \n",
       "26 user6   \n",
       "27 user14  \n",
       "28 user30  \n",
       "29 user7   \n",
       "30 user26  \n",
       "31 user22  \n",
       "32 user5   \n",
       "33 user35  \n",
       "34 user2   \n",
       "35 user32  "
      ]
     },
     "metadata": {},
     "output_type": "display_data"
    },
    {
     "data": {
      "text/html": [
       "<table class=\"dataframe\">\n",
       "<caption>A data.frame: 35 × 3</caption>\n",
       "<thead>\n",
       "\t<tr><th scope=col>user_id</th><th scope=col>username</th><th scope=col>log_count</th></tr>\n",
       "\t<tr><th scope=col>&lt;int&gt;</th><th scope=col>&lt;chr&gt;</th><th scope=col>&lt;int&gt;</th></tr>\n",
       "</thead>\n",
       "<tbody>\n",
       "\t<tr><td> 1</td><td>user1 </td><td>104</td></tr>\n",
       "\t<tr><td> 2</td><td>user2 </td><td>149</td></tr>\n",
       "\t<tr><td> 3</td><td>user3 </td><td>108</td></tr>\n",
       "\t<tr><td> 4</td><td>user4 </td><td>436</td></tr>\n",
       "\t<tr><td> 5</td><td>user5 </td><td>192</td></tr>\n",
       "\t<tr><td> 6</td><td>user6 </td><td>457</td></tr>\n",
       "\t<tr><td> 7</td><td>user7 </td><td>362</td></tr>\n",
       "\t<tr><td> 8</td><td>user8 </td><td>329</td></tr>\n",
       "\t<tr><td> 9</td><td>user9 </td><td>118</td></tr>\n",
       "\t<tr><td>10</td><td>user10</td><td>170</td></tr>\n",
       "\t<tr><td>11</td><td>user11</td><td>328</td></tr>\n",
       "\t<tr><td>12</td><td>user12</td><td>209</td></tr>\n",
       "\t<tr><td>13</td><td>user13</td><td>470</td></tr>\n",
       "\t<tr><td>14</td><td>user14</td><td>320</td></tr>\n",
       "\t<tr><td>15</td><td>user15</td><td> 35</td></tr>\n",
       "\t<tr><td>16</td><td>user16</td><td>379</td></tr>\n",
       "\t<tr><td>17</td><td>user17</td><td>367</td></tr>\n",
       "\t<tr><td>18</td><td>user18</td><td>122</td></tr>\n",
       "\t<tr><td>19</td><td>user19</td><td> 58</td></tr>\n",
       "\t<tr><td>20</td><td>user20</td><td>362</td></tr>\n",
       "\t<tr><td>21</td><td>user21</td><td>323</td></tr>\n",
       "\t<tr><td>22</td><td>user22</td><td>275</td></tr>\n",
       "\t<tr><td>23</td><td>user23</td><td>309</td></tr>\n",
       "\t<tr><td>24</td><td>user24</td><td>162</td></tr>\n",
       "\t<tr><td>25</td><td>user25</td><td>136</td></tr>\n",
       "\t<tr><td>26</td><td>user26</td><td>217</td></tr>\n",
       "\t<tr><td>27</td><td>user27</td><td>211</td></tr>\n",
       "\t<tr><td>28</td><td>user28</td><td> 91</td></tr>\n",
       "\t<tr><td>29</td><td>user29</td><td> 49</td></tr>\n",
       "\t<tr><td>30</td><td>user30</td><td>165</td></tr>\n",
       "\t<tr><td>31</td><td>user31</td><td>389</td></tr>\n",
       "\t<tr><td>32</td><td>user32</td><td> 32</td></tr>\n",
       "\t<tr><td>33</td><td>user33</td><td> 32</td></tr>\n",
       "\t<tr><td>34</td><td>user34</td><td>180</td></tr>\n",
       "\t<tr><td>35</td><td>user35</td><td>394</td></tr>\n",
       "</tbody>\n",
       "</table>\n"
      ],
      "text/latex": [
       "A data.frame: 35 × 3\n",
       "\\begin{tabular}{lll}\n",
       " user\\_id & username & log\\_count\\\\\n",
       " <int> & <chr> & <int>\\\\\n",
       "\\hline\n",
       "\t  1 & user1  & 104\\\\\n",
       "\t  2 & user2  & 149\\\\\n",
       "\t  3 & user3  & 108\\\\\n",
       "\t  4 & user4  & 436\\\\\n",
       "\t  5 & user5  & 192\\\\\n",
       "\t  6 & user6  & 457\\\\\n",
       "\t  7 & user7  & 362\\\\\n",
       "\t  8 & user8  & 329\\\\\n",
       "\t  9 & user9  & 118\\\\\n",
       "\t 10 & user10 & 170\\\\\n",
       "\t 11 & user11 & 328\\\\\n",
       "\t 12 & user12 & 209\\\\\n",
       "\t 13 & user13 & 470\\\\\n",
       "\t 14 & user14 & 320\\\\\n",
       "\t 15 & user15 &  35\\\\\n",
       "\t 16 & user16 & 379\\\\\n",
       "\t 17 & user17 & 367\\\\\n",
       "\t 18 & user18 & 122\\\\\n",
       "\t 19 & user19 &  58\\\\\n",
       "\t 20 & user20 & 362\\\\\n",
       "\t 21 & user21 & 323\\\\\n",
       "\t 22 & user22 & 275\\\\\n",
       "\t 23 & user23 & 309\\\\\n",
       "\t 24 & user24 & 162\\\\\n",
       "\t 25 & user25 & 136\\\\\n",
       "\t 26 & user26 & 217\\\\\n",
       "\t 27 & user27 & 211\\\\\n",
       "\t 28 & user28 &  91\\\\\n",
       "\t 29 & user29 &  49\\\\\n",
       "\t 30 & user30 & 165\\\\\n",
       "\t 31 & user31 & 389\\\\\n",
       "\t 32 & user32 &  32\\\\\n",
       "\t 33 & user33 &  32\\\\\n",
       "\t 34 & user34 & 180\\\\\n",
       "\t 35 & user35 & 394\\\\\n",
       "\\end{tabular}\n"
      ],
      "text/markdown": [
       "\n",
       "A data.frame: 35 × 3\n",
       "\n",
       "| user_id &lt;int&gt; | username &lt;chr&gt; | log_count &lt;int&gt; |\n",
       "|---|---|---|\n",
       "|  1 | user1  | 104 |\n",
       "|  2 | user2  | 149 |\n",
       "|  3 | user3  | 108 |\n",
       "|  4 | user4  | 436 |\n",
       "|  5 | user5  | 192 |\n",
       "|  6 | user6  | 457 |\n",
       "|  7 | user7  | 362 |\n",
       "|  8 | user8  | 329 |\n",
       "|  9 | user9  | 118 |\n",
       "| 10 | user10 | 170 |\n",
       "| 11 | user11 | 328 |\n",
       "| 12 | user12 | 209 |\n",
       "| 13 | user13 | 470 |\n",
       "| 14 | user14 | 320 |\n",
       "| 15 | user15 |  35 |\n",
       "| 16 | user16 | 379 |\n",
       "| 17 | user17 | 367 |\n",
       "| 18 | user18 | 122 |\n",
       "| 19 | user19 |  58 |\n",
       "| 20 | user20 | 362 |\n",
       "| 21 | user21 | 323 |\n",
       "| 22 | user22 | 275 |\n",
       "| 23 | user23 | 309 |\n",
       "| 24 | user24 | 162 |\n",
       "| 25 | user25 | 136 |\n",
       "| 26 | user26 | 217 |\n",
       "| 27 | user27 | 211 |\n",
       "| 28 | user28 |  91 |\n",
       "| 29 | user29 |  49 |\n",
       "| 30 | user30 | 165 |\n",
       "| 31 | user31 | 389 |\n",
       "| 32 | user32 |  32 |\n",
       "| 33 | user33 |  32 |\n",
       "| 34 | user34 | 180 |\n",
       "| 35 | user35 | 394 |\n",
       "\n"
      ],
      "text/plain": [
       "   user_id username log_count\n",
       "1   1      user1    104      \n",
       "2   2      user2    149      \n",
       "3   3      user3    108      \n",
       "4   4      user4    436      \n",
       "5   5      user5    192      \n",
       "6   6      user6    457      \n",
       "7   7      user7    362      \n",
       "8   8      user8    329      \n",
       "9   9      user9    118      \n",
       "10 10      user10   170      \n",
       "11 11      user11   328      \n",
       "12 12      user12   209      \n",
       "13 13      user13   470      \n",
       "14 14      user14   320      \n",
       "15 15      user15    35      \n",
       "16 16      user16   379      \n",
       "17 17      user17   367      \n",
       "18 18      user18   122      \n",
       "19 19      user19    58      \n",
       "20 20      user20   362      \n",
       "21 21      user21   323      \n",
       "22 22      user22   275      \n",
       "23 23      user23   309      \n",
       "24 24      user24   162      \n",
       "25 25      user25   136      \n",
       "26 26      user26   217      \n",
       "27 27      user27   211      \n",
       "28 28      user28    91      \n",
       "29 29      user29    49      \n",
       "30 30      user30   165      \n",
       "31 31      user31   389      \n",
       "32 32      user32    32      \n",
       "33 33      user33    32      \n",
       "34 34      user34   180      \n",
       "35 35      user35   394      "
      ]
     },
     "metadata": {},
     "output_type": "display_data"
    },
    {
     "data": {
      "text/html": [
       "<table class=\"dataframe\">\n",
       "<caption>A data.frame: 8 × 2</caption>\n",
       "<thead>\n",
       "\t<tr><th scope=col>user_id</th><th scope=col>username</th></tr>\n",
       "\t<tr><th scope=col>&lt;int&gt;</th><th scope=col>&lt;chr&gt;</th></tr>\n",
       "</thead>\n",
       "<tbody>\n",
       "\t<tr><td> 8</td><td>user8 </td></tr>\n",
       "\t<tr><td>12</td><td>user12</td></tr>\n",
       "\t<tr><td>30</td><td>user30</td></tr>\n",
       "\t<tr><td> 7</td><td>user7 </td></tr>\n",
       "\t<tr><td>22</td><td>user22</td></tr>\n",
       "\t<tr><td> 5</td><td>user5 </td></tr>\n",
       "\t<tr><td> 2</td><td>user2 </td></tr>\n",
       "\t<tr><td>32</td><td>user32</td></tr>\n",
       "</tbody>\n",
       "</table>\n"
      ],
      "text/latex": [
       "A data.frame: 8 × 2\n",
       "\\begin{tabular}{ll}\n",
       " user\\_id & username\\\\\n",
       " <int> & <chr>\\\\\n",
       "\\hline\n",
       "\t  8 & user8 \\\\\n",
       "\t 12 & user12\\\\\n",
       "\t 30 & user30\\\\\n",
       "\t  7 & user7 \\\\\n",
       "\t 22 & user22\\\\\n",
       "\t  5 & user5 \\\\\n",
       "\t  2 & user2 \\\\\n",
       "\t 32 & user32\\\\\n",
       "\\end{tabular}\n"
      ],
      "text/markdown": [
       "\n",
       "A data.frame: 8 × 2\n",
       "\n",
       "| user_id &lt;int&gt; | username &lt;chr&gt; |\n",
       "|---|---|\n",
       "|  8 | user8  |\n",
       "| 12 | user12 |\n",
       "| 30 | user30 |\n",
       "|  7 | user7  |\n",
       "| 22 | user22 |\n",
       "|  5 | user5  |\n",
       "|  2 | user2  |\n",
       "| 32 | user32 |\n",
       "\n"
      ],
      "text/plain": [
       "  user_id username\n",
       "1  8      user8   \n",
       "2 12      user12  \n",
       "3 30      user30  \n",
       "4  7      user7   \n",
       "5 22      user22  \n",
       "6  5      user5   \n",
       "7  2      user2   \n",
       "8 32      user32  "
      ]
     },
     "metadata": {},
     "output_type": "display_data"
    }
   ],
   "source": [
    "# Retrieve the usernames\n",
    "signup_users <- dbGetQuery(conn, \"\n",
    "    SELECT DISTINCT username\n",
    "    FROM user_actions\n",
    "    WHERE action = 'signup';\n",
    "\")\n",
    "\n",
    "signup_users\n",
    "\n",
    "# Find the total number of log entries for each user\n",
    "log_counts <- dbGetQuery(conn, \"\n",
    "    SELECT user_id, username, COUNT(*) AS log_count\n",
    "    FROM user_actions\n",
    "    GROUP BY user_id, username;\n",
    "\")\n",
    "\n",
    "log_counts\n",
    "\n",
    "# Identify users who have both logged in and signed up on the same day.\n",
    "same_day_users <- dbGetQuery(conn, \"\n",
    "    SELECT DISTINCT a.user_id, a.username\n",
    "    FROM user_actions a\n",
    "    JOIN user_actions b\n",
    "    ON a.user_id = b.user_id\n",
    "    WHERE a.action = 'login' AND b.action = 'signup'\n",
    "    AND DATE(a.timestamp) = DATE(b.timestamp);\n",
    "\")\n",
    "\n",
    "same_day_users"
   ]
  },
  {
   "cell_type": "markdown",
   "id": "4893845e-fd45-4db2-9fd5-0a73b5affeab",
   "metadata": {},
   "source": [
    "Lastly, we disconnect to the database."
   ]
  },
  {
   "cell_type": "code",
   "execution_count": 17,
   "id": "fa9e6fe4-e924-4359-a053-d1705c0af8f7",
   "metadata": {},
   "outputs": [],
   "source": [
    "dbDisconnect(conn)"
   ]
  },
  {
   "cell_type": "markdown",
   "id": "88888dd1-5514-4a12-a033-48d338678bbb",
   "metadata": {},
   "source": [
    "## RegEx\n",
    "\n",
    "\n",
    "We start by loading `comments.txt` file using `readLines()`."
   ]
  },
  {
   "cell_type": "code",
   "execution_count": 18,
   "id": "b3456585-ccc7-442a-b0c6-9158f9b1f2e6",
   "metadata": {},
   "outputs": [],
   "source": [
    "comments <- readLines(\"comments.txt\")"
   ]
  },
  {
   "cell_type": "markdown",
   "id": "f4bc0d76-913e-4100-8b0e-bd89ad161f28",
   "metadata": {},
   "source": [
    "Next we want to write a regular expression to extract all hashtags from a given comment.\n",
    "\n",
    "The regular expression to solve the above is `\"#\\\\w+\"`, where `#` matches the literal `#` and `\\\\w+` matches one or more word characters."
   ]
  },
  {
   "cell_type": "code",
   "execution_count": 19,
   "id": "fc34ced6-5bcf-4358-b98f-91dd590e2cd9",
   "metadata": {},
   "outputs": [
    {
     "data": {
      "text/html": [
       "100"
      ],
      "text/latex": [
       "100"
      ],
      "text/markdown": [
       "100"
      ],
      "text/plain": [
       "[1] 100"
      ]
     },
     "metadata": {},
     "output_type": "display_data"
    },
    {
     "data": {
      "text/html": [
       "<ol>\n",
       "\t<li><style>\n",
       ".list-inline {list-style: none; margin:0; padding: 0}\n",
       ".list-inline>li {display: inline-block}\n",
       ".list-inline>li:not(:last-child)::after {content: \"\\00b7\"; padding: 0 .5ex}\n",
       "</style>\n",
       "<ol class=list-inline><li>'#coding'</li><li>'#python'</li></ol>\n",
       "</li>\n",
       "</ol>\n"
      ],
      "text/latex": [
       "\\begin{enumerate}\n",
       "\\item \\begin{enumerate*}\n",
       "\\item '\\#coding'\n",
       "\\item '\\#python'\n",
       "\\end{enumerate*}\n",
       "\n",
       "\\end{enumerate}\n"
      ],
      "text/markdown": [
       "1. 1. '#coding'\n",
       "2. '#python'\n",
       "\n",
       "\n",
       "\n",
       "\n",
       "\n"
      ],
      "text/plain": [
       "[[1]]\n",
       "[1] \"#coding\" \"#python\"\n"
      ]
     },
     "metadata": {},
     "output_type": "display_data"
    }
   ],
   "source": [
    "# Check the length of comments\n",
    "length(comments)\n",
    "\n",
    "# Choose any comment between 1-100 (e.g. line 37)\n",
    "comment37 <- comments[37]\n",
    "\n",
    "# Find all positions that matches the pattern in comment\n",
    "matches <- gregexpr(\"#\\\\w+\", comment37)\n",
    "\n",
    "# Extract substring(s) in comment based on the positions from matches\n",
    "regmatches(comment37, matches)"
   ]
  },
  {
   "cell_type": "markdown",
   "id": "45a81944-d0aa-4f68-b9bb-a99a7852b0c6",
   "metadata": {},
   "source": [
    "Here we used the function `gregexpr()` which finds all positions that matches the given pattern (compared to `regexpr()` that only finds the position of the first match).\n",
    "\n",
    "The other function `regmatches()` does the actual extraction based in the position identified by `gregexpr()`.\n",
    "\n",
    "Next, we want to create a regular expression to find all comments that mention both \"#programming\" and \"#python\". To start off, we need to define the regex pattern."
   ]
  },
  {
   "cell_type": "code",
   "execution_count": 20,
   "id": "a903fbbb-3338-4393-b039-425072f227e8",
   "metadata": {},
   "outputs": [],
   "source": [
    "pattern <- \"#programming.*#python|#python.*#programming\""
   ]
  },
  {
   "cell_type": "markdown",
   "id": "78a5e795-f3e7-4029-a02e-940e438361ec",
   "metadata": {},
   "source": [
    "The regex pattern is equivalent to \"`#programming` comes before `#pyhon` ***OR** `#python` comes before `#programming`\". The pattern also uses `.*` to account for any characters between the two hashtags.\n",
    "\n",
    "We combine the positive lookaheads with `.*`, which matches 0 or more characters of any kind. This ensures that the lookahead can search through the entire string for the desired pattern (`#programming` or `#python`).\n",
    "\n",
    "Now we use the function `grepl()` together with the specified pattern to check whether the pattern matches in comment 2. The output is logical with `TRUE` or `FALSE`."
   ]
  },
  {
   "cell_type": "code",
   "execution_count": 21,
   "id": "be322986-097c-42a4-a8d1-13614a95fd94",
   "metadata": {},
   "outputs": [
    {
     "data": {
      "text/html": [
       "'2. \"Enjoyed the article. #coding #python\"'"
      ],
      "text/latex": [
       "'2. \"Enjoyed the article. \\#coding \\#python\"'"
      ],
      "text/markdown": [
       "'2. \"Enjoyed the article. #coding #python\"'"
      ],
      "text/plain": [
       "[1] \"2. \\\"Enjoyed the article. #coding #python\\\"\""
      ]
     },
     "metadata": {},
     "output_type": "display_data"
    },
    {
     "data": {
      "text/html": [
       "FALSE"
      ],
      "text/latex": [
       "FALSE"
      ],
      "text/markdown": [
       "FALSE"
      ],
      "text/plain": [
       "[1] FALSE"
      ]
     },
     "metadata": {},
     "output_type": "display_data"
    }
   ],
   "source": [
    "comment2 <- comments[2]\n",
    "comment2\n",
    "\n",
    "# Check if the pattern matches or not\n",
    "grepl(pattern, comment2)"
   ]
  },
  {
   "cell_type": "markdown",
   "id": "38ded311-edd0-4fd5-8e8c-fd41aea13709",
   "metadata": {},
   "source": [
    "The pattern does not match comment 2.\n",
    "\n",
    "Lastly, we want to re-use the regex pattern `\"#\\\\w+\"` to extract all unique hashtags from the entire text file. \n",
    "\n",
    "The first step is to extract all hashtags. Like previously, we use `gregexpr()` to find all the positions that matches the specified pattern and then use `regmatches()` to extract all the substrings."
   ]
  },
  {
   "cell_type": "code",
   "execution_count": 22,
   "id": "2b72078a-2196-46f5-8b16-c50908b16fc1",
   "metadata": {},
   "outputs": [
    {
     "data": {
      "text/html": [
       "'list'"
      ],
      "text/latex": [
       "'list'"
      ],
      "text/markdown": [
       "'list'"
      ],
      "text/plain": [
       "[1] \"list\""
      ]
     },
     "metadata": {},
     "output_type": "display_data"
    }
   ],
   "source": [
    "matches <- gregexpr(\"#\\\\w+\", comments)\n",
    "\n",
    "all_hashtags <- regmatches(comments, matches)\n",
    "\n",
    "class(all_hashtags)"
   ]
  },
  {
   "cell_type": "markdown",
   "id": "2b3d027e-0b1b-474e-8047-c3c6d6e330d7",
   "metadata": {},
   "source": [
    "The next step is to filter out repeating hashtags. This can easily be done using the function `unique()` combined with `unlist()` (to convert `all_hashtags` into class `character`)."
   ]
  },
  {
   "cell_type": "code",
   "execution_count": 23,
   "id": "a1d4bb65-a5e9-4f2c-8dfc-a447fcb7ce10",
   "metadata": {},
   "outputs": [
    {
     "data": {
      "text/html": [
       "<style>\n",
       ".list-inline {list-style: none; margin:0; padding: 0}\n",
       ".list-inline>li {display: inline-block}\n",
       ".list-inline>li:not(:last-child)::after {content: \"\\00b7\"; padding: 0 .5ex}\n",
       "</style>\n",
       "<ol class=list-inline><li>'#programming'</li><li>'#tips'</li><li>'#coding'</li><li>'#python'</li><li>'#tech'</li><li>'#data'</li><li>'#analysis'</li><li>'#innovation'</li><li>'#analytics'</li><li>'#insights'</li><li>'#research'</li></ol>\n"
      ],
      "text/latex": [
       "\\begin{enumerate*}\n",
       "\\item '\\#programming'\n",
       "\\item '\\#tips'\n",
       "\\item '\\#coding'\n",
       "\\item '\\#python'\n",
       "\\item '\\#tech'\n",
       "\\item '\\#data'\n",
       "\\item '\\#analysis'\n",
       "\\item '\\#innovation'\n",
       "\\item '\\#analytics'\n",
       "\\item '\\#insights'\n",
       "\\item '\\#research'\n",
       "\\end{enumerate*}\n"
      ],
      "text/markdown": [
       "1. '#programming'\n",
       "2. '#tips'\n",
       "3. '#coding'\n",
       "4. '#python'\n",
       "5. '#tech'\n",
       "6. '#data'\n",
       "7. '#analysis'\n",
       "8. '#innovation'\n",
       "9. '#analytics'\n",
       "10. '#insights'\n",
       "11. '#research'\n",
       "\n",
       "\n"
      ],
      "text/plain": [
       " [1] \"#programming\" \"#tips\"        \"#coding\"      \"#python\"      \"#tech\"       \n",
       " [6] \"#data\"        \"#analysis\"    \"#innovation\"  \"#analytics\"   \"#insights\"   \n",
       "[11] \"#research\"   "
      ]
     },
     "metadata": {},
     "output_type": "display_data"
    }
   ],
   "source": [
    "unique(unlist(all_hashtags))"
   ]
  }
 ],
 "metadata": {
  "kernelspec": {
   "display_name": "R",
   "language": "R",
   "name": "ir"
  },
  "language_info": {
   "codemirror_mode": "r",
   "file_extension": ".r",
   "mimetype": "text/x-r-source",
   "name": "R",
   "pygments_lexer": "r",
   "version": "4.1.3"
  }
 },
 "nbformat": 4,
 "nbformat_minor": 5
}
