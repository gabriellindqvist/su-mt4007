{
 "cells": [
  {
   "cell_type": "markdown",
   "id": "1518a552-d028-4520-b39c-1f3d72d5295d",
   "metadata": {},
   "source": [
    "# Homework 1\n",
    "\n",
    "Hello! My name is Gabriel, and I am currently in the final year of my BSc Mathematics and Statistics. Something that has peaked my interest during my time as a student is the intersection of statistical methodologies and machine learning algorithms, which is why I plan to pursue a MSc in Mathematical Statistics and Machine Learning. Besides the academic aspect, my personal interests mostly consists of exploring outdoor life, sports and gaming.\n",
    "\n",
    "My previous experience with Data Science comes mostly from computer assignments/projects in the courses Linear Statistical Models, Stochastic Processes I, Statistical Inference Theory and Statistical Theory. Each computer assignment (or project) has been solely done in R. I've also taken the course Data Structures and Algorithms which has given a theoretical background on how to store and sort data using various algorithms."
   ]
  }
 ],
 "metadata": {
  "kernelspec": {
   "display_name": "R",
   "language": "R",
   "name": "ir"
  },
  "language_info": {
   "codemirror_mode": "r",
   "file_extension": ".r",
   "mimetype": "text/x-r-source",
   "name": "R",
   "pygments_lexer": "r",
   "version": "4.1.3"
  }
 },
 "nbformat": 4,
 "nbformat_minor": 5
}
