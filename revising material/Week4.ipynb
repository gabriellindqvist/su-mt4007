{
 "cells": [
  {
   "cell_type": "code",
   "execution_count": 1,
   "id": "f09037ab-4969-488c-a836-bacb7df574cb",
   "metadata": {},
   "outputs": [],
   "source": [
    "suppressPackageStartupMessages({\n",
    "    library(tidyverse)\n",
    "    library(ggplot2)\n",
    "    library(palmerpenguins)\n",
    "    library(lubridate)\n",
    "    library(DBI)\n",
    "    library(RSQLite)\n",
    "    library(httr2)\n",
    "    library(rvest)\n",
    "})"
   ]
  },
  {
   "cell_type": "markdown",
   "id": "0337d9fa-b9b5-4366-8395-cda6206e87dc",
   "metadata": {},
   "source": [
    "# SQL and Introduction to RegEx\n",
    "\n",
    "## SQL\n",
    "1. Connect to the SQL database (db for short) using `dbConnect()`\n",
    "2. Make a SQL query (a question or request) using `dbGetQuery()`\n",
    "3. When done, disconnect using `dbDisconnect()`\n",
    "### Step 1: Connect"
   ]
  },
  {
   "cell_type": "code",
   "execution_count": 2,
   "id": "9d98f0aa-a236-44eb-82ae-9370eac14172",
   "metadata": {},
   "outputs": [],
   "source": [
    "# Step 1. Make a connection to the database\n",
    "conn <- dbConnect(RSQLite::SQLite(), \"user_actions.db\")"
   ]
  },
  {
   "cell_type": "code",
   "execution_count": 3,
   "id": "a15ce315-869b-4444-9352-d8b382c304dd",
   "metadata": {},
   "outputs": [
    {
     "data": {
      "text/html": [
       "'user_actions'"
      ],
      "text/latex": [
       "'user\\_actions'"
      ],
      "text/markdown": [
       "'user_actions'"
      ],
      "text/plain": [
       "[1] \"user_actions\""
      ]
     },
     "metadata": {},
     "output_type": "display_data"
    }
   ],
   "source": [
    "# Check the available tables\n",
    "dbListTables(conn)"
   ]
  },
  {
   "cell_type": "code",
   "execution_count": 4,
   "id": "0684f70c-450d-4b05-85ca-74328a02cec1",
   "metadata": {},
   "outputs": [
    {
     "data": {
      "text/html": [
       "<style>\n",
       ".list-inline {list-style: none; margin:0; padding: 0}\n",
       ".list-inline>li {display: inline-block}\n",
       ".list-inline>li:not(:last-child)::after {content: \"\\00b7\"; padding: 0 .5ex}\n",
       "</style>\n",
       "<ol class=list-inline><li>'user_id'</li><li>'username'</li><li>'email'</li><li>'action'</li><li>'timestamp'</li></ol>\n"
      ],
      "text/latex": [
       "\\begin{enumerate*}\n",
       "\\item 'user\\_id'\n",
       "\\item 'username'\n",
       "\\item 'email'\n",
       "\\item 'action'\n",
       "\\item 'timestamp'\n",
       "\\end{enumerate*}\n"
      ],
      "text/markdown": [
       "1. 'user_id'\n",
       "2. 'username'\n",
       "3. 'email'\n",
       "4. 'action'\n",
       "5. 'timestamp'\n",
       "\n",
       "\n"
      ],
      "text/plain": [
       "[1] \"user_id\"   \"username\"  \"email\"     \"action\"    \"timestamp\""
      ]
     },
     "metadata": {},
     "output_type": "display_data"
    }
   ],
   "source": [
    "# Check the available variables in the table\n",
    "dbListFields(conn, \"user_actions\")"
   ]
  },
  {
   "cell_type": "markdown",
   "id": "5ea53551-57fc-4433-8eb5-b2d0e478d894",
   "metadata": {},
   "source": [
    "### Step 2: SQL Query"
   ]
  },
  {
   "cell_type": "code",
   "execution_count": 5,
   "id": "7727b2a7-65a5-477f-9ac8-3bae8967c176",
   "metadata": {},
   "outputs": [
    {
     "name": "stdout",
     "output_type": "stream",
     "text": [
      "Rows: 8,040\n",
      "Columns: 5\n",
      "$ user_id   \u001b[3m\u001b[90m<int>\u001b[39m\u001b[23m 34, 28, 27, 27, 27, 27, 27, 27, 27, 27, 27, 27, 33, 27, 27, ~\n",
      "$ username  \u001b[3m\u001b[90m<chr>\u001b[39m\u001b[23m \"user34\", \"user28\", \"user27\", \"user27\", \"user27\", \"user27\", ~\n",
      "$ email     \u001b[3m\u001b[90m<chr>\u001b[39m\u001b[23m \"user34@email.com\", \"user28@email.com\", \"user27@email.com\", ~\n",
      "$ action    \u001b[3m\u001b[90m<chr>\u001b[39m\u001b[23m \"signup\", \"signup\", \"login\", \"login\", \"reset_password\", \"log~\n",
      "$ timestamp \u001b[3m\u001b[90m<chr>\u001b[39m\u001b[23m \"2015-02-04 14:38:47\", \"2015-03-09 11:55:33\", \"2015-04-17 14~\n"
     ]
    }
   ],
   "source": [
    "# Query: Retrieve the whole table\n",
    "table <- dbGetQuery(conn, \"\n",
    "    SELECT *\n",
    "    FROM user_actions;\n",
    "\")\n",
    "glimpse(table)"
   ]
  },
  {
   "cell_type": "code",
   "execution_count": 6,
   "id": "296ca448-508c-486e-a863-9d17820af37f",
   "metadata": {},
   "outputs": [
    {
     "data": {
      "text/html": [
       "<table class=\"dataframe\">\n",
       "<caption>A data.frame: 6 × 3</caption>\n",
       "<thead>\n",
       "\t<tr><th></th><th scope=col>username</th><th scope=col>action</th><th scope=col>timestamp</th></tr>\n",
       "\t<tr><th></th><th scope=col>&lt;chr&gt;</th><th scope=col>&lt;chr&gt;</th><th scope=col>&lt;chr&gt;</th></tr>\n",
       "</thead>\n",
       "<tbody>\n",
       "\t<tr><th scope=row>1</th><td>user34</td><td>signup</td><td>2015-02-04 14:38:47</td></tr>\n",
       "\t<tr><th scope=row>2</th><td>user28</td><td>signup</td><td>2015-03-09 11:55:33</td></tr>\n",
       "\t<tr><th scope=row>3</th><td>user1 </td><td>signup</td><td>2015-11-06 08:07:13</td></tr>\n",
       "\t<tr><th scope=row>4</th><td>user24</td><td>signup</td><td>2015-12-11 15:25:07</td></tr>\n",
       "\t<tr><th scope=row>5</th><td>user15</td><td>signup</td><td>2016-04-03 16:12:11</td></tr>\n",
       "\t<tr><th scope=row>6</th><td>user20</td><td>signup</td><td>2016-05-28 16:40:00</td></tr>\n",
       "</tbody>\n",
       "</table>\n"
      ],
      "text/latex": [
       "A data.frame: 6 × 3\n",
       "\\begin{tabular}{r|lll}\n",
       "  & username & action & timestamp\\\\\n",
       "  & <chr> & <chr> & <chr>\\\\\n",
       "\\hline\n",
       "\t1 & user34 & signup & 2015-02-04 14:38:47\\\\\n",
       "\t2 & user28 & signup & 2015-03-09 11:55:33\\\\\n",
       "\t3 & user1  & signup & 2015-11-06 08:07:13\\\\\n",
       "\t4 & user24 & signup & 2015-12-11 15:25:07\\\\\n",
       "\t5 & user15 & signup & 2016-04-03 16:12:11\\\\\n",
       "\t6 & user20 & signup & 2016-05-28 16:40:00\\\\\n",
       "\\end{tabular}\n"
      ],
      "text/markdown": [
       "\n",
       "A data.frame: 6 × 3\n",
       "\n",
       "| <!--/--> | username &lt;chr&gt; | action &lt;chr&gt; | timestamp &lt;chr&gt; |\n",
       "|---|---|---|---|\n",
       "| 1 | user34 | signup | 2015-02-04 14:38:47 |\n",
       "| 2 | user28 | signup | 2015-03-09 11:55:33 |\n",
       "| 3 | user1  | signup | 2015-11-06 08:07:13 |\n",
       "| 4 | user24 | signup | 2015-12-11 15:25:07 |\n",
       "| 5 | user15 | signup | 2016-04-03 16:12:11 |\n",
       "| 6 | user20 | signup | 2016-05-28 16:40:00 |\n",
       "\n"
      ],
      "text/plain": [
       "  username action timestamp          \n",
       "1 user34   signup 2015-02-04 14:38:47\n",
       "2 user28   signup 2015-03-09 11:55:33\n",
       "3 user1    signup 2015-11-06 08:07:13\n",
       "4 user24   signup 2015-12-11 15:25:07\n",
       "5 user15   signup 2016-04-03 16:12:11\n",
       "6 user20   signup 2016-05-28 16:40:00"
      ]
     },
     "metadata": {},
     "output_type": "display_data"
    }
   ],
   "source": [
    "# Query: Use `WHERE` to filter all users who has made the action signup\n",
    "signup_users_log <- dbGetQuery(conn, \"\n",
    "    SELECT username, action, timestamp\n",
    "    FROM user_actions\n",
    "    WHERE action = 'signup';\n",
    "\")\n",
    "head(signup_users_log)"
   ]
  },
  {
   "cell_type": "code",
   "execution_count": 7,
   "id": "f955556b-f573-4ce1-a5f1-908865a38ab3",
   "metadata": {},
   "outputs": [
    {
     "data": {
      "text/html": [
       "<table class=\"dataframe\">\n",
       "<caption>A data.frame: 6 × 3</caption>\n",
       "<thead>\n",
       "\t<tr><th></th><th scope=col>user_id</th><th scope=col>username</th><th scope=col>log_counts</th></tr>\n",
       "\t<tr><th></th><th scope=col>&lt;int&gt;</th><th scope=col>&lt;chr&gt;</th><th scope=col>&lt;int&gt;</th></tr>\n",
       "</thead>\n",
       "<tbody>\n",
       "\t<tr><th scope=row>1</th><td>1</td><td>user1</td><td>104</td></tr>\n",
       "\t<tr><th scope=row>2</th><td>2</td><td>user2</td><td>149</td></tr>\n",
       "\t<tr><th scope=row>3</th><td>3</td><td>user3</td><td>108</td></tr>\n",
       "\t<tr><th scope=row>4</th><td>4</td><td>user4</td><td>436</td></tr>\n",
       "\t<tr><th scope=row>5</th><td>5</td><td>user5</td><td>192</td></tr>\n",
       "\t<tr><th scope=row>6</th><td>6</td><td>user6</td><td>457</td></tr>\n",
       "</tbody>\n",
       "</table>\n"
      ],
      "text/latex": [
       "A data.frame: 6 × 3\n",
       "\\begin{tabular}{r|lll}\n",
       "  & user\\_id & username & log\\_counts\\\\\n",
       "  & <int> & <chr> & <int>\\\\\n",
       "\\hline\n",
       "\t1 & 1 & user1 & 104\\\\\n",
       "\t2 & 2 & user2 & 149\\\\\n",
       "\t3 & 3 & user3 & 108\\\\\n",
       "\t4 & 4 & user4 & 436\\\\\n",
       "\t5 & 5 & user5 & 192\\\\\n",
       "\t6 & 6 & user6 & 457\\\\\n",
       "\\end{tabular}\n"
      ],
      "text/markdown": [
       "\n",
       "A data.frame: 6 × 3\n",
       "\n",
       "| <!--/--> | user_id &lt;int&gt; | username &lt;chr&gt; | log_counts &lt;int&gt; |\n",
       "|---|---|---|---|\n",
       "| 1 | 1 | user1 | 104 |\n",
       "| 2 | 2 | user2 | 149 |\n",
       "| 3 | 3 | user3 | 108 |\n",
       "| 4 | 4 | user4 | 436 |\n",
       "| 5 | 5 | user5 | 192 |\n",
       "| 6 | 6 | user6 | 457 |\n",
       "\n"
      ],
      "text/plain": [
       "  user_id username log_counts\n",
       "1 1       user1    104       \n",
       "2 2       user2    149       \n",
       "3 3       user3    108       \n",
       "4 4       user4    436       \n",
       "5 5       user5    192       \n",
       "6 6       user6    457       "
      ]
     },
     "metadata": {},
     "output_type": "display_data"
    }
   ],
   "source": [
    "# Query: Find the total number of log entries for each user using GROUP BY and the function COUNT(*)\n",
    "log_counts <- dbGetQuery(conn, \"\n",
    "    SELECT user_id, username, COUNT(*) AS log_counts\n",
    "    FROM user_actions\n",
    "    GROUP BY user_id, username;\n",
    "\")\n",
    "head(log_counts)"
   ]
  },
  {
   "cell_type": "code",
   "execution_count": 8,
   "id": "1d1a7b37-ed61-4558-93af-869e67f6bb41",
   "metadata": {},
   "outputs": [],
   "source": [
    "dbDisconnect(conn)"
   ]
  },
  {
   "cell_type": "markdown",
   "id": "d2b73093-5046-4717-ae2b-a731eeedc352",
   "metadata": {},
   "source": [
    "## RegEx\n",
    "- Use `gregexpr(pattern, data)` to find all positions that matches the pattern\n",
    "- Use `regexpr()` to find the first position that matches the pattern\n",
    "- Use `regmatches()` to extract the substring(s)\n",
    "### Example: Extract the substrings starting with Hashtag"
   ]
  },
  {
   "cell_type": "code",
   "execution_count": 9,
   "id": "840009b0-7348-46b1-9360-71801fa93326",
   "metadata": {},
   "outputs": [
    {
     "data": {
      "text/html": [
       "'37. \"Coding challenges are rewarding. #coding #python\"'"
      ],
      "text/latex": [
       "'37. \"Coding challenges are rewarding. \\#coding \\#python\"'"
      ],
      "text/markdown": [
       "'37. \"Coding challenges are rewarding. #coding #python\"'"
      ],
      "text/plain": [
       "[1] \"37. \\\"Coding challenges are rewarding. #coding #python\\\"\""
      ]
     },
     "metadata": {},
     "output_type": "display_data"
    },
    {
     "data": {
      "text/html": [
       "'#coding'"
      ],
      "text/latex": [
       "'\\#coding'"
      ],
      "text/markdown": [
       "'#coding'"
      ],
      "text/plain": [
       "[1] \"#coding\""
      ]
     },
     "metadata": {},
     "output_type": "display_data"
    },
    {
     "data": {
      "text/html": [
       "<ol>\n",
       "\t<li><style>\n",
       ".list-inline {list-style: none; margin:0; padding: 0}\n",
       ".list-inline>li {display: inline-block}\n",
       ".list-inline>li:not(:last-child)::after {content: \"\\00b7\"; padding: 0 .5ex}\n",
       "</style>\n",
       "<ol class=list-inline><li>'#coding'</li><li>'#python'</li></ol>\n",
       "</li>\n",
       "</ol>\n"
      ],
      "text/latex": [
       "\\begin{enumerate}\n",
       "\\item \\begin{enumerate*}\n",
       "\\item '\\#coding'\n",
       "\\item '\\#python'\n",
       "\\end{enumerate*}\n",
       "\n",
       "\\end{enumerate}\n"
      ],
      "text/markdown": [
       "1. 1. '#coding'\n",
       "2. '#python'\n",
       "\n",
       "\n",
       "\n",
       "\n",
       "\n"
      ],
      "text/plain": [
       "[[1]]\n",
       "[1] \"#coding\" \"#python\"\n"
      ]
     },
     "metadata": {},
     "output_type": "display_data"
    }
   ],
   "source": [
    "# Read the txt file\n",
    "comments <- readLines(\"comments.txt\")\n",
    "\n",
    "# Select a random comment to search\n",
    "comment <- comments[37]\n",
    "comment\n",
    "\n",
    "# Define the pattern\n",
    "pattern <- \"#\\\\w+\"\n",
    "\n",
    "# Find the first position that matches the pattern\n",
    "match <- regexpr(pattern, comment)\n",
    "\n",
    "# Find all positions that matches the pattern\n",
    "matches <- gregexpr(pattern, comment)\n",
    "\n",
    "# Extract the substring(s)\n",
    "regmatches(comment, match)\n",
    "regmatches(comment, matches)"
   ]
  }
 ],
 "metadata": {
  "kernelspec": {
   "display_name": "R",
   "language": "R",
   "name": "ir"
  },
  "language_info": {
   "codemirror_mode": "r",
   "file_extension": ".r",
   "mimetype": "text/x-r-source",
   "name": "R",
   "pygments_lexer": "r",
   "version": "4.1.3"
  }
 },
 "nbformat": 4,
 "nbformat_minor": 5
}
