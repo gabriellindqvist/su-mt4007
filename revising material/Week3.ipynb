{
 "cells": [
  {
   "cell_type": "code",
   "execution_count": 1,
   "id": "45d7a1bf-b885-44c4-8e31-5f26898bb1a9",
   "metadata": {},
   "outputs": [],
   "source": [
    "suppressPackageStartupMessages({\n",
    "    library(tidyverse)\n",
    "    library(ggplot2)\n",
    "    library(palmerpenguins)\n",
    "    library(lubridate)\n",
    "})"
   ]
  },
  {
   "cell_type": "code",
   "execution_count": 2,
   "id": "02b420e0-9dfa-4fa0-bebc-1a181524a3e8",
   "metadata": {},
   "outputs": [
    {
     "name": "stdout",
     "output_type": "stream",
     "text": [
      "Rows: 344\n",
      "Columns: 8\n",
      "$ species           \u001b[3m\u001b[90m<fct>\u001b[39m\u001b[23m Adelie, Adelie, Adelie, Adelie, Adelie, Adelie, Adel~\n",
      "$ island            \u001b[3m\u001b[90m<fct>\u001b[39m\u001b[23m Torgersen, Torgersen, Torgersen, Torgersen, Torgerse~\n",
      "$ bill_length_mm    \u001b[3m\u001b[90m<dbl>\u001b[39m\u001b[23m 39.1, 39.5, 40.3, NA, 36.7, 39.3, 38.9, 39.2, 34.1, ~\n",
      "$ bill_depth_mm     \u001b[3m\u001b[90m<dbl>\u001b[39m\u001b[23m 18.7, 17.4, 18.0, NA, 19.3, 20.6, 17.8, 19.6, 18.1, ~\n",
      "$ flipper_length_mm \u001b[3m\u001b[90m<int>\u001b[39m\u001b[23m 181, 186, 195, NA, 193, 190, 181, 195, 193, 190, 186~\n",
      "$ body_mass_g       \u001b[3m\u001b[90m<int>\u001b[39m\u001b[23m 3750, 3800, 3250, NA, 3450, 3650, 3625, 4675, 3475, ~\n",
      "$ sex               \u001b[3m\u001b[90m<fct>\u001b[39m\u001b[23m male, female, female, NA, female, male, female, male~\n",
      "$ year              \u001b[3m\u001b[90m<int>\u001b[39m\u001b[23m 2007, 2007, 2007, 2007, 2007, 2007, 2007, 2007, 2007~\n"
     ]
    }
   ],
   "source": [
    "penguins_df <- penguins\n",
    "glimpse(penguins_df)"
   ]
  },
  {
   "cell_type": "markdown",
   "id": "e21e8cf4-c71e-4321-b374-03c3cd476b11",
   "metadata": {},
   "source": [
    "## Data Cleaning"
   ]
  },
  {
   "cell_type": "code",
   "execution_count": 3,
   "id": "4eb73c8f-be29-4cd3-954e-64e392d99003",
   "metadata": {},
   "outputs": [
    {
     "data": {
      "text/html": [
       "19"
      ],
      "text/latex": [
       "19"
      ],
      "text/markdown": [
       "19"
      ],
      "text/plain": [
       "[1] 19"
      ]
     },
     "metadata": {},
     "output_type": "display_data"
    },
    {
     "data": {
      "text/html": [
       "<table class=\"dataframe\">\n",
       "<caption>A tibble: 11 × 8</caption>\n",
       "<thead>\n",
       "\t<tr><th scope=col>species</th><th scope=col>island</th><th scope=col>bill_length_mm</th><th scope=col>bill_depth_mm</th><th scope=col>flipper_length_mm</th><th scope=col>body_mass_g</th><th scope=col>sex</th><th scope=col>year</th></tr>\n",
       "\t<tr><th scope=col>&lt;fct&gt;</th><th scope=col>&lt;fct&gt;</th><th scope=col>&lt;dbl&gt;</th><th scope=col>&lt;dbl&gt;</th><th scope=col>&lt;int&gt;</th><th scope=col>&lt;int&gt;</th><th scope=col>&lt;fct&gt;</th><th scope=col>&lt;int&gt;</th></tr>\n",
       "</thead>\n",
       "<tbody>\n",
       "\t<tr><td>Adelie</td><td>Torgersen</td><td>  NA</td><td>  NA</td><td> NA</td><td>  NA</td><td>NA</td><td>2007</td></tr>\n",
       "\t<tr><td>Adelie</td><td>Torgersen</td><td>34.1</td><td>18.1</td><td>193</td><td>3475</td><td>NA</td><td>2007</td></tr>\n",
       "\t<tr><td>Adelie</td><td>Torgersen</td><td>42.0</td><td>20.2</td><td>190</td><td>4250</td><td>NA</td><td>2007</td></tr>\n",
       "\t<tr><td>Adelie</td><td>Torgersen</td><td>37.8</td><td>17.1</td><td>186</td><td>3300</td><td>NA</td><td>2007</td></tr>\n",
       "\t<tr><td>Adelie</td><td>Torgersen</td><td>37.8</td><td>17.3</td><td>180</td><td>3700</td><td>NA</td><td>2007</td></tr>\n",
       "\t<tr><td>Adelie</td><td>Dream    </td><td>37.5</td><td>18.9</td><td>179</td><td>2975</td><td>NA</td><td>2007</td></tr>\n",
       "\t<tr><td>Gentoo</td><td>Biscoe   </td><td>44.5</td><td>14.3</td><td>216</td><td>4100</td><td>NA</td><td>2007</td></tr>\n",
       "\t<tr><td>Gentoo</td><td>Biscoe   </td><td>46.2</td><td>14.4</td><td>214</td><td>4650</td><td>NA</td><td>2008</td></tr>\n",
       "\t<tr><td>Gentoo</td><td>Biscoe   </td><td>47.3</td><td>13.8</td><td>216</td><td>4725</td><td>NA</td><td>2009</td></tr>\n",
       "\t<tr><td>Gentoo</td><td>Biscoe   </td><td>44.5</td><td>15.7</td><td>217</td><td>4875</td><td>NA</td><td>2009</td></tr>\n",
       "\t<tr><td>Gentoo</td><td>Biscoe   </td><td>  NA</td><td>  NA</td><td> NA</td><td>  NA</td><td>NA</td><td>2009</td></tr>\n",
       "</tbody>\n",
       "</table>\n"
      ],
      "text/latex": [
       "A tibble: 11 × 8\n",
       "\\begin{tabular}{llllllll}\n",
       " species & island & bill\\_length\\_mm & bill\\_depth\\_mm & flipper\\_length\\_mm & body\\_mass\\_g & sex & year\\\\\n",
       " <fct> & <fct> & <dbl> & <dbl> & <int> & <int> & <fct> & <int>\\\\\n",
       "\\hline\n",
       "\t Adelie & Torgersen &   NA &   NA &  NA &   NA & NA & 2007\\\\\n",
       "\t Adelie & Torgersen & 34.1 & 18.1 & 193 & 3475 & NA & 2007\\\\\n",
       "\t Adelie & Torgersen & 42.0 & 20.2 & 190 & 4250 & NA & 2007\\\\\n",
       "\t Adelie & Torgersen & 37.8 & 17.1 & 186 & 3300 & NA & 2007\\\\\n",
       "\t Adelie & Torgersen & 37.8 & 17.3 & 180 & 3700 & NA & 2007\\\\\n",
       "\t Adelie & Dream     & 37.5 & 18.9 & 179 & 2975 & NA & 2007\\\\\n",
       "\t Gentoo & Biscoe    & 44.5 & 14.3 & 216 & 4100 & NA & 2007\\\\\n",
       "\t Gentoo & Biscoe    & 46.2 & 14.4 & 214 & 4650 & NA & 2008\\\\\n",
       "\t Gentoo & Biscoe    & 47.3 & 13.8 & 216 & 4725 & NA & 2009\\\\\n",
       "\t Gentoo & Biscoe    & 44.5 & 15.7 & 217 & 4875 & NA & 2009\\\\\n",
       "\t Gentoo & Biscoe    &   NA &   NA &  NA &   NA & NA & 2009\\\\\n",
       "\\end{tabular}\n"
      ],
      "text/markdown": [
       "\n",
       "A tibble: 11 × 8\n",
       "\n",
       "| species &lt;fct&gt; | island &lt;fct&gt; | bill_length_mm &lt;dbl&gt; | bill_depth_mm &lt;dbl&gt; | flipper_length_mm &lt;int&gt; | body_mass_g &lt;int&gt; | sex &lt;fct&gt; | year &lt;int&gt; |\n",
       "|---|---|---|---|---|---|---|---|\n",
       "| Adelie | Torgersen |   NA |   NA |  NA |   NA | NA | 2007 |\n",
       "| Adelie | Torgersen | 34.1 | 18.1 | 193 | 3475 | NA | 2007 |\n",
       "| Adelie | Torgersen | 42.0 | 20.2 | 190 | 4250 | NA | 2007 |\n",
       "| Adelie | Torgersen | 37.8 | 17.1 | 186 | 3300 | NA | 2007 |\n",
       "| Adelie | Torgersen | 37.8 | 17.3 | 180 | 3700 | NA | 2007 |\n",
       "| Adelie | Dream     | 37.5 | 18.9 | 179 | 2975 | NA | 2007 |\n",
       "| Gentoo | Biscoe    | 44.5 | 14.3 | 216 | 4100 | NA | 2007 |\n",
       "| Gentoo | Biscoe    | 46.2 | 14.4 | 214 | 4650 | NA | 2008 |\n",
       "| Gentoo | Biscoe    | 47.3 | 13.8 | 216 | 4725 | NA | 2009 |\n",
       "| Gentoo | Biscoe    | 44.5 | 15.7 | 217 | 4875 | NA | 2009 |\n",
       "| Gentoo | Biscoe    |   NA |   NA |  NA |   NA | NA | 2009 |\n",
       "\n"
      ],
      "text/plain": [
       "   species island    bill_length_mm bill_depth_mm flipper_length_mm body_mass_g\n",
       "1  Adelie  Torgersen   NA             NA           NA                 NA       \n",
       "2  Adelie  Torgersen 34.1           18.1          193               3475       \n",
       "3  Adelie  Torgersen 42.0           20.2          190               4250       \n",
       "4  Adelie  Torgersen 37.8           17.1          186               3300       \n",
       "5  Adelie  Torgersen 37.8           17.3          180               3700       \n",
       "6  Adelie  Dream     37.5           18.9          179               2975       \n",
       "7  Gentoo  Biscoe    44.5           14.3          216               4100       \n",
       "8  Gentoo  Biscoe    46.2           14.4          214               4650       \n",
       "9  Gentoo  Biscoe    47.3           13.8          216               4725       \n",
       "10 Gentoo  Biscoe    44.5           15.7          217               4875       \n",
       "11 Gentoo  Biscoe      NA             NA           NA                 NA       \n",
       "   sex year\n",
       "1  NA  2007\n",
       "2  NA  2007\n",
       "3  NA  2007\n",
       "4  NA  2007\n",
       "5  NA  2007\n",
       "6  NA  2007\n",
       "7  NA  2007\n",
       "8  NA  2008\n",
       "9  NA  2009\n",
       "10 NA  2009\n",
       "11 NA  2009"
      ]
     },
     "metadata": {},
     "output_type": "display_data"
    }
   ],
   "source": [
    "# Check the number of missing values\n",
    "sum(is.na(penguins_df))\n",
    "\n",
    "# Create subset dataframe containing rows with NA\n",
    "penguins_df[apply(is.na(penguins_df), 1, any), ]"
   ]
  },
  {
   "cell_type": "markdown",
   "id": "eb0de0e9-316b-44b3-9ba2-0c5170b30f35",
   "metadata": {},
   "source": [
    "- **Rows to automatically remove**: First and last row is to be removed due to missing values in almost all variables (except for species, island and year)\n",
    "\n",
    "- **Rows to investigate further**: All other rows have `NA` in the variable `sex`. These could be determined manually if there is a large difference in other dimensions.\n",
    "\n",
    "Summarize the averages by species, island and sex"
   ]
  },
  {
   "cell_type": "code",
   "execution_count": 4,
   "id": "4b63b498-f582-4313-97fb-d50584ec7bc0",
   "metadata": {},
   "outputs": [
    {
     "data": {
      "text/html": [
       "<table class=\"dataframe\">\n",
       "<caption>A grouped_df: 10 × 7</caption>\n",
       "<thead>\n",
       "\t<tr><th scope=col>species</th><th scope=col>island</th><th scope=col>sex</th><th scope=col>avg_bill_length</th><th scope=col>avg_bill_depth</th><th scope=col>avg_flipper_length</th><th scope=col>avg_body_mass</th></tr>\n",
       "\t<tr><th scope=col>&lt;fct&gt;</th><th scope=col>&lt;fct&gt;</th><th scope=col>&lt;fct&gt;</th><th scope=col>&lt;dbl&gt;</th><th scope=col>&lt;dbl&gt;</th><th scope=col>&lt;dbl&gt;</th><th scope=col>&lt;dbl&gt;</th></tr>\n",
       "</thead>\n",
       "<tbody>\n",
       "\t<tr><td>Adelie   </td><td>Biscoe   </td><td>female</td><td>37.35909</td><td>17.70455</td><td>187.1818</td><td>3369.318</td></tr>\n",
       "\t<tr><td>Adelie   </td><td>Biscoe   </td><td>male  </td><td>40.59091</td><td>19.03636</td><td>190.4091</td><td>4050.000</td></tr>\n",
       "\t<tr><td>Adelie   </td><td>Dream    </td><td>female</td><td>36.91111</td><td>17.61852</td><td>187.8519</td><td>3344.444</td></tr>\n",
       "\t<tr><td>Adelie   </td><td>Dream    </td><td>male  </td><td>40.07143</td><td>18.83929</td><td>191.9286</td><td>4045.536</td></tr>\n",
       "\t<tr><td>Adelie   </td><td>Torgersen</td><td>female</td><td>37.55417</td><td>17.55000</td><td>188.2917</td><td>3395.833</td></tr>\n",
       "\t<tr><td>Adelie   </td><td>Torgersen</td><td>male  </td><td>40.58696</td><td>19.39130</td><td>194.9130</td><td>4034.783</td></tr>\n",
       "\t<tr><td>Chinstrap</td><td>Dream    </td><td>female</td><td>46.57353</td><td>17.58824</td><td>191.7353</td><td>3527.206</td></tr>\n",
       "\t<tr><td>Chinstrap</td><td>Dream    </td><td>male  </td><td>51.09412</td><td>19.25294</td><td>199.9118</td><td>3938.971</td></tr>\n",
       "\t<tr><td>Gentoo   </td><td>Biscoe   </td><td>female</td><td>45.56379</td><td>14.23793</td><td>212.7069</td><td>4679.741</td></tr>\n",
       "\t<tr><td>Gentoo   </td><td>Biscoe   </td><td>male  </td><td>49.47377</td><td>15.71803</td><td>221.5410</td><td>5484.836</td></tr>\n",
       "</tbody>\n",
       "</table>\n"
      ],
      "text/latex": [
       "A grouped\\_df: 10 × 7\n",
       "\\begin{tabular}{lllllll}\n",
       " species & island & sex & avg\\_bill\\_length & avg\\_bill\\_depth & avg\\_flipper\\_length & avg\\_body\\_mass\\\\\n",
       " <fct> & <fct> & <fct> & <dbl> & <dbl> & <dbl> & <dbl>\\\\\n",
       "\\hline\n",
       "\t Adelie    & Biscoe    & female & 37.35909 & 17.70455 & 187.1818 & 3369.318\\\\\n",
       "\t Adelie    & Biscoe    & male   & 40.59091 & 19.03636 & 190.4091 & 4050.000\\\\\n",
       "\t Adelie    & Dream     & female & 36.91111 & 17.61852 & 187.8519 & 3344.444\\\\\n",
       "\t Adelie    & Dream     & male   & 40.07143 & 18.83929 & 191.9286 & 4045.536\\\\\n",
       "\t Adelie    & Torgersen & female & 37.55417 & 17.55000 & 188.2917 & 3395.833\\\\\n",
       "\t Adelie    & Torgersen & male   & 40.58696 & 19.39130 & 194.9130 & 4034.783\\\\\n",
       "\t Chinstrap & Dream     & female & 46.57353 & 17.58824 & 191.7353 & 3527.206\\\\\n",
       "\t Chinstrap & Dream     & male   & 51.09412 & 19.25294 & 199.9118 & 3938.971\\\\\n",
       "\t Gentoo    & Biscoe    & female & 45.56379 & 14.23793 & 212.7069 & 4679.741\\\\\n",
       "\t Gentoo    & Biscoe    & male   & 49.47377 & 15.71803 & 221.5410 & 5484.836\\\\\n",
       "\\end{tabular}\n"
      ],
      "text/markdown": [
       "\n",
       "A grouped_df: 10 × 7\n",
       "\n",
       "| species &lt;fct&gt; | island &lt;fct&gt; | sex &lt;fct&gt; | avg_bill_length &lt;dbl&gt; | avg_bill_depth &lt;dbl&gt; | avg_flipper_length &lt;dbl&gt; | avg_body_mass &lt;dbl&gt; |\n",
       "|---|---|---|---|---|---|---|\n",
       "| Adelie    | Biscoe    | female | 37.35909 | 17.70455 | 187.1818 | 3369.318 |\n",
       "| Adelie    | Biscoe    | male   | 40.59091 | 19.03636 | 190.4091 | 4050.000 |\n",
       "| Adelie    | Dream     | female | 36.91111 | 17.61852 | 187.8519 | 3344.444 |\n",
       "| Adelie    | Dream     | male   | 40.07143 | 18.83929 | 191.9286 | 4045.536 |\n",
       "| Adelie    | Torgersen | female | 37.55417 | 17.55000 | 188.2917 | 3395.833 |\n",
       "| Adelie    | Torgersen | male   | 40.58696 | 19.39130 | 194.9130 | 4034.783 |\n",
       "| Chinstrap | Dream     | female | 46.57353 | 17.58824 | 191.7353 | 3527.206 |\n",
       "| Chinstrap | Dream     | male   | 51.09412 | 19.25294 | 199.9118 | 3938.971 |\n",
       "| Gentoo    | Biscoe    | female | 45.56379 | 14.23793 | 212.7069 | 4679.741 |\n",
       "| Gentoo    | Biscoe    | male   | 49.47377 | 15.71803 | 221.5410 | 5484.836 |\n",
       "\n"
      ],
      "text/plain": [
       "   species   island    sex    avg_bill_length avg_bill_depth avg_flipper_length\n",
       "1  Adelie    Biscoe    female 37.35909        17.70455       187.1818          \n",
       "2  Adelie    Biscoe    male   40.59091        19.03636       190.4091          \n",
       "3  Adelie    Dream     female 36.91111        17.61852       187.8519          \n",
       "4  Adelie    Dream     male   40.07143        18.83929       191.9286          \n",
       "5  Adelie    Torgersen female 37.55417        17.55000       188.2917          \n",
       "6  Adelie    Torgersen male   40.58696        19.39130       194.9130          \n",
       "7  Chinstrap Dream     female 46.57353        17.58824       191.7353          \n",
       "8  Chinstrap Dream     male   51.09412        19.25294       199.9118          \n",
       "9  Gentoo    Biscoe    female 45.56379        14.23793       212.7069          \n",
       "10 Gentoo    Biscoe    male   49.47377        15.71803       221.5410          \n",
       "   avg_body_mass\n",
       "1  3369.318     \n",
       "2  4050.000     \n",
       "3  3344.444     \n",
       "4  4045.536     \n",
       "5  3395.833     \n",
       "6  4034.783     \n",
       "7  3527.206     \n",
       "8  3938.971     \n",
       "9  4679.741     \n",
       "10 5484.836     "
      ]
     },
     "metadata": {},
     "output_type": "display_data"
    }
   ],
   "source": [
    "penguins_df %>%\n",
    "    drop_na() %>%\n",
    "    group_by(species, island, sex) %>%\n",
    "    summarize(\n",
    "        avg_bill_length = mean(bill_length_mm, na.rm = TRUE),\n",
    "        avg_bill_depth = mean(bill_depth_mm, na.rm = TRUE),\n",
    "        avg_flipper_length = mean(flipper_length_mm, na.rm = TRUE),\n",
    "        avg_body_mass = mean(body_mass_g, na.rm = TRUE),\n",
    "        .groups = \"keep\"\n",
    "    )"
   ]
  },
  {
   "cell_type": "markdown",
   "id": "d815cdbd-54dd-4f20-bb4a-4e55d8fe513e",
   "metadata": {},
   "source": [
    "There is a large difference in body weight between males and females for each specie. Also, the species habitant (island) does not seem to impact the average weight significantly. Thus we can use these to determine the sex of the observations of interest."
   ]
  },
  {
   "cell_type": "code",
   "execution_count": 5,
   "id": "5abf2e49-af5c-4b31-97f1-978cb5531e36",
   "metadata": {},
   "outputs": [
    {
     "data": {
      "text/html": [
       "<style>\n",
       ".list-inline {list-style: none; margin:0; padding: 0}\n",
       ".list-inline>li {display: inline-block}\n",
       ".list-inline>li:not(:last-child)::after {content: \"\\00b7\"; padding: 0 .5ex}\n",
       "</style>\n",
       "<ol class=list-inline><li>4</li><li>9</li><li>10</li><li>11</li><li>12</li><li>48</li><li>179</li><li>219</li><li>257</li><li>269</li><li>272</li></ol>\n"
      ],
      "text/latex": [
       "\\begin{enumerate*}\n",
       "\\item 4\n",
       "\\item 9\n",
       "\\item 10\n",
       "\\item 11\n",
       "\\item 12\n",
       "\\item 48\n",
       "\\item 179\n",
       "\\item 219\n",
       "\\item 257\n",
       "\\item 269\n",
       "\\item 272\n",
       "\\end{enumerate*}\n"
      ],
      "text/markdown": [
       "1. 4\n",
       "2. 9\n",
       "3. 10\n",
       "4. 11\n",
       "5. 12\n",
       "6. 48\n",
       "7. 179\n",
       "8. 219\n",
       "9. 257\n",
       "10. 269\n",
       "11. 272\n",
       "\n",
       "\n"
      ],
      "text/plain": [
       " [1]   4   9  10  11  12  48 179 219 257 269 272"
      ]
     },
     "metadata": {},
     "output_type": "display_data"
    }
   ],
   "source": [
    "# Fetch row indices containing NA\n",
    "na_indicies <- which(apply(is.na(penguins_df), 1, any))\n",
    "na_indicies"
   ]
  },
  {
   "cell_type": "code",
   "execution_count": 6,
   "id": "f41bff0b-e514-4591-b4ca-7812781f5560",
   "metadata": {},
   "outputs": [
    {
     "data": {
      "text/html": [
       "0"
      ],
      "text/latex": [
       "0"
      ],
      "text/markdown": [
       "0"
      ],
      "text/plain": [
       "[1] 0"
      ]
     },
     "metadata": {},
     "output_type": "display_data"
    }
   ],
   "source": [
    "# Assign sex based on body mass\n",
    "penguins_df[9, ]$sex <-  \"female\"\n",
    "penguins_df[10, ]$sex <- \"male\"\n",
    "penguins_df[11, ]$sex <- \"female\"\n",
    "penguins_df[48, ]$sex <- \"female\"\n",
    "penguins_df[179, ]$sex <- \"female\"\n",
    "penguins_df[219, ]$sex <- \"female\"\n",
    "penguins_df[257, ]$sex <- \"female\"\n",
    "penguins_df[269, ]$sex <- \"female\"\n",
    "\n",
    "# Remove rows with excessive NAs\n",
    "# and row 12 due to body mass being outlier\n",
    "penguins_clean <- penguins_df[-c(4, 12, 272), ]\n",
    "\n",
    "# Confirm if all NAs have been handled\n",
    "sum(is.na(penguins_clean))"
   ]
  },
  {
   "cell_type": "markdown",
   "id": "96bb8720-7545-4c38-809f-5b8e7c924ce1",
   "metadata": {},
   "source": [
    "## Data Preperation: Tidy Data and Joining data\n",
    "\n",
    "### Conditions:\n",
    "1. Each variable must have its own column\n",
    "2. Each observation must have its own row\n",
    "3. Each value must have its own cell\n",
    "\n",
    "### Example of a tidy dataset"
   ]
  },
  {
   "cell_type": "code",
   "execution_count": 7,
   "id": "fda27ca2-6b51-4494-b162-79ec57783bc3",
   "metadata": {},
   "outputs": [
    {
     "data": {
      "text/html": [
       "<table class=\"dataframe\">\n",
       "<caption>A tibble: 6 × 4</caption>\n",
       "<thead>\n",
       "\t<tr><th scope=col>country</th><th scope=col>year</th><th scope=col>cases</th><th scope=col>population</th></tr>\n",
       "\t<tr><th scope=col>&lt;chr&gt;</th><th scope=col>&lt;dbl&gt;</th><th scope=col>&lt;dbl&gt;</th><th scope=col>&lt;dbl&gt;</th></tr>\n",
       "</thead>\n",
       "<tbody>\n",
       "\t<tr><td>Afghanistan</td><td>1999</td><td>   745</td><td>  19987071</td></tr>\n",
       "\t<tr><td>Afghanistan</td><td>2000</td><td>  2666</td><td>  20595360</td></tr>\n",
       "\t<tr><td>Brazil     </td><td>1999</td><td> 37737</td><td> 172006362</td></tr>\n",
       "\t<tr><td>Brazil     </td><td>2000</td><td> 80488</td><td> 174504898</td></tr>\n",
       "\t<tr><td>China      </td><td>1999</td><td>212258</td><td>1272915272</td></tr>\n",
       "\t<tr><td>China      </td><td>2000</td><td>213766</td><td>1280428583</td></tr>\n",
       "</tbody>\n",
       "</table>\n"
      ],
      "text/latex": [
       "A tibble: 6 × 4\n",
       "\\begin{tabular}{llll}\n",
       " country & year & cases & population\\\\\n",
       " <chr> & <dbl> & <dbl> & <dbl>\\\\\n",
       "\\hline\n",
       "\t Afghanistan & 1999 &    745 &   19987071\\\\\n",
       "\t Afghanistan & 2000 &   2666 &   20595360\\\\\n",
       "\t Brazil      & 1999 &  37737 &  172006362\\\\\n",
       "\t Brazil      & 2000 &  80488 &  174504898\\\\\n",
       "\t China       & 1999 & 212258 & 1272915272\\\\\n",
       "\t China       & 2000 & 213766 & 1280428583\\\\\n",
       "\\end{tabular}\n"
      ],
      "text/markdown": [
       "\n",
       "A tibble: 6 × 4\n",
       "\n",
       "| country &lt;chr&gt; | year &lt;dbl&gt; | cases &lt;dbl&gt; | population &lt;dbl&gt; |\n",
       "|---|---|---|---|\n",
       "| Afghanistan | 1999 |    745 |   19987071 |\n",
       "| Afghanistan | 2000 |   2666 |   20595360 |\n",
       "| Brazil      | 1999 |  37737 |  172006362 |\n",
       "| Brazil      | 2000 |  80488 |  174504898 |\n",
       "| China       | 1999 | 212258 | 1272915272 |\n",
       "| China       | 2000 | 213766 | 1280428583 |\n",
       "\n"
      ],
      "text/plain": [
       "  country     year cases  population\n",
       "1 Afghanistan 1999    745   19987071\n",
       "2 Afghanistan 2000   2666   20595360\n",
       "3 Brazil      1999  37737  172006362\n",
       "4 Brazil      2000  80488  174504898\n",
       "5 China       1999 212258 1272915272\n",
       "6 China       2000 213766 1280428583"
      ]
     },
     "metadata": {},
     "output_type": "display_data"
    }
   ],
   "source": [
    "table1"
   ]
  },
  {
   "cell_type": "markdown",
   "id": "aaa66a05-969a-4609-8628-e06d55628f70",
   "metadata": {},
   "source": [
    "### Example: tidy a dataset using pivoting"
   ]
  },
  {
   "cell_type": "code",
   "execution_count": 8,
   "id": "ee9f0248-3ed1-4639-9723-1e25d1e73e46",
   "metadata": {},
   "outputs": [
    {
     "data": {
      "text/html": [
       "<table class=\"dataframe\">\n",
       "<caption>A tibble: 3 × 3</caption>\n",
       "<thead>\n",
       "\t<tr><th scope=col>country</th><th scope=col>1999</th><th scope=col>2000</th></tr>\n",
       "\t<tr><th scope=col>&lt;chr&gt;</th><th scope=col>&lt;dbl&gt;</th><th scope=col>&lt;dbl&gt;</th></tr>\n",
       "</thead>\n",
       "<tbody>\n",
       "\t<tr><td>Afghanistan</td><td>   745</td><td>  2666</td></tr>\n",
       "\t<tr><td>Brazil     </td><td> 37737</td><td> 80488</td></tr>\n",
       "\t<tr><td>China      </td><td>212258</td><td>213766</td></tr>\n",
       "</tbody>\n",
       "</table>\n"
      ],
      "text/latex": [
       "A tibble: 3 × 3\n",
       "\\begin{tabular}{lll}\n",
       " country & 1999 & 2000\\\\\n",
       " <chr> & <dbl> & <dbl>\\\\\n",
       "\\hline\n",
       "\t Afghanistan &    745 &   2666\\\\\n",
       "\t Brazil      &  37737 &  80488\\\\\n",
       "\t China       & 212258 & 213766\\\\\n",
       "\\end{tabular}\n"
      ],
      "text/markdown": [
       "\n",
       "A tibble: 3 × 3\n",
       "\n",
       "| country &lt;chr&gt; | 1999 &lt;dbl&gt; | 2000 &lt;dbl&gt; |\n",
       "|---|---|---|\n",
       "| Afghanistan |    745 |   2666 |\n",
       "| Brazil      |  37737 |  80488 |\n",
       "| China       | 212258 | 213766 |\n",
       "\n"
      ],
      "text/plain": [
       "  country     1999   2000  \n",
       "1 Afghanistan    745   2666\n",
       "2 Brazil       37737  80488\n",
       "3 China       212258 213766"
      ]
     },
     "metadata": {},
     "output_type": "display_data"
    },
    {
     "data": {
      "text/html": [
       "<table class=\"dataframe\">\n",
       "<caption>A tibble: 6 × 3</caption>\n",
       "<thead>\n",
       "\t<tr><th scope=col>country</th><th scope=col>year</th><th scope=col>cases</th></tr>\n",
       "\t<tr><th scope=col>&lt;chr&gt;</th><th scope=col>&lt;chr&gt;</th><th scope=col>&lt;dbl&gt;</th></tr>\n",
       "</thead>\n",
       "<tbody>\n",
       "\t<tr><td>Afghanistan</td><td>1999</td><td>   745</td></tr>\n",
       "\t<tr><td>Afghanistan</td><td>2000</td><td>  2666</td></tr>\n",
       "\t<tr><td>Brazil     </td><td>1999</td><td> 37737</td></tr>\n",
       "\t<tr><td>Brazil     </td><td>2000</td><td> 80488</td></tr>\n",
       "\t<tr><td>China      </td><td>1999</td><td>212258</td></tr>\n",
       "\t<tr><td>China      </td><td>2000</td><td>213766</td></tr>\n",
       "</tbody>\n",
       "</table>\n"
      ],
      "text/latex": [
       "A tibble: 6 × 3\n",
       "\\begin{tabular}{lll}\n",
       " country & year & cases\\\\\n",
       " <chr> & <chr> & <dbl>\\\\\n",
       "\\hline\n",
       "\t Afghanistan & 1999 &    745\\\\\n",
       "\t Afghanistan & 2000 &   2666\\\\\n",
       "\t Brazil      & 1999 &  37737\\\\\n",
       "\t Brazil      & 2000 &  80488\\\\\n",
       "\t China       & 1999 & 212258\\\\\n",
       "\t China       & 2000 & 213766\\\\\n",
       "\\end{tabular}\n"
      ],
      "text/markdown": [
       "\n",
       "A tibble: 6 × 3\n",
       "\n",
       "| country &lt;chr&gt; | year &lt;chr&gt; | cases &lt;dbl&gt; |\n",
       "|---|---|---|\n",
       "| Afghanistan | 1999 |    745 |\n",
       "| Afghanistan | 2000 |   2666 |\n",
       "| Brazil      | 1999 |  37737 |\n",
       "| Brazil      | 2000 |  80488 |\n",
       "| China       | 1999 | 212258 |\n",
       "| China       | 2000 | 213766 |\n",
       "\n"
      ],
      "text/plain": [
       "  country     year cases \n",
       "1 Afghanistan 1999    745\n",
       "2 Afghanistan 2000   2666\n",
       "3 Brazil      1999  37737\n",
       "4 Brazil      2000  80488\n",
       "5 China       1999 212258\n",
       "6 China       2000 213766"
      ]
     },
     "metadata": {},
     "output_type": "display_data"
    }
   ],
   "source": [
    " # Untidy due to\n",
    "## 1. Columns 1999 and 2000 are values not variables\n",
    "## 2. Values in the two columns are cases \n",
    "table4a\n",
    "\n",
    "# Use pivot_longer() to tidy\n",
    "table4a %>%\n",
    "    pivot_longer(c(`1999`, `2000`), names_to = \"year\", values_to = \"cases\")"
   ]
  },
  {
   "cell_type": "markdown",
   "id": "68dd268e-02bf-495c-9e62-a83831968fb9",
   "metadata": {},
   "source": [
    "### Example: tidy two dataset and joining"
   ]
  },
  {
   "cell_type": "code",
   "execution_count": 9,
   "id": "7583c371-b848-4d3f-8448-f55568b59869",
   "metadata": {},
   "outputs": [
    {
     "data": {
      "text/html": [
       "<table class=\"dataframe\">\n",
       "<caption>A tibble: 3 × 3</caption>\n",
       "<thead>\n",
       "\t<tr><th scope=col>country</th><th scope=col>1999</th><th scope=col>2000</th></tr>\n",
       "\t<tr><th scope=col>&lt;chr&gt;</th><th scope=col>&lt;dbl&gt;</th><th scope=col>&lt;dbl&gt;</th></tr>\n",
       "</thead>\n",
       "<tbody>\n",
       "\t<tr><td>Afghanistan</td><td>   745</td><td>  2666</td></tr>\n",
       "\t<tr><td>Brazil     </td><td> 37737</td><td> 80488</td></tr>\n",
       "\t<tr><td>China      </td><td>212258</td><td>213766</td></tr>\n",
       "</tbody>\n",
       "</table>\n"
      ],
      "text/latex": [
       "A tibble: 3 × 3\n",
       "\\begin{tabular}{lll}\n",
       " country & 1999 & 2000\\\\\n",
       " <chr> & <dbl> & <dbl>\\\\\n",
       "\\hline\n",
       "\t Afghanistan &    745 &   2666\\\\\n",
       "\t Brazil      &  37737 &  80488\\\\\n",
       "\t China       & 212258 & 213766\\\\\n",
       "\\end{tabular}\n"
      ],
      "text/markdown": [
       "\n",
       "A tibble: 3 × 3\n",
       "\n",
       "| country &lt;chr&gt; | 1999 &lt;dbl&gt; | 2000 &lt;dbl&gt; |\n",
       "|---|---|---|\n",
       "| Afghanistan |    745 |   2666 |\n",
       "| Brazil      |  37737 |  80488 |\n",
       "| China       | 212258 | 213766 |\n",
       "\n"
      ],
      "text/plain": [
       "  country     1999   2000  \n",
       "1 Afghanistan    745   2666\n",
       "2 Brazil       37737  80488\n",
       "3 China       212258 213766"
      ]
     },
     "metadata": {},
     "output_type": "display_data"
    },
    {
     "data": {
      "text/html": [
       "<table class=\"dataframe\">\n",
       "<caption>A tibble: 3 × 3</caption>\n",
       "<thead>\n",
       "\t<tr><th scope=col>country</th><th scope=col>1999</th><th scope=col>2000</th></tr>\n",
       "\t<tr><th scope=col>&lt;chr&gt;</th><th scope=col>&lt;dbl&gt;</th><th scope=col>&lt;dbl&gt;</th></tr>\n",
       "</thead>\n",
       "<tbody>\n",
       "\t<tr><td>Afghanistan</td><td>  19987071</td><td>  20595360</td></tr>\n",
       "\t<tr><td>Brazil     </td><td> 172006362</td><td> 174504898</td></tr>\n",
       "\t<tr><td>China      </td><td>1272915272</td><td>1280428583</td></tr>\n",
       "</tbody>\n",
       "</table>\n"
      ],
      "text/latex": [
       "A tibble: 3 × 3\n",
       "\\begin{tabular}{lll}\n",
       " country & 1999 & 2000\\\\\n",
       " <chr> & <dbl> & <dbl>\\\\\n",
       "\\hline\n",
       "\t Afghanistan &   19987071 &   20595360\\\\\n",
       "\t Brazil      &  172006362 &  174504898\\\\\n",
       "\t China       & 1272915272 & 1280428583\\\\\n",
       "\\end{tabular}\n"
      ],
      "text/markdown": [
       "\n",
       "A tibble: 3 × 3\n",
       "\n",
       "| country &lt;chr&gt; | 1999 &lt;dbl&gt; | 2000 &lt;dbl&gt; |\n",
       "|---|---|---|\n",
       "| Afghanistan |   19987071 |   20595360 |\n",
       "| Brazil      |  172006362 |  174504898 |\n",
       "| China       | 1272915272 | 1280428583 |\n",
       "\n"
      ],
      "text/plain": [
       "  country     1999       2000      \n",
       "1 Afghanistan   19987071   20595360\n",
       "2 Brazil       172006362  174504898\n",
       "3 China       1272915272 1280428583"
      ]
     },
     "metadata": {},
     "output_type": "display_data"
    },
    {
     "data": {
      "text/html": [
       "<table class=\"dataframe\">\n",
       "<caption>A tibble: 6 × 4</caption>\n",
       "<thead>\n",
       "\t<tr><th scope=col>country</th><th scope=col>year</th><th scope=col>cases</th><th scope=col>population</th></tr>\n",
       "\t<tr><th scope=col>&lt;chr&gt;</th><th scope=col>&lt;chr&gt;</th><th scope=col>&lt;dbl&gt;</th><th scope=col>&lt;dbl&gt;</th></tr>\n",
       "</thead>\n",
       "<tbody>\n",
       "\t<tr><td>Afghanistan</td><td>1999</td><td>   745</td><td>  19987071</td></tr>\n",
       "\t<tr><td>Afghanistan</td><td>2000</td><td>  2666</td><td>  20595360</td></tr>\n",
       "\t<tr><td>Brazil     </td><td>1999</td><td> 37737</td><td> 172006362</td></tr>\n",
       "\t<tr><td>Brazil     </td><td>2000</td><td> 80488</td><td> 174504898</td></tr>\n",
       "\t<tr><td>China      </td><td>1999</td><td>212258</td><td>1272915272</td></tr>\n",
       "\t<tr><td>China      </td><td>2000</td><td>213766</td><td>1280428583</td></tr>\n",
       "</tbody>\n",
       "</table>\n"
      ],
      "text/latex": [
       "A tibble: 6 × 4\n",
       "\\begin{tabular}{llll}\n",
       " country & year & cases & population\\\\\n",
       " <chr> & <chr> & <dbl> & <dbl>\\\\\n",
       "\\hline\n",
       "\t Afghanistan & 1999 &    745 &   19987071\\\\\n",
       "\t Afghanistan & 2000 &   2666 &   20595360\\\\\n",
       "\t Brazil      & 1999 &  37737 &  172006362\\\\\n",
       "\t Brazil      & 2000 &  80488 &  174504898\\\\\n",
       "\t China       & 1999 & 212258 & 1272915272\\\\\n",
       "\t China       & 2000 & 213766 & 1280428583\\\\\n",
       "\\end{tabular}\n"
      ],
      "text/markdown": [
       "\n",
       "A tibble: 6 × 4\n",
       "\n",
       "| country &lt;chr&gt; | year &lt;chr&gt; | cases &lt;dbl&gt; | population &lt;dbl&gt; |\n",
       "|---|---|---|---|\n",
       "| Afghanistan | 1999 |    745 |   19987071 |\n",
       "| Afghanistan | 2000 |   2666 |   20595360 |\n",
       "| Brazil      | 1999 |  37737 |  172006362 |\n",
       "| Brazil      | 2000 |  80488 |  174504898 |\n",
       "| China       | 1999 | 212258 | 1272915272 |\n",
       "| China       | 2000 | 213766 | 1280428583 |\n",
       "\n"
      ],
      "text/plain": [
       "  country     year cases  population\n",
       "1 Afghanistan 1999    745   19987071\n",
       "2 Afghanistan 2000   2666   20595360\n",
       "3 Brazil      1999  37737  172006362\n",
       "4 Brazil      2000  80488  174504898\n",
       "5 China       1999 212258 1272915272\n",
       "6 China       2000 213766 1280428583"
      ]
     },
     "metadata": {},
     "output_type": "display_data"
    }
   ],
   "source": [
    "# Untidy datasets\n",
    "table4a\n",
    "table4b\n",
    "\n",
    "# tidy the two datasets using pivot_longer()\n",
    "tidy4a <- table4a %>%\n",
    "    pivot_longer(c(`1999`, `2000`), names_to = \"year\", values_to = \"cases\")\n",
    "\n",
    "tidy4b <- table4b %>%\n",
    "    pivot_longer(c(`1999`, `2000`), names_to = \"year\", values_to = \"population\")\n",
    "\n",
    "# complete the data by joining them\n",
    "left_join(tidy4a, tidy4b, by = join_by(country, year))"
   ]
  },
  {
   "cell_type": "markdown",
   "id": "f8ac9e17-709b-4330-8e48-aea3d7bc0450",
   "metadata": {},
   "source": [
    "## Pivot Longer versus Pivot Wider\n",
    "Use it when an observation is scattered across multiple rows.\n",
    "\n",
    "### Example: when to pivot wider"
   ]
  },
  {
   "cell_type": "code",
   "execution_count": 10,
   "id": "965aa05f-1f3f-4265-aaeb-2a15c1e05aab",
   "metadata": {},
   "outputs": [
    {
     "data": {
      "text/html": [
       "<table class=\"dataframe\">\n",
       "<caption>A tibble: 12 × 4</caption>\n",
       "<thead>\n",
       "\t<tr><th scope=col>country</th><th scope=col>year</th><th scope=col>type</th><th scope=col>count</th></tr>\n",
       "\t<tr><th scope=col>&lt;chr&gt;</th><th scope=col>&lt;dbl&gt;</th><th scope=col>&lt;chr&gt;</th><th scope=col>&lt;dbl&gt;</th></tr>\n",
       "</thead>\n",
       "<tbody>\n",
       "\t<tr><td>Afghanistan</td><td>1999</td><td>cases     </td><td>       745</td></tr>\n",
       "\t<tr><td>Afghanistan</td><td>1999</td><td>population</td><td>  19987071</td></tr>\n",
       "\t<tr><td>Afghanistan</td><td>2000</td><td>cases     </td><td>      2666</td></tr>\n",
       "\t<tr><td>Afghanistan</td><td>2000</td><td>population</td><td>  20595360</td></tr>\n",
       "\t<tr><td>Brazil     </td><td>1999</td><td>cases     </td><td>     37737</td></tr>\n",
       "\t<tr><td>Brazil     </td><td>1999</td><td>population</td><td> 172006362</td></tr>\n",
       "\t<tr><td>Brazil     </td><td>2000</td><td>cases     </td><td>     80488</td></tr>\n",
       "\t<tr><td>Brazil     </td><td>2000</td><td>population</td><td> 174504898</td></tr>\n",
       "\t<tr><td>China      </td><td>1999</td><td>cases     </td><td>    212258</td></tr>\n",
       "\t<tr><td>China      </td><td>1999</td><td>population</td><td>1272915272</td></tr>\n",
       "\t<tr><td>China      </td><td>2000</td><td>cases     </td><td>    213766</td></tr>\n",
       "\t<tr><td>China      </td><td>2000</td><td>population</td><td>1280428583</td></tr>\n",
       "</tbody>\n",
       "</table>\n"
      ],
      "text/latex": [
       "A tibble: 12 × 4\n",
       "\\begin{tabular}{llll}\n",
       " country & year & type & count\\\\\n",
       " <chr> & <dbl> & <chr> & <dbl>\\\\\n",
       "\\hline\n",
       "\t Afghanistan & 1999 & cases      &        745\\\\\n",
       "\t Afghanistan & 1999 & population &   19987071\\\\\n",
       "\t Afghanistan & 2000 & cases      &       2666\\\\\n",
       "\t Afghanistan & 2000 & population &   20595360\\\\\n",
       "\t Brazil      & 1999 & cases      &      37737\\\\\n",
       "\t Brazil      & 1999 & population &  172006362\\\\\n",
       "\t Brazil      & 2000 & cases      &      80488\\\\\n",
       "\t Brazil      & 2000 & population &  174504898\\\\\n",
       "\t China       & 1999 & cases      &     212258\\\\\n",
       "\t China       & 1999 & population & 1272915272\\\\\n",
       "\t China       & 2000 & cases      &     213766\\\\\n",
       "\t China       & 2000 & population & 1280428583\\\\\n",
       "\\end{tabular}\n"
      ],
      "text/markdown": [
       "\n",
       "A tibble: 12 × 4\n",
       "\n",
       "| country &lt;chr&gt; | year &lt;dbl&gt; | type &lt;chr&gt; | count &lt;dbl&gt; |\n",
       "|---|---|---|---|\n",
       "| Afghanistan | 1999 | cases      |        745 |\n",
       "| Afghanistan | 1999 | population |   19987071 |\n",
       "| Afghanistan | 2000 | cases      |       2666 |\n",
       "| Afghanistan | 2000 | population |   20595360 |\n",
       "| Brazil      | 1999 | cases      |      37737 |\n",
       "| Brazil      | 1999 | population |  172006362 |\n",
       "| Brazil      | 2000 | cases      |      80488 |\n",
       "| Brazil      | 2000 | population |  174504898 |\n",
       "| China       | 1999 | cases      |     212258 |\n",
       "| China       | 1999 | population | 1272915272 |\n",
       "| China       | 2000 | cases      |     213766 |\n",
       "| China       | 2000 | population | 1280428583 |\n",
       "\n"
      ],
      "text/plain": [
       "   country     year type       count     \n",
       "1  Afghanistan 1999 cases             745\n",
       "2  Afghanistan 1999 population   19987071\n",
       "3  Afghanistan 2000 cases            2666\n",
       "4  Afghanistan 2000 population   20595360\n",
       "5  Brazil      1999 cases           37737\n",
       "6  Brazil      1999 population  172006362\n",
       "7  Brazil      2000 cases           80488\n",
       "8  Brazil      2000 population  174504898\n",
       "9  China       1999 cases          212258\n",
       "10 China       1999 population 1272915272\n",
       "11 China       2000 cases          213766\n",
       "12 China       2000 population 1280428583"
      ]
     },
     "metadata": {},
     "output_type": "display_data"
    }
   ],
   "source": [
    "table2"
   ]
  },
  {
   "cell_type": "markdown",
   "id": "5585df61-0edd-4933-b21b-168bca2c1fbb",
   "metadata": {},
   "source": [
    "- The column to to take variables names from is `type`\n",
    "- The column to take values from is `count`"
   ]
  },
  {
   "cell_type": "code",
   "execution_count": 11,
   "id": "ae2c8ab5-1cb6-4095-9458-28f67c5e9685",
   "metadata": {},
   "outputs": [
    {
     "data": {
      "text/html": [
       "<table class=\"dataframe\">\n",
       "<caption>A tibble: 6 × 4</caption>\n",
       "<thead>\n",
       "\t<tr><th scope=col>country</th><th scope=col>year</th><th scope=col>cases</th><th scope=col>population</th></tr>\n",
       "\t<tr><th scope=col>&lt;chr&gt;</th><th scope=col>&lt;dbl&gt;</th><th scope=col>&lt;dbl&gt;</th><th scope=col>&lt;dbl&gt;</th></tr>\n",
       "</thead>\n",
       "<tbody>\n",
       "\t<tr><td>Afghanistan</td><td>1999</td><td>   745</td><td>  19987071</td></tr>\n",
       "\t<tr><td>Afghanistan</td><td>2000</td><td>  2666</td><td>  20595360</td></tr>\n",
       "\t<tr><td>Brazil     </td><td>1999</td><td> 37737</td><td> 172006362</td></tr>\n",
       "\t<tr><td>Brazil     </td><td>2000</td><td> 80488</td><td> 174504898</td></tr>\n",
       "\t<tr><td>China      </td><td>1999</td><td>212258</td><td>1272915272</td></tr>\n",
       "\t<tr><td>China      </td><td>2000</td><td>213766</td><td>1280428583</td></tr>\n",
       "</tbody>\n",
       "</table>\n"
      ],
      "text/latex": [
       "A tibble: 6 × 4\n",
       "\\begin{tabular}{llll}\n",
       " country & year & cases & population\\\\\n",
       " <chr> & <dbl> & <dbl> & <dbl>\\\\\n",
       "\\hline\n",
       "\t Afghanistan & 1999 &    745 &   19987071\\\\\n",
       "\t Afghanistan & 2000 &   2666 &   20595360\\\\\n",
       "\t Brazil      & 1999 &  37737 &  172006362\\\\\n",
       "\t Brazil      & 2000 &  80488 &  174504898\\\\\n",
       "\t China       & 1999 & 212258 & 1272915272\\\\\n",
       "\t China       & 2000 & 213766 & 1280428583\\\\\n",
       "\\end{tabular}\n"
      ],
      "text/markdown": [
       "\n",
       "A tibble: 6 × 4\n",
       "\n",
       "| country &lt;chr&gt; | year &lt;dbl&gt; | cases &lt;dbl&gt; | population &lt;dbl&gt; |\n",
       "|---|---|---|---|\n",
       "| Afghanistan | 1999 |    745 |   19987071 |\n",
       "| Afghanistan | 2000 |   2666 |   20595360 |\n",
       "| Brazil      | 1999 |  37737 |  172006362 |\n",
       "| Brazil      | 2000 |  80488 |  174504898 |\n",
       "| China       | 1999 | 212258 | 1272915272 |\n",
       "| China       | 2000 | 213766 | 1280428583 |\n",
       "\n"
      ],
      "text/plain": [
       "  country     year cases  population\n",
       "1 Afghanistan 1999    745   19987071\n",
       "2 Afghanistan 2000   2666   20595360\n",
       "3 Brazil      1999  37737  172006362\n",
       "4 Brazil      2000  80488  174504898\n",
       "5 China       1999 212258 1272915272\n",
       "6 China       2000 213766 1280428583"
      ]
     },
     "metadata": {},
     "output_type": "display_data"
    }
   ],
   "source": [
    "table2 %>%\n",
    "    pivot_wider(names_from = type, values_from = count)"
   ]
  }
 ],
 "metadata": {
  "kernelspec": {
   "display_name": "R",
   "language": "R",
   "name": "ir"
  },
  "language_info": {
   "codemirror_mode": "r",
   "file_extension": ".r",
   "mimetype": "text/x-r-source",
   "name": "R",
   "pygments_lexer": "r",
   "version": "4.1.3"
  }
 },
 "nbformat": 4,
 "nbformat_minor": 5
}
