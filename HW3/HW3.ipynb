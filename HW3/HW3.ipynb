{
 "cells": [
  {
   "cell_type": "markdown",
   "id": "57b632d4-64e1-49f2-92bc-ad32175b1e7e",
   "metadata": {},
   "source": [
    "# Homework 3 \n",
    "\n",
    "## Exploratory Data Analysis\n",
    "\n",
    "### IRIS Data\n",
    "We start by reading the data `IRIS.csv` and use the function `head` to see the structure of the data. "
   ]
  },
  {
   "cell_type": "code",
   "execution_count": 6,
   "id": "fdc40476-ae9c-4eae-8810-dde21b591d13",
   "metadata": {},
   "outputs": [
    {
     "data": {
      "text/html": [
       "<table class=\"dataframe\">\n",
       "<caption>A data.frame: 6 × 5</caption>\n",
       "<thead>\n",
       "\t<tr><th></th><th scope=col>sepal_length</th><th scope=col>sepal_width</th><th scope=col>petal_length</th><th scope=col>petal_width</th><th scope=col>species</th></tr>\n",
       "\t<tr><th></th><th scope=col>&lt;dbl&gt;</th><th scope=col>&lt;dbl&gt;</th><th scope=col>&lt;dbl&gt;</th><th scope=col>&lt;dbl&gt;</th><th scope=col>&lt;chr&gt;</th></tr>\n",
       "</thead>\n",
       "<tbody>\n",
       "\t<tr><th scope=row>1</th><td>5.1</td><td>3.5</td><td>1.4</td><td>0.2</td><td>Iris-setosa</td></tr>\n",
       "\t<tr><th scope=row>2</th><td>4.9</td><td>3.0</td><td>1.4</td><td>0.2</td><td>Iris-setosa</td></tr>\n",
       "\t<tr><th scope=row>3</th><td>4.7</td><td>3.2</td><td>1.3</td><td>0.2</td><td>Iris-setosa</td></tr>\n",
       "\t<tr><th scope=row>4</th><td>4.6</td><td>3.1</td><td>1.5</td><td>0.2</td><td>Iris-setosa</td></tr>\n",
       "\t<tr><th scope=row>5</th><td>5.0</td><td>3.6</td><td>1.4</td><td>0.2</td><td>Iris-setosa</td></tr>\n",
       "\t<tr><th scope=row>6</th><td>5.4</td><td>3.9</td><td>1.7</td><td>0.4</td><td>Iris-setosa</td></tr>\n",
       "</tbody>\n",
       "</table>\n"
      ],
      "text/latex": [
       "A data.frame: 6 × 5\n",
       "\\begin{tabular}{r|lllll}\n",
       "  & sepal\\_length & sepal\\_width & petal\\_length & petal\\_width & species\\\\\n",
       "  & <dbl> & <dbl> & <dbl> & <dbl> & <chr>\\\\\n",
       "\\hline\n",
       "\t1 & 5.1 & 3.5 & 1.4 & 0.2 & Iris-setosa\\\\\n",
       "\t2 & 4.9 & 3.0 & 1.4 & 0.2 & Iris-setosa\\\\\n",
       "\t3 & 4.7 & 3.2 & 1.3 & 0.2 & Iris-setosa\\\\\n",
       "\t4 & 4.6 & 3.1 & 1.5 & 0.2 & Iris-setosa\\\\\n",
       "\t5 & 5.0 & 3.6 & 1.4 & 0.2 & Iris-setosa\\\\\n",
       "\t6 & 5.4 & 3.9 & 1.7 & 0.4 & Iris-setosa\\\\\n",
       "\\end{tabular}\n"
      ],
      "text/markdown": [
       "\n",
       "A data.frame: 6 × 5\n",
       "\n",
       "| <!--/--> | sepal_length &lt;dbl&gt; | sepal_width &lt;dbl&gt; | petal_length &lt;dbl&gt; | petal_width &lt;dbl&gt; | species &lt;chr&gt; |\n",
       "|---|---|---|---|---|---|\n",
       "| 1 | 5.1 | 3.5 | 1.4 | 0.2 | Iris-setosa |\n",
       "| 2 | 4.9 | 3.0 | 1.4 | 0.2 | Iris-setosa |\n",
       "| 3 | 4.7 | 3.2 | 1.3 | 0.2 | Iris-setosa |\n",
       "| 4 | 4.6 | 3.1 | 1.5 | 0.2 | Iris-setosa |\n",
       "| 5 | 5.0 | 3.6 | 1.4 | 0.2 | Iris-setosa |\n",
       "| 6 | 5.4 | 3.9 | 1.7 | 0.4 | Iris-setosa |\n",
       "\n"
      ],
      "text/plain": [
       "  sepal_length sepal_width petal_length petal_width species    \n",
       "1 5.1          3.5         1.4          0.2         Iris-setosa\n",
       "2 4.9          3.0         1.4          0.2         Iris-setosa\n",
       "3 4.7          3.2         1.3          0.2         Iris-setosa\n",
       "4 4.6          3.1         1.5          0.2         Iris-setosa\n",
       "5 5.0          3.6         1.4          0.2         Iris-setosa\n",
       "6 5.4          3.9         1.7          0.4         Iris-setosa"
      ]
     },
     "metadata": {},
     "output_type": "display_data"
    }
   ],
   "source": [
    "iris_df <- read.csv('https://raw.githubusercontent.com/su-mt4007/data/refs/heads/main/IRIS.csv', fileEncoding = 'UTF-8')\n",
    "head(iris_df)"
   ]
  },
  {
   "cell_type": "markdown",
   "id": "c9ca2ca0-3c54-498f-a15f-b2e563751f65",
   "metadata": {},
   "source": [
    "From `head`, we can see that the data includes four numeric variables (`sepal_length`, `sepal_width`, `petal_length` and `petal_width`) and one string nominal variable `species`.\n",
    "\n",
    "In this task we want to explore the following questions:\n",
    "\n",
    "1. Is there a relationship between sepal dimensions and petal dimensions?\n",
    "2. How are the sepal and petal dimensions distributed?\n",
    "3. How are the different variables related to each other?\n",
    "\n",
    "We start by exploring question 1. To draw some conclusions, we want to create a scatterplot as provided in the instructions, and this can be done with faceting. But first, we need to reshape the data."
   ]
  },
  {
   "cell_type": "code",
   "execution_count": 51,
   "id": "ab705b50-9d9c-4680-8bea-b0a25c1aca6f",
   "metadata": {},
   "outputs": [
    {
     "data": {
      "text/html": [
       "<table class=\"dataframe\">\n",
       "<caption>A data.frame: 6 × 4</caption>\n",
       "<thead>\n",
       "\t<tr><th></th><th scope=col>x</th><th scope=col>y</th><th scope=col>species</th><th scope=col>plot_group</th></tr>\n",
       "\t<tr><th></th><th scope=col>&lt;dbl&gt;</th><th scope=col>&lt;dbl&gt;</th><th scope=col>&lt;chr&gt;</th><th scope=col>&lt;chr&gt;</th></tr>\n",
       "</thead>\n",
       "<tbody>\n",
       "\t<tr><th scope=row>1</th><td>5.1</td><td>1.4</td><td>Iris-setosa</td><td>Sepal vs Petal Length</td></tr>\n",
       "\t<tr><th scope=row>2</th><td>4.9</td><td>1.4</td><td>Iris-setosa</td><td>Sepal vs Petal Length</td></tr>\n",
       "\t<tr><th scope=row>3</th><td>4.7</td><td>1.3</td><td>Iris-setosa</td><td>Sepal vs Petal Length</td></tr>\n",
       "\t<tr><th scope=row>4</th><td>4.6</td><td>1.5</td><td>Iris-setosa</td><td>Sepal vs Petal Length</td></tr>\n",
       "\t<tr><th scope=row>5</th><td>5.0</td><td>1.4</td><td>Iris-setosa</td><td>Sepal vs Petal Length</td></tr>\n",
       "\t<tr><th scope=row>6</th><td>5.4</td><td>1.7</td><td>Iris-setosa</td><td>Sepal vs Petal Length</td></tr>\n",
       "</tbody>\n",
       "</table>\n"
      ],
      "text/latex": [
       "A data.frame: 6 × 4\n",
       "\\begin{tabular}{r|llll}\n",
       "  & x & y & species & plot\\_group\\\\\n",
       "  & <dbl> & <dbl> & <chr> & <chr>\\\\\n",
       "\\hline\n",
       "\t1 & 5.1 & 1.4 & Iris-setosa & Sepal vs Petal Length\\\\\n",
       "\t2 & 4.9 & 1.4 & Iris-setosa & Sepal vs Petal Length\\\\\n",
       "\t3 & 4.7 & 1.3 & Iris-setosa & Sepal vs Petal Length\\\\\n",
       "\t4 & 4.6 & 1.5 & Iris-setosa & Sepal vs Petal Length\\\\\n",
       "\t5 & 5.0 & 1.4 & Iris-setosa & Sepal vs Petal Length\\\\\n",
       "\t6 & 5.4 & 1.7 & Iris-setosa & Sepal vs Petal Length\\\\\n",
       "\\end{tabular}\n"
      ],
      "text/markdown": [
       "\n",
       "A data.frame: 6 × 4\n",
       "\n",
       "| <!--/--> | x &lt;dbl&gt; | y &lt;dbl&gt; | species &lt;chr&gt; | plot_group &lt;chr&gt; |\n",
       "|---|---|---|---|---|\n",
       "| 1 | 5.1 | 1.4 | Iris-setosa | Sepal vs Petal Length |\n",
       "| 2 | 4.9 | 1.4 | Iris-setosa | Sepal vs Petal Length |\n",
       "| 3 | 4.7 | 1.3 | Iris-setosa | Sepal vs Petal Length |\n",
       "| 4 | 4.6 | 1.5 | Iris-setosa | Sepal vs Petal Length |\n",
       "| 5 | 5.0 | 1.4 | Iris-setosa | Sepal vs Petal Length |\n",
       "| 6 | 5.4 | 1.7 | Iris-setosa | Sepal vs Petal Length |\n",
       "\n"
      ],
      "text/plain": [
       "  x   y   species     plot_group           \n",
       "1 5.1 1.4 Iris-setosa Sepal vs Petal Length\n",
       "2 4.9 1.4 Iris-setosa Sepal vs Petal Length\n",
       "3 4.7 1.3 Iris-setosa Sepal vs Petal Length\n",
       "4 4.6 1.5 Iris-setosa Sepal vs Petal Length\n",
       "5 5.0 1.4 Iris-setosa Sepal vs Petal Length\n",
       "6 5.4 1.7 Iris-setosa Sepal vs Petal Length"
      ]
     },
     "metadata": {},
     "output_type": "display_data"
    },
    {
     "data": {
      "text/html": [
       "<table class=\"dataframe\">\n",
       "<caption>A data.frame: 6 × 4</caption>\n",
       "<thead>\n",
       "\t<tr><th></th><th scope=col>x</th><th scope=col>y</th><th scope=col>species</th><th scope=col>plot_group</th></tr>\n",
       "\t<tr><th></th><th scope=col>&lt;dbl&gt;</th><th scope=col>&lt;dbl&gt;</th><th scope=col>&lt;chr&gt;</th><th scope=col>&lt;chr&gt;</th></tr>\n",
       "</thead>\n",
       "<tbody>\n",
       "\t<tr><th scope=row>1</th><td>5.1</td><td>1.4</td><td>Iris-setosa</td><td>Sepal vs Petal Length</td></tr>\n",
       "\t<tr><th scope=row>2</th><td>4.9</td><td>1.4</td><td>Iris-setosa</td><td>Sepal vs Petal Length</td></tr>\n",
       "\t<tr><th scope=row>3</th><td>4.7</td><td>1.3</td><td>Iris-setosa</td><td>Sepal vs Petal Length</td></tr>\n",
       "\t<tr><th scope=row>4</th><td>4.6</td><td>1.5</td><td>Iris-setosa</td><td>Sepal vs Petal Length</td></tr>\n",
       "\t<tr><th scope=row>5</th><td>5.0</td><td>1.4</td><td>Iris-setosa</td><td>Sepal vs Petal Length</td></tr>\n",
       "\t<tr><th scope=row>6</th><td>5.4</td><td>1.7</td><td>Iris-setosa</td><td>Sepal vs Petal Length</td></tr>\n",
       "</tbody>\n",
       "</table>\n"
      ],
      "text/latex": [
       "A data.frame: 6 × 4\n",
       "\\begin{tabular}{r|llll}\n",
       "  & x & y & species & plot\\_group\\\\\n",
       "  & <dbl> & <dbl> & <chr> & <chr>\\\\\n",
       "\\hline\n",
       "\t1 & 5.1 & 1.4 & Iris-setosa & Sepal vs Petal Length\\\\\n",
       "\t2 & 4.9 & 1.4 & Iris-setosa & Sepal vs Petal Length\\\\\n",
       "\t3 & 4.7 & 1.3 & Iris-setosa & Sepal vs Petal Length\\\\\n",
       "\t4 & 4.6 & 1.5 & Iris-setosa & Sepal vs Petal Length\\\\\n",
       "\t5 & 5.0 & 1.4 & Iris-setosa & Sepal vs Petal Length\\\\\n",
       "\t6 & 5.4 & 1.7 & Iris-setosa & Sepal vs Petal Length\\\\\n",
       "\\end{tabular}\n"
      ],
      "text/markdown": [
       "\n",
       "A data.frame: 6 × 4\n",
       "\n",
       "| <!--/--> | x &lt;dbl&gt; | y &lt;dbl&gt; | species &lt;chr&gt; | plot_group &lt;chr&gt; |\n",
       "|---|---|---|---|---|\n",
       "| 1 | 5.1 | 1.4 | Iris-setosa | Sepal vs Petal Length |\n",
       "| 2 | 4.9 | 1.4 | Iris-setosa | Sepal vs Petal Length |\n",
       "| 3 | 4.7 | 1.3 | Iris-setosa | Sepal vs Petal Length |\n",
       "| 4 | 4.6 | 1.5 | Iris-setosa | Sepal vs Petal Length |\n",
       "| 5 | 5.0 | 1.4 | Iris-setosa | Sepal vs Petal Length |\n",
       "| 6 | 5.4 | 1.7 | Iris-setosa | Sepal vs Petal Length |\n",
       "\n"
      ],
      "text/plain": [
       "  x   y   species     plot_group           \n",
       "1 5.1 1.4 Iris-setosa Sepal vs Petal Length\n",
       "2 4.9 1.4 Iris-setosa Sepal vs Petal Length\n",
       "3 4.7 1.3 Iris-setosa Sepal vs Petal Length\n",
       "4 4.6 1.5 Iris-setosa Sepal vs Petal Length\n",
       "5 5.0 1.4 Iris-setosa Sepal vs Petal Length\n",
       "6 5.4 1.7 Iris-setosa Sepal vs Petal Length"
      ]
     },
     "metadata": {},
     "output_type": "display_data"
    },
    {
     "data": {
      "text/html": [
       "<table class=\"dataframe\">\n",
       "<caption>A data.frame: 6 × 4</caption>\n",
       "<thead>\n",
       "\t<tr><th></th><th scope=col>x</th><th scope=col>y</th><th scope=col>species</th><th scope=col>plot_group</th></tr>\n",
       "\t<tr><th></th><th scope=col>&lt;dbl&gt;</th><th scope=col>&lt;dbl&gt;</th><th scope=col>&lt;chr&gt;</th><th scope=col>&lt;chr&gt;</th></tr>\n",
       "</thead>\n",
       "<tbody>\n",
       "\t<tr><th scope=row>1</th><td>5.1</td><td>1.4</td><td>Iris-setosa</td><td>Sepal vs Petal Length</td></tr>\n",
       "\t<tr><th scope=row>2</th><td>4.9</td><td>1.4</td><td>Iris-setosa</td><td>Sepal vs Petal Length</td></tr>\n",
       "\t<tr><th scope=row>3</th><td>4.7</td><td>1.3</td><td>Iris-setosa</td><td>Sepal vs Petal Length</td></tr>\n",
       "\t<tr><th scope=row>4</th><td>4.6</td><td>1.5</td><td>Iris-setosa</td><td>Sepal vs Petal Length</td></tr>\n",
       "\t<tr><th scope=row>5</th><td>5.0</td><td>1.4</td><td>Iris-setosa</td><td>Sepal vs Petal Length</td></tr>\n",
       "\t<tr><th scope=row>6</th><td>5.4</td><td>1.7</td><td>Iris-setosa</td><td>Sepal vs Petal Length</td></tr>\n",
       "</tbody>\n",
       "</table>\n"
      ],
      "text/latex": [
       "A data.frame: 6 × 4\n",
       "\\begin{tabular}{r|llll}\n",
       "  & x & y & species & plot\\_group\\\\\n",
       "  & <dbl> & <dbl> & <chr> & <chr>\\\\\n",
       "\\hline\n",
       "\t1 & 5.1 & 1.4 & Iris-setosa & Sepal vs Petal Length\\\\\n",
       "\t2 & 4.9 & 1.4 & Iris-setosa & Sepal vs Petal Length\\\\\n",
       "\t3 & 4.7 & 1.3 & Iris-setosa & Sepal vs Petal Length\\\\\n",
       "\t4 & 4.6 & 1.5 & Iris-setosa & Sepal vs Petal Length\\\\\n",
       "\t5 & 5.0 & 1.4 & Iris-setosa & Sepal vs Petal Length\\\\\n",
       "\t6 & 5.4 & 1.7 & Iris-setosa & Sepal vs Petal Length\\\\\n",
       "\\end{tabular}\n"
      ],
      "text/markdown": [
       "\n",
       "A data.frame: 6 × 4\n",
       "\n",
       "| <!--/--> | x &lt;dbl&gt; | y &lt;dbl&gt; | species &lt;chr&gt; | plot_group &lt;chr&gt; |\n",
       "|---|---|---|---|---|\n",
       "| 1 | 5.1 | 1.4 | Iris-setosa | Sepal vs Petal Length |\n",
       "| 2 | 4.9 | 1.4 | Iris-setosa | Sepal vs Petal Length |\n",
       "| 3 | 4.7 | 1.3 | Iris-setosa | Sepal vs Petal Length |\n",
       "| 4 | 4.6 | 1.5 | Iris-setosa | Sepal vs Petal Length |\n",
       "| 5 | 5.0 | 1.4 | Iris-setosa | Sepal vs Petal Length |\n",
       "| 6 | 5.4 | 1.7 | Iris-setosa | Sepal vs Petal Length |\n",
       "\n"
      ],
      "text/plain": [
       "  x   y   species     plot_group           \n",
       "1 5.1 1.4 Iris-setosa Sepal vs Petal Length\n",
       "2 4.9 1.4 Iris-setosa Sepal vs Petal Length\n",
       "3 4.7 1.3 Iris-setosa Sepal vs Petal Length\n",
       "4 4.6 1.5 Iris-setosa Sepal vs Petal Length\n",
       "5 5.0 1.4 Iris-setosa Sepal vs Petal Length\n",
       "6 5.4 1.7 Iris-setosa Sepal vs Petal Length"
      ]
     },
     "metadata": {},
     "output_type": "display_data"
    }
   ],
   "source": [
    "library(tidyverse, quietly = TRUE, warn.conflicts = FALS)\n",
    "\n",
    "iris_length <- iris_df %>%\n",
    "    select(sepal_length, petal_length, species) %>%\n",
    "    mutate(plot_group = 'Sepal vs Petal Length') %>%\n",
    "    rename(x = sepal_length, y = petal_length)\n",
    "\n",
    "iris_width <- iris_df %>%\n",
    "    select(sepal_width, petal_width, species) %>%\n",
    "    mutate(plot_group = 'Sepal vs Petal Width') %>%\n",
    "    rename(x = sepal_width, y = petal_width)\n",
    "\n",
    "iris_combined <- bind_rows(iris_length, iris_width)\n",
    "head(iris_length)\n",
    "head(iris_length)\n",
    "head(iris_combined)"
   ]
  },
  {
   "cell_type": "markdown",
   "id": "eb290ee6-8933-463e-af02-61511f4f726e",
   "metadata": {},
   "source": []
  },
  {
   "cell_type": "code",
   "execution_count": 52,
   "id": "9ce14e09-d21d-45fa-8533-4c99de4b6981",
   "metadata": {},
   "outputs": [
    {
     "data": {
      "image/png": "[encoded data removed]",
      "text/plain": [
       "plot without title"
      ]
     },
     "metadata": {
      "image/png": {
       "height": 420,
       "width": 420
      }
     },
     "output_type": "display_data"
    }
   ],
   "source": [
    "ggplot(iris_combined, aes(x = x, y = y, color = species)) +\n",
    "    geom_point(size = 3) +\n",
    "    facet_wrap(~plot_group) +\n",
    "    "
   ]
  },
  {
   "cell_type": "code",
   "execution_count": null,
   "id": "c887ef0a-c381-4f70-ae00-241b2a1233d8",
   "metadata": {},
   "outputs": [],
   "source": []
  }
 ],
 "metadata": {
  "kernelspec": {
   "display_name": "R",
   "language": "R",
   "name": "ir"
  },
  "language_info": {
   "codemirror_mode": "r",
   "file_extension": ".r",
   "mimetype": "text/x-r-source",
   "name": "R",
   "pygments_lexer": "r",
   "version": "4.1.3"
  }
 },
 "nbformat": 4,
 "nbformat_minor": 5
}
