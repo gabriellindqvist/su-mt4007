{
 "cells": [
  {
   "cell_type": "markdown",
   "id": "57b632d4-64e1-49f2-92bc-ad32175b1e7e",
   "metadata": {},
   "source": [
    "# Homework 3 \n",
    "\n",
    "## Exploratory Data Analysis\n",
    "\n",
    "### IRIS Data\n",
    "We start by reading the data `IRIS.csv` and use the function `head` to see the structure of the data. "
   ]
  },
  {
   "cell_type": "code",
   "execution_count": 1,
   "id": "fdc40476-ae9c-4eae-8810-dde21b591d13",
   "metadata": {},
   "outputs": [
    {
     "data": {
      "text/html": [
       "<table class=\"dataframe\">\n",
       "<caption>A data.frame: 6 × 5</caption>\n",
       "<thead>\n",
       "\t<tr><th></th><th scope=col>sepal_length</th><th scope=col>sepal_width</th><th scope=col>petal_length</th><th scope=col>petal_width</th><th scope=col>species</th></tr>\n",
       "\t<tr><th></th><th scope=col>&lt;dbl&gt;</th><th scope=col>&lt;dbl&gt;</th><th scope=col>&lt;dbl&gt;</th><th scope=col>&lt;dbl&gt;</th><th scope=col>&lt;chr&gt;</th></tr>\n",
       "</thead>\n",
       "<tbody>\n",
       "\t<tr><th scope=row>1</th><td>5.1</td><td>3.5</td><td>1.4</td><td>0.2</td><td>Iris-setosa</td></tr>\n",
       "\t<tr><th scope=row>2</th><td>4.9</td><td>3.0</td><td>1.4</td><td>0.2</td><td>Iris-setosa</td></tr>\n",
       "\t<tr><th scope=row>3</th><td>4.7</td><td>3.2</td><td>1.3</td><td>0.2</td><td>Iris-setosa</td></tr>\n",
       "\t<tr><th scope=row>4</th><td>4.6</td><td>3.1</td><td>1.5</td><td>0.2</td><td>Iris-setosa</td></tr>\n",
       "\t<tr><th scope=row>5</th><td>5.0</td><td>3.6</td><td>1.4</td><td>0.2</td><td>Iris-setosa</td></tr>\n",
       "\t<tr><th scope=row>6</th><td>5.4</td><td>3.9</td><td>1.7</td><td>0.4</td><td>Iris-setosa</td></tr>\n",
       "</tbody>\n",
       "</table>\n"
      ],
      "text/latex": [
       "A data.frame: 6 × 5\n",
       "\\begin{tabular}{r|lllll}\n",
       "  & sepal\\_length & sepal\\_width & petal\\_length & petal\\_width & species\\\\\n",
       "  & <dbl> & <dbl> & <dbl> & <dbl> & <chr>\\\\\n",
       "\\hline\n",
       "\t1 & 5.1 & 3.5 & 1.4 & 0.2 & Iris-setosa\\\\\n",
       "\t2 & 4.9 & 3.0 & 1.4 & 0.2 & Iris-setosa\\\\\n",
       "\t3 & 4.7 & 3.2 & 1.3 & 0.2 & Iris-setosa\\\\\n",
       "\t4 & 4.6 & 3.1 & 1.5 & 0.2 & Iris-setosa\\\\\n",
       "\t5 & 5.0 & 3.6 & 1.4 & 0.2 & Iris-setosa\\\\\n",
       "\t6 & 5.4 & 3.9 & 1.7 & 0.4 & Iris-setosa\\\\\n",
       "\\end{tabular}\n"
      ],
      "text/markdown": [
       "\n",
       "A data.frame: 6 × 5\n",
       "\n",
       "| <!--/--> | sepal_length &lt;dbl&gt; | sepal_width &lt;dbl&gt; | petal_length &lt;dbl&gt; | petal_width &lt;dbl&gt; | species &lt;chr&gt; |\n",
       "|---|---|---|---|---|---|\n",
       "| 1 | 5.1 | 3.5 | 1.4 | 0.2 | Iris-setosa |\n",
       "| 2 | 4.9 | 3.0 | 1.4 | 0.2 | Iris-setosa |\n",
       "| 3 | 4.7 | 3.2 | 1.3 | 0.2 | Iris-setosa |\n",
       "| 4 | 4.6 | 3.1 | 1.5 | 0.2 | Iris-setosa |\n",
       "| 5 | 5.0 | 3.6 | 1.4 | 0.2 | Iris-setosa |\n",
       "| 6 | 5.4 | 3.9 | 1.7 | 0.4 | Iris-setosa |\n",
       "\n"
      ],
      "text/plain": [
       "  sepal_length sepal_width petal_length petal_width species    \n",
       "1 5.1          3.5         1.4          0.2         Iris-setosa\n",
       "2 4.9          3.0         1.4          0.2         Iris-setosa\n",
       "3 4.7          3.2         1.3          0.2         Iris-setosa\n",
       "4 4.6          3.1         1.5          0.2         Iris-setosa\n",
       "5 5.0          3.6         1.4          0.2         Iris-setosa\n",
       "6 5.4          3.9         1.7          0.4         Iris-setosa"
      ]
     },
     "metadata": {},
     "output_type": "display_data"
    }
   ],
   "source": [
    "iris_df <- read.csv(\n",
    "    'https://raw.githubusercontent.com/su-mt4007/data/refs/heads/main/IRIS.csv',\n",
    "    fileEncoding = 'UTF-8')\n",
    "head(iris_df)"
   ]
  },
  {
   "cell_type": "markdown",
   "id": "c9ca2ca0-3c54-498f-a15f-b2e563751f65",
   "metadata": {},
   "source": [
    "From `head`, we can see that the data includes four numeric variables (`sepal_length`, `sepal_width`, `petal_length` and `petal_width`) and one string nominal variable `species`.\n",
    "\n",
    "In this task we want to explore the following questions:\n",
    "\n",
    "1. Is there a relationship between sepal dimensions and petal dimensions?\n",
    "2. How are the sepal and petal dimensions distributed?\n",
    "3. How are the different variables related to each other?\n",
    "\n",
    "These questions will be explored by generating similar plots as those in the assignment instructions. The plots will be generated using `ggplot`, `patchwork` (to align plots) and `GGally` to generate pair-plots.\n",
    "\n",
    "#### Question 1"
   ]
  },
  {
   "cell_type": "code",
   "execution_count": 2,
   "id": "ab705b50-9d9c-4680-8bea-b0a25c1aca6f",
   "metadata": {},
   "outputs": [
    {
     "name": "stderr",
     "output_type": "stream",
     "text": [
      "-- \u001b[1mAttaching core tidyverse packages\u001b[22m ---------------------------------------------------------------- tidyverse 2.0.0 --\n",
      "\u001b[32mv\u001b[39m \u001b[34mdplyr    \u001b[39m 1.1.4     \u001b[32mv\u001b[39m \u001b[34mreadr    \u001b[39m 2.1.5\n",
      "\u001b[32mv\u001b[39m \u001b[34mforcats  \u001b[39m 1.0.0     \u001b[32mv\u001b[39m \u001b[34mstringr  \u001b[39m 1.5.0\n",
      "\u001b[32mv\u001b[39m \u001b[34mggplot2  \u001b[39m 3.5.1     \u001b[32mv\u001b[39m \u001b[34mtibble   \u001b[39m 3.2.1\n",
      "\u001b[32mv\u001b[39m \u001b[34mlubridate\u001b[39m 1.9.3     \u001b[32mv\u001b[39m \u001b[34mtidyr    \u001b[39m 1.3.1\n",
      "\u001b[32mv\u001b[39m \u001b[34mpurrr    \u001b[39m 1.0.2     \n",
      "-- \u001b[1mConflicts\u001b[22m ---------------------------------------------------------------------------------- tidyverse_conflicts() --\n",
      "\u001b[31mx\u001b[39m \u001b[34mdplyr\u001b[39m::\u001b[32mfilter()\u001b[39m masks \u001b[34mstats\u001b[39m::filter()\n",
      "\u001b[31mx\u001b[39m \u001b[34mdplyr\u001b[39m::\u001b[32mlag()\u001b[39m    masks \u001b[34mstats\u001b[39m::lag()\n",
      "\u001b[36mi\u001b[39m Use the conflicted package (\u001b[3m\u001b[34m<http://conflicted.r-lib.org/>\u001b[39m\u001b[23m) to force all conflicts to become errors\n",
      "Warning message:\n",
      "\"\u001b[1m\u001b[22mA numeric `legend.position` argument in `theme()` was deprecated in ggplot2 3.5.0.\n",
      "\u001b[36mi\u001b[39m Please use the `legend.position.inside` argument of `theme()` instead.\"\n"
     ]
    },
    {
     "data": {
      "image/png": "[encoded data removed]",
      "text/plain": [
       "plot without title"
      ]
     },
     "metadata": {
      "image/png": {
       "height": 420,
       "width": 420
      }
     },
     "output_type": "display_data"
    }
   ],
   "source": [
    "library(tidyverse, quietly = TRUE, warn.conflicts = FALSE)\n",
    "library(patchwork)\n",
    "\n",
    "# Adjust the colors of the points to match the ones provided. I googled for R color cheatsheet to find these (see link):\n",
    "# https://www.nceas.ucsb.edu/sites/default/files/2020-04/colorPaletteCheatsheet.pdf\n",
    "custom_colors <- c(\"Iris-setosa\" = \"steelblue4\", \"Iris-versicolor\" = \"mediumseagreen\", \"Iris-virginica\" = \"indianred\")\n",
    "\n",
    "left_plot <- ggplot(iris_df, aes(x = sepal_length, y = petal_length, color = species)) +\n",
    "    geom_point(size = 2) +\n",
    "    scale_color_manual(values = custom_colors) +\n",
    "    scale_x_continuous(limits = c(4, 8), breaks = seq(4, 8, 1)) +\n",
    "    scale_y_continuous(limits = c(1, 7), breaks = seq(1, 7, 1)) +\n",
    "    theme(\n",
    "        # Adjust the position of legend to match the plot provided in the instructions\n",
    "        legend.position = c(0, 1),\n",
    "        legend.justification = c(\"left\", \"top\"),\n",
    "        # Make the legend transparent to match the plot provided in the instructions\n",
    "        legend.background = element_rect(fill = \"transparent\"),\n",
    "        legend.key = element_rect(fill = \"transparent\"),\n",
    "        # Adjust the aspect ratio to match the plot provided in the instructions\n",
    "        aspect.ratio = 1\n",
    "    )\n",
    "\n",
    "right_plot <- ggplot(iris_df, aes(x = sepal_width, y = petal_width, color = species)) +\n",
    "    geom_point(size = 2) +\n",
    "    scale_color_manual(values = custom_colors) +\n",
    "    scale_x_continuous(limits = c(2, 4.5), breaks = seq(2, 4.5, 0.5)) +\n",
    "    scale_y_continuous(limits = c(0, 2.5), breaks = seq(0, 2.5, 0.5)) +\n",
    "    theme(\n",
    "        legend.position = c(1.05, 0.25),\n",
    "        legend.justification = c(\"right\", \"bottom\"),\n",
    "        legend.background = element_rect(fill = \"transparent\"),\n",
    "        legend.key = element_rect(fill = \"transparent\"),\n",
    "        aspect.ratio = 1\n",
    "    )\n",
    "\n",
    "left_plot + right_plot"
   ]
  },
  {
   "cell_type": "markdown",
   "id": "2ef2bc6b-0dd9-4fb7-96a8-3500c7d1f776",
   "metadata": {},
   "source": [
    "From the figure above, there is a clear positive linear trend between between the sepal and petal dimensions for the species Versicolor and Virginica. In contrast, for Setosa, the relationship between sepal and petal dimensions does not show a noticeable trend. That is, the data indicates that there is a relationship between sepal dimensions and petal dimensions, but this relationship is species-dependent.\n",
    "\n",
    "#### Second question"
   ]
  },
  {
   "cell_type": "code",
   "execution_count": 3,
   "id": "de1eb4aa-9192-45e5-ab27-6fb514dd27fb",
   "metadata": {},
   "outputs": [
    {
     "data": {
      "image/png": "[encoded data removed]",
      "text/plain": [
       "plot without title"
      ]
     },
     "metadata": {
      "image/png": {
       "height": 420,
       "width": 420
      }
     },
     "output_type": "display_data"
    }
   ],
   "source": [
    "boxplot11 <- ggplot(iris_df, aes(x = species, y = sepal_width, fill = species)) +\n",
    "    stat_boxplot(geom = \"errorbar\", width = 0.5) +\n",
    "    geom_boxplot(\n",
    "        outlier.shape = 1,\n",
    "        outlier.size = 2,\n",
    "        outlier.stroke = 0.75\n",
    "    ) +\n",
    "    scale_fill_manual(values = custom_colors) +\n",
    "    scale_y_continuous(limits = c(2, 4.5), breaks = seq(2, 4.5, 0.5)) +\n",
    "    theme(\n",
    "        legend.position = \"none\",\n",
    "        aspect.ratio = 1\n",
    "    )\n",
    "\n",
    "boxplot12 <- ggplot(iris_df, aes(x = species, y = sepal_length, fill = species)) +\n",
    "    stat_boxplot(geom = \"errorbar\", width = 0.5) +\n",
    "    geom_boxplot(\n",
    "        outlier.shape = 1,\n",
    "        outlier.size = 2,\n",
    "        outlier.stroke = 0.75\n",
    "    ) +\n",
    "    scale_fill_manual(values = custom_colors) +\n",
    "    scale_y_continuous(limits = c(4.0, 8.0), breaks = seq(4.5, 8.0, 0.5)) +\n",
    "    theme(\n",
    "        legend.position = \"none\",\n",
    "        aspect.ratio = 1\n",
    "    )\n",
    "\n",
    "boxplot21 <- ggplot(iris_df, aes(x = species, y = petal_width, fill = species)) +\n",
    "    stat_boxplot(geom = \"errorbar\", width = 0.5) +\n",
    "    geom_boxplot(\n",
    "        outlier.shape = 1,\n",
    "        outlier.size = 2,\n",
    "        outlier.stroke = 0.75\n",
    "    ) +\n",
    "    scale_fill_manual(values = custom_colors) +\n",
    "    scale_y_continuous(limits = c(0.0, 2.5), breaks = seq(0.0, 2.5, 0.5)) +\n",
    "    theme(\n",
    "        legend.position = \"none\",\n",
    "        aspect.ratio = 1\n",
    "    )\n",
    "\n",
    "boxplot22 <- ggplot(iris_df, aes(x = species, y = petal_length, fill = species)) +\n",
    "    stat_boxplot(geom = \"errorbar\", width = 0.5) +\n",
    "    geom_boxplot(\n",
    "        outlier.shape = 1,\n",
    "        outlier.size = 2,\n",
    "        outlier.stroke = 0.75\n",
    "    ) +\n",
    "    scale_fill_manual(values = custom_colors) +\n",
    "    scale_y_continuous(limits = c(1, 7), breaks = seq(1, 7, 1)) +\n",
    "    theme(\n",
    "        legend.position = \"none\",\n",
    "        aspect.ratio = 1\n",
    "    )\n",
    "\n",
    "boxplot11 + boxplot12 + boxplot21 + boxplot22 + plot_layout(widths = c(2, 2))"
   ]
  },
  {
   "cell_type": "markdown",
   "id": "00dc9f1e-9fe4-45c8-ad9b-d1634cc71634",
   "metadata": {},
   "source": [
    "From the boxplots we see that Iris-setosa is the most distinct species, with smaller petal lengths and widths, and larger sepal widths compared to the other species. Iris-virginica dominates on all the measurements, except for sepal width. Iris-versicolor lies between the other two species all measurements, but overlaps much more with Iris-virginica.\n",
    "\n",
    "#### Third Question"
   ]
  },
  {
   "cell_type": "code",
   "execution_count": 4,
   "id": "01d20eb7-79b9-410d-ab70-1a647ee3da7a",
   "metadata": {},
   "outputs": [
    {
     "name": "stderr",
     "output_type": "stream",
     "text": [
      "Registered S3 method overwritten by 'GGally':\n",
      "  method from   \n",
      "  +.gg   ggplot2\n",
      "\n",
      "Warning message in geom_point():\n",
      "\"\u001b[1m\u001b[22mAll aesthetics have length 1, but the data has 16 rows.\n",
      "\u001b[36mi\u001b[39m Please consider using `annotate()` or provide this layer with data containing a single row.\"\n"
     ]
    },
    {
     "data": {
      "image/png": "[encoded data removed]",
      "text/plain": [
       "plot without title"
      ]
     },
     "metadata": {
      "image/png": {
       "height": 420,
       "width": 420
      }
     },
     "output_type": "display_data"
    }
   ],
   "source": [
    "library(GGally)\n",
    "\n",
    "\n",
    "ggpairs(iris_df,\n",
    "       columns = 1:4,\n",
    "       aes(color = species, fill = species),\n",
    "       upper = list(continuous = wrap(\"points\", alpha = 0.85)),\n",
    "       diag = list(continuous = wrap(\"densityDiag\", alpha = 0.4)), \n",
    "       lower = list(continuous = wrap(\"points\", alpha = 0.85))) +\n",
    "    theme(legend.position = \"right\") +\n",
    "    scale_fill_manual(values = custom_colors) +\n",
    "    scale_color_manual(values = custom_colors)"
   ]
  },
  {
   "cell_type": "markdown",
   "id": "64cbf9a3-3a3d-4fdc-8cb2-da75644a0147",
   "metadata": {},
   "source": [
    "Petals dimensions are the most strongly correlated, with a distinct positive linear correlation. The sepal dimensions show weaker correlations, but are still correlated. Lastly, the plot illustrates a clear distinction between the species Iris-setosa and the other two.\n",
    "\n",
    "## Birdwatching\n",
    "Like previously, we start by reading the data and then use `head` to get a quick overview."
   ]
  },
  {
   "cell_type": "code",
   "execution_count": 5,
   "id": "756b32f9-b3b9-4525-ab7d-3aa87826884d",
   "metadata": {},
   "outputs": [
    {
     "data": {
      "text/html": [
       "<table class=\"dataframe\">\n",
       "<caption>A data.frame: 6 × 27</caption>\n",
       "<thead>\n",
       "\t<tr><th></th><th scope=col>Id</th><th scope=col>Taxonsorteringsordning</th><th scope=col>Rödlistade</th><th scope=col>Artnamn</th><th scope=col>Vetenskapligt.namn</th><th scope=col>Auktor</th><th scope=col>Antal</th><th scope=col>Ålder.stadium</th><th scope=col>Kön</th><th scope=col>Aktivitet</th><th scope=col>...</th><th scope=col>Provins</th><th scope=col>Församling</th><th scope=col>Startdatum</th><th scope=col>Starttid</th><th scope=col>Slutdatum</th><th scope=col>Sluttid</th><th scope=col>Kommentar</th><th scope=col>Biotop</th><th scope=col>Rapportör</th><th scope=col>Observatörer</th></tr>\n",
       "\t<tr><th></th><th scope=col>&lt;int&gt;</th><th scope=col>&lt;int&gt;</th><th scope=col>&lt;chr&gt;</th><th scope=col>&lt;chr&gt;</th><th scope=col>&lt;chr&gt;</th><th scope=col>&lt;chr&gt;</th><th scope=col>&lt;chr&gt;</th><th scope=col>&lt;chr&gt;</th><th scope=col>&lt;chr&gt;</th><th scope=col>&lt;chr&gt;</th><th scope=col>...</th><th scope=col>&lt;chr&gt;</th><th scope=col>&lt;chr&gt;</th><th scope=col>&lt;chr&gt;</th><th scope=col>&lt;chr&gt;</th><th scope=col>&lt;chr&gt;</th><th scope=col>&lt;chr&gt;</th><th scope=col>&lt;chr&gt;</th><th scope=col>&lt;chr&gt;</th><th scope=col>&lt;chr&gt;</th><th scope=col>&lt;chr&gt;</th></tr>\n",
       "</thead>\n",
       "<tbody>\n",
       "\t<tr><th scope=row>1</th><td>97785066</td><td>55235</td><td>NA</td><td>Koltrast  </td><td>Turdus merula      </td><td>Linnaeus, 1758  </td><td>2 </td><td>NA</td><td>NA  </td><td>NA</td><td>...</td><td>Uppland</td><td>Solna</td><td>2022-01-01</td><td>NA   </td><td>2022-01-01</td><td>NA   </td><td>NA</td><td>NA</td><td>Björn Lindkvist</td><td>Björn Lindkvist</td></tr>\n",
       "\t<tr><th scope=row>2</th><td>97785067</td><td>54989</td><td>NA</td><td>Blåmes    </td><td>Cyanistes caeruleus</td><td>(Linnaeus, 1758)</td><td>2 </td><td>NA</td><td>NA  </td><td>NA</td><td>...</td><td>Uppland</td><td>Solna</td><td>2022-01-01</td><td>NA   </td><td>2022-01-01</td><td>NA   </td><td>NA</td><td>NA</td><td>Björn Lindkvist</td><td>Björn Lindkvist</td></tr>\n",
       "\t<tr><th scope=row>3</th><td>97785310</td><td>55235</td><td>NA</td><td>Koltrast  </td><td>Turdus merula      </td><td>Linnaeus, 1758  </td><td>1 </td><td>NA</td><td>NA  </td><td>NA</td><td>...</td><td>Uppland</td><td>Solna</td><td>2022-01-01</td><td>NA   </td><td>2022-01-01</td><td>NA   </td><td>NA</td><td>NA</td><td>Anders Eriksson</td><td>Anders Eriksson</td></tr>\n",
       "\t<tr><th scope=row>4</th><td>97786982</td><td>54735</td><td>NA</td><td>Sparvhök  </td><td>Accipiter nisus    </td><td>(Linnaeus, 1758)</td><td>1 </td><td>NA</td><td>hona</td><td>NA</td><td>...</td><td>Uppland</td><td>Solna</td><td>2022-01-01</td><td>NA   </td><td>2022-01-01</td><td>NA   </td><td>NA</td><td>NA</td><td>Anders Eriksson</td><td>Anders Eriksson</td></tr>\n",
       "\t<tr><th scope=row>5</th><td>97786985</td><td>54944</td><td>NA</td><td>Skata     </td><td>Pica pica          </td><td>(Linnaeus, 1758)</td><td>2 </td><td>NA</td><td>NA  </td><td>NA</td><td>...</td><td>Uppland</td><td>Solna</td><td>2021-12-30</td><td>15:57</td><td>2022-01-01</td><td>09:36</td><td>NA</td><td>NA</td><td>Henrik Spovin  </td><td>Henrik Spovin  </td></tr>\n",
       "\t<tr><th scope=row>6</th><td>97786990</td><td>55232</td><td>NT</td><td>Björktrast</td><td>Turdus pilaris     </td><td>Linnaeus, 1758  </td><td>10</td><td>NA</td><td>NA  </td><td>NA</td><td>...</td><td>Uppland</td><td>Solna</td><td>2022-01-01</td><td>NA   </td><td>2022-01-01</td><td>NA   </td><td>NA</td><td>NA</td><td>Anders Eriksson</td><td>Anders Eriksson</td></tr>\n",
       "</tbody>\n",
       "</table>\n"
      ],
      "text/latex": [
       "A data.frame: 6 × 27\n",
       "\\begin{tabular}{r|lllllllllllllllllllll}\n",
       "  & Id & Taxonsorteringsordning & Rödlistade & Artnamn & Vetenskapligt.namn & Auktor & Antal & Ålder.stadium & Kön & Aktivitet & ... & Provins & Församling & Startdatum & Starttid & Slutdatum & Sluttid & Kommentar & Biotop & Rapportör & Observatörer\\\\\n",
       "  & <int> & <int> & <chr> & <chr> & <chr> & <chr> & <chr> & <chr> & <chr> & <chr> & ... & <chr> & <chr> & <chr> & <chr> & <chr> & <chr> & <chr> & <chr> & <chr> & <chr>\\\\\n",
       "\\hline\n",
       "\t1 & 97785066 & 55235 & NA & Koltrast   & Turdus merula       & Linnaeus, 1758   & 2  & NA & NA   & NA & ... & Uppland & Solna & 2022-01-01 & NA    & 2022-01-01 & NA    & NA & NA & Björn Lindkvist & Björn Lindkvist\\\\\n",
       "\t2 & 97785067 & 54989 & NA & Blåmes     & Cyanistes caeruleus & (Linnaeus, 1758) & 2  & NA & NA   & NA & ... & Uppland & Solna & 2022-01-01 & NA    & 2022-01-01 & NA    & NA & NA & Björn Lindkvist & Björn Lindkvist\\\\\n",
       "\t3 & 97785310 & 55235 & NA & Koltrast   & Turdus merula       & Linnaeus, 1758   & 1  & NA & NA   & NA & ... & Uppland & Solna & 2022-01-01 & NA    & 2022-01-01 & NA    & NA & NA & Anders Eriksson & Anders Eriksson\\\\\n",
       "\t4 & 97786982 & 54735 & NA & Sparvhök   & Accipiter nisus     & (Linnaeus, 1758) & 1  & NA & hona & NA & ... & Uppland & Solna & 2022-01-01 & NA    & 2022-01-01 & NA    & NA & NA & Anders Eriksson & Anders Eriksson\\\\\n",
       "\t5 & 97786985 & 54944 & NA & Skata      & Pica pica           & (Linnaeus, 1758) & 2  & NA & NA   & NA & ... & Uppland & Solna & 2021-12-30 & 15:57 & 2022-01-01 & 09:36 & NA & NA & Henrik Spovin   & Henrik Spovin  \\\\\n",
       "\t6 & 97786990 & 55232 & NT & Björktrast & Turdus pilaris      & Linnaeus, 1758   & 10 & NA & NA   & NA & ... & Uppland & Solna & 2022-01-01 & NA    & 2022-01-01 & NA    & NA & NA & Anders Eriksson & Anders Eriksson\\\\\n",
       "\\end{tabular}\n"
      ],
      "text/markdown": [
       "\n",
       "A data.frame: 6 × 27\n",
       "\n",
       "| <!--/--> | Id &lt;int&gt; | Taxonsorteringsordning &lt;int&gt; | Rödlistade &lt;chr&gt; | Artnamn &lt;chr&gt; | Vetenskapligt.namn &lt;chr&gt; | Auktor &lt;chr&gt; | Antal &lt;chr&gt; | Ålder.stadium &lt;chr&gt; | Kön &lt;chr&gt; | Aktivitet &lt;chr&gt; | ... ... | Provins &lt;chr&gt; | Församling &lt;chr&gt; | Startdatum &lt;chr&gt; | Starttid &lt;chr&gt; | Slutdatum &lt;chr&gt; | Sluttid &lt;chr&gt; | Kommentar &lt;chr&gt; | Biotop &lt;chr&gt; | Rapportör &lt;chr&gt; | Observatörer &lt;chr&gt; |\n",
       "|---|---|---|---|---|---|---|---|---|---|---|---|---|---|---|---|---|---|---|---|---|---|\n",
       "| 1 | 97785066 | 55235 | NA | Koltrast   | Turdus merula       | Linnaeus, 1758   | 2  | NA | NA   | NA | ... | Uppland | Solna | 2022-01-01 | NA    | 2022-01-01 | NA    | NA | NA | Björn Lindkvist | Björn Lindkvist |\n",
       "| 2 | 97785067 | 54989 | NA | Blåmes     | Cyanistes caeruleus | (Linnaeus, 1758) | 2  | NA | NA   | NA | ... | Uppland | Solna | 2022-01-01 | NA    | 2022-01-01 | NA    | NA | NA | Björn Lindkvist | Björn Lindkvist |\n",
       "| 3 | 97785310 | 55235 | NA | Koltrast   | Turdus merula       | Linnaeus, 1758   | 1  | NA | NA   | NA | ... | Uppland | Solna | 2022-01-01 | NA    | 2022-01-01 | NA    | NA | NA | Anders Eriksson | Anders Eriksson |\n",
       "| 4 | 97786982 | 54735 | NA | Sparvhök   | Accipiter nisus     | (Linnaeus, 1758) | 1  | NA | hona | NA | ... | Uppland | Solna | 2022-01-01 | NA    | 2022-01-01 | NA    | NA | NA | Anders Eriksson | Anders Eriksson |\n",
       "| 5 | 97786985 | 54944 | NA | Skata      | Pica pica           | (Linnaeus, 1758) | 2  | NA | NA   | NA | ... | Uppland | Solna | 2021-12-30 | 15:57 | 2022-01-01 | 09:36 | NA | NA | Henrik Spovin   | Henrik Spovin   |\n",
       "| 6 | 97786990 | 55232 | NT | Björktrast | Turdus pilaris      | Linnaeus, 1758   | 10 | NA | NA   | NA | ... | Uppland | Solna | 2022-01-01 | NA    | 2022-01-01 | NA    | NA | NA | Anders Eriksson | Anders Eriksson |\n",
       "\n"
      ],
      "text/plain": [
       "  Id       Taxonsorteringsordning Rödlistade Artnamn    Vetenskapligt.namn \n",
       "1 97785066 55235                  NA         Koltrast   Turdus merula      \n",
       "2 97785067 54989                  NA         Blåmes     Cyanistes caeruleus\n",
       "3 97785310 55235                  NA         Koltrast   Turdus merula      \n",
       "4 97786982 54735                  NA         Sparvhök   Accipiter nisus    \n",
       "5 97786985 54944                  NA         Skata      Pica pica          \n",
       "6 97786990 55232                  NT         Björktrast Turdus pilaris     \n",
       "  Auktor           Antal Ålder.stadium Kön  Aktivitet ... Provins Församling\n",
       "1 Linnaeus, 1758   2     NA            NA   NA        ... Uppland Solna     \n",
       "2 (Linnaeus, 1758) 2     NA            NA   NA        ... Uppland Solna     \n",
       "3 Linnaeus, 1758   1     NA            NA   NA        ... Uppland Solna     \n",
       "4 (Linnaeus, 1758) 1     NA            hona NA        ... Uppland Solna     \n",
       "5 (Linnaeus, 1758) 2     NA            NA   NA        ... Uppland Solna     \n",
       "6 Linnaeus, 1758   10    NA            NA   NA        ... Uppland Solna     \n",
       "  Startdatum Starttid Slutdatum  Sluttid Kommentar Biotop Rapportör      \n",
       "1 2022-01-01 NA       2022-01-01 NA      NA        NA     Björn Lindkvist\n",
       "2 2022-01-01 NA       2022-01-01 NA      NA        NA     Björn Lindkvist\n",
       "3 2022-01-01 NA       2022-01-01 NA      NA        NA     Anders Eriksson\n",
       "4 2022-01-01 NA       2022-01-01 NA      NA        NA     Anders Eriksson\n",
       "5 2021-12-30 15:57    2022-01-01 09:36   NA        NA     Henrik Spovin  \n",
       "6 2022-01-01 NA       2022-01-01 NA      NA        NA     Anders Eriksson\n",
       "  Observatörer   \n",
       "1 Björn Lindkvist\n",
       "2 Björn Lindkvist\n",
       "3 Anders Eriksson\n",
       "4 Anders Eriksson\n",
       "5 Henrik Spovin  \n",
       "6 Anders Eriksson"
      ]
     },
     "metadata": {},
     "output_type": "display_data"
    }
   ],
   "source": [
    "bw_df <- read.csv(\n",
    "    \"https://raw.githubusercontent.com/su-mt4007/data/refs/heads/main/artportalen.csv\",\n",
    "    encoding = \"UTF-8\")\n",
    "head(bw_df)"
   ]
  },
  {
   "cell_type": "markdown",
   "id": "b0fe7ead-dc64-4e38-b75f-da403e478058",
   "metadata": {},
   "source": [
    "The first task is to answer the following questions:\n",
    "\n",
    "- What are the most prevelant species?\n",
    "- What is the monthly distribution of the top 3 most prevelant species?\n",
    "- What are the rarest species?\n",
    "\n",
    "#### First Question\n",
    "There are two ways to answer the question. We either take the sum over `Antal` for each specie, or we count the number of times a specie `Artnamn` has been reported. But first, we need to convert `Antal` as integer."
   ]
  },
  {
   "cell_type": "code",
   "execution_count": 6,
   "id": "203e4413-551c-4d0e-987a-4b0788caf38a",
   "metadata": {},
   "outputs": [
    {
     "name": "stderr",
     "output_type": "stream",
     "text": [
      "Warning message:\n",
      "\"\u001b[1m\u001b[22mThere was 1 warning in `mutate()`.\n",
      "\u001b[1m\u001b[22m\u001b[36mi\u001b[39m In argument: `Antal = .Primitive(\"as.integer\")(Antal)`.\n",
      "Caused by warning:\n",
      "\u001b[33m!\u001b[39m NAs introduced by coercion\"\n"
     ]
    }
   ],
   "source": [
    "bw_df <- bw_df %>%\n",
    "    mutate_at(\"Antal\", as.integer)"
   ]
  },
  {
   "cell_type": "markdown",
   "id": "d695b5b8-4976-4405-b8a6-6b2f0ee22b23",
   "metadata": {},
   "source": [
    "There seems to be missing values, which needs to be handled. I checked whether one column or both columns had any missing values using `any(is.na())`, which resulted in that `Antal` was the one with missing values. Furthermore, using `sum(is.na(bw_df$Antal))`, I found that there are 2329 observations in total where `Antal` is missing. Since there are a lot of missing values, we count the number of times `Artnamn` appears in the dataset instead."
   ]
  },
  {
   "cell_type": "code",
   "execution_count": 7,
   "id": "35691b8a-f6db-4f87-9e9c-2d6a9a5af985",
   "metadata": {},
   "outputs": [
    {
     "data": {
      "text/html": [
       "<table class=\"dataframe\">\n",
       "<caption>A tibble: 6 × 2</caption>\n",
       "<thead>\n",
       "\t<tr><th scope=col>Artnamn</th><th scope=col>count</th></tr>\n",
       "\t<tr><th scope=col>&lt;chr&gt;</th><th scope=col>&lt;int&gt;</th></tr>\n",
       "</thead>\n",
       "<tbody>\n",
       "\t<tr><td>Koltrast  </td><td>718</td></tr>\n",
       "\t<tr><td>Talgoxe   </td><td>631</td></tr>\n",
       "\t<tr><td>Blåmes    </td><td>629</td></tr>\n",
       "\t<tr><td>Gräsand   </td><td>531</td></tr>\n",
       "\t<tr><td>Storskrake</td><td>522</td></tr>\n",
       "\t<tr><td>Sothöna   </td><td>513</td></tr>\n",
       "</tbody>\n",
       "</table>\n"
      ],
      "text/latex": [
       "A tibble: 6 × 2\n",
       "\\begin{tabular}{ll}\n",
       " Artnamn & count\\\\\n",
       " <chr> & <int>\\\\\n",
       "\\hline\n",
       "\t Koltrast   & 718\\\\\n",
       "\t Talgoxe    & 631\\\\\n",
       "\t Blåmes     & 629\\\\\n",
       "\t Gräsand    & 531\\\\\n",
       "\t Storskrake & 522\\\\\n",
       "\t Sothöna    & 513\\\\\n",
       "\\end{tabular}\n"
      ],
      "text/markdown": [
       "\n",
       "A tibble: 6 × 2\n",
       "\n",
       "| Artnamn &lt;chr&gt; | count &lt;int&gt; |\n",
       "|---|---|\n",
       "| Koltrast   | 718 |\n",
       "| Talgoxe    | 631 |\n",
       "| Blåmes     | 629 |\n",
       "| Gräsand    | 531 |\n",
       "| Storskrake | 522 |\n",
       "| Sothöna    | 513 |\n",
       "\n"
      ],
      "text/plain": [
       "  Artnamn    count\n",
       "1 Koltrast   718  \n",
       "2 Talgoxe    631  \n",
       "3 Blåmes     629  \n",
       "4 Gräsand    531  \n",
       "5 Storskrake 522  \n",
       "6 Sothöna    513  "
      ]
     },
     "metadata": {},
     "output_type": "display_data"
    }
   ],
   "source": [
    "bw_counts <- bw_df %>%\n",
    "    select(Artnamn) %>%\n",
    "    group_by(Artnamn) %>%\n",
    "    summarize(count = n(), .groups = \"drop\") %>%\n",
    "    arrange(desc(count))\n",
    "\n",
    "head(bw_counts)"
   ]
  },
  {
   "cell_type": "markdown",
   "id": "5b441b73-6cd1-4e0b-ac0b-5e0d1f5000c1",
   "metadata": {},
   "source": [
    "From above, we see that Koltrast is the most prevelant specie that is being reported.\n",
    "\n",
    "#### Second Question\n",
    "We start by fetching the top three most prevelant species from `bw_counts`."
   ]
  },
  {
   "cell_type": "code",
   "execution_count": 8,
   "id": "0ffce3e2-ce6e-4e3e-8723-5b9d9ab3de54",
   "metadata": {},
   "outputs": [],
   "source": [
    "top_species <- bw_counts %>%\n",
    "    top_n(3, count) %>%\n",
    "    pull(Artnamn)"
   ]
  },
  {
   "cell_type": "markdown",
   "id": "14b4e3cd-f66f-4e76-9343-3d6335662fb3",
   "metadata": {},
   "source": [
    "Next step is to add a `Month` column, which we define as the midpoint between `Startdatum` and `Slutdatum`. This can be done by converting `Startdatum` and `Slutdatum` into date format using the library `lubridate`, and then using `Mutate`. "
   ]
  },
  {
   "cell_type": "code",
   "execution_count": 9,
   "id": "d365a4e5-7318-421a-8e60-e680c4230797",
   "metadata": {},
   "outputs": [],
   "source": [
    "library(lubridate)\n",
    "\n",
    "bw_df <- bw_df %>%\n",
    "    mutate(\n",
    "        Startdatum = as.Date(Startdatum, format = \"%Y-%m-%d\"),\n",
    "        Slutdatum = as.Date(Slutdatum, format = \"%Y-%m-%d\"),\n",
    "        Midpoint = Startdatum + (Slutdatum - Startdatum) / 2\n",
    "    )\n",
    "\n",
    "bw_df <- bw_df %>%\n",
    "    mutate(Month = month(Midpoint, label = TRUE, abbr = TRUE))"
   ]
  },
  {
   "cell_type": "markdown",
   "id": "212f3587-6937-4b19-bb2c-427386394db8",
   "metadata": {},
   "source": [
    "Next step is to create a subset of the dataset, which we will use to visualize the distribution."
   ]
  },
  {
   "cell_type": "code",
   "execution_count": 10,
   "id": "a0f8f8c5-d181-4c15-bd4c-fbbe2d69a611",
   "metadata": {},
   "outputs": [
    {
     "data": {
      "image/png": "[encoded data removed]",
      "text/plain": [
       "plot without title"
      ]
     },
     "metadata": {
      "image/png": {
       "height": 420,
       "width": 420
      }
     },
     "output_type": "display_data"
    }
   ],
   "source": [
    "monthly_distr <- bw_df %>%\n",
    "    filter(Artnamn %in% top_species) %>%\n",
    "    group_by(Artnamn, Month) %>%\n",
    "    summarize(count = n(), .groups = \"drop\") %>%\n",
    "    arrange(Artnamn, Month)\n",
    "\n",
    "ggplot(monthly_distr, aes(x = Month, y = count, fill = Artnamn)) +\n",
    "    geom_bar(stat = \"identity\", position = \"dodge\") +\n",
    "    labs(title = \"Monthly Distribution of Top 3 Species\",\n",
    "        x = \"Month\", y = \"Total Count\")"
   ]
  },
  {
   "cell_type": "markdown",
   "id": "833000d2-dac8-4cde-b1d1-5d9df9f96e7b",
   "metadata": {},
   "source": [
    "#### Third Question\n",
    "After some investigation using `filter(count <= 1)`, I found that there are a total of 35 species that has only been reported once in the dataset. We can display these species using `pull()`."
   ]
  },
  {
   "cell_type": "code",
   "execution_count": 11,
   "id": "025df6d9-27c8-4803-9f2d-8e1309379482",
   "metadata": {},
   "outputs": [
    {
     "data": {
      "text/html": [
       "<style>\n",
       ".list-inline {list-style: none; margin:0; padding: 0}\n",
       ".list-inline>li {display: inline-block}\n",
       ".list-inline>li:not(:last-child)::after {content: \"\\00b7\"; padding: 0 .5ex}\n",
       "</style>\n",
       "<ol class=list-inline><li>'Bivråk'</li><li>'Bändelkorsnäbb'</li><li>'Doppingfåglar'</li><li>'Ejder'</li><li>'Fiskgjuse'</li><li>'Fjällvråk'</li><li>'Forsärla'</li><li>'Gravand'</li><li>'Gråhakedopping'</li><li>'Knipskrake'</li><li>'Kustlabb'</li><li>'Lappsparv'</li><li>'Ljungpipare'</li><li>'Mellanskarv'</li><li>'Måsfåglar'</li><li>'Nordlig gulärla'</li><li>'Ob. bo-/bergfink'</li><li>'Ob. fisk-/silvertärna'</li><li>'Ob. gås'</li><li>'Ob. korsnäbb'</li><li>'Ormvråk, underarten buteo'</li><li>'Prutgås'</li><li>'Rosenfink'</li><li>'Röd glada'</li><li>'Rödbena'</li><li>'Spetsbergsgås'</li><li>'Spillkråka'</li><li>'Storlom'</li><li>'Strömstare'</li><li>'Tornfalk'</li><li>'Trädlärka'</li><li>'Tundrasädgås'</li><li>'Varfågel'</li><li>'Vinterhämpling'</li><li>'Ägretthäger'</li></ol>\n"
      ],
      "text/latex": [
       "\\begin{enumerate*}\n",
       "\\item 'Bivråk'\n",
       "\\item 'Bändelkorsnäbb'\n",
       "\\item 'Doppingfåglar'\n",
       "\\item 'Ejder'\n",
       "\\item 'Fiskgjuse'\n",
       "\\item 'Fjällvråk'\n",
       "\\item 'Forsärla'\n",
       "\\item 'Gravand'\n",
       "\\item 'Gråhakedopping'\n",
       "\\item 'Knipskrake'\n",
       "\\item 'Kustlabb'\n",
       "\\item 'Lappsparv'\n",
       "\\item 'Ljungpipare'\n",
       "\\item 'Mellanskarv'\n",
       "\\item 'Måsfåglar'\n",
       "\\item 'Nordlig gulärla'\n",
       "\\item 'Ob. bo-/bergfink'\n",
       "\\item 'Ob. fisk-/silvertärna'\n",
       "\\item 'Ob. gås'\n",
       "\\item 'Ob. korsnäbb'\n",
       "\\item 'Ormvråk, underarten buteo'\n",
       "\\item 'Prutgås'\n",
       "\\item 'Rosenfink'\n",
       "\\item 'Röd glada'\n",
       "\\item 'Rödbena'\n",
       "\\item 'Spetsbergsgås'\n",
       "\\item 'Spillkråka'\n",
       "\\item 'Storlom'\n",
       "\\item 'Strömstare'\n",
       "\\item 'Tornfalk'\n",
       "\\item 'Trädlärka'\n",
       "\\item 'Tundrasädgås'\n",
       "\\item 'Varfågel'\n",
       "\\item 'Vinterhämpling'\n",
       "\\item 'Ägretthäger'\n",
       "\\end{enumerate*}\n"
      ],
      "text/markdown": [
       "1. 'Bivråk'\n",
       "2. 'Bändelkorsnäbb'\n",
       "3. 'Doppingfåglar'\n",
       "4. 'Ejder'\n",
       "5. 'Fiskgjuse'\n",
       "6. 'Fjällvråk'\n",
       "7. 'Forsärla'\n",
       "8. 'Gravand'\n",
       "9. 'Gråhakedopping'\n",
       "10. 'Knipskrake'\n",
       "11. 'Kustlabb'\n",
       "12. 'Lappsparv'\n",
       "13. 'Ljungpipare'\n",
       "14. 'Mellanskarv'\n",
       "15. 'Måsfåglar'\n",
       "16. 'Nordlig gulärla'\n",
       "17. 'Ob. bo-/bergfink'\n",
       "18. 'Ob. fisk-/silvertärna'\n",
       "19. 'Ob. gås'\n",
       "20. 'Ob. korsnäbb'\n",
       "21. 'Ormvråk, underarten buteo'\n",
       "22. 'Prutgås'\n",
       "23. 'Rosenfink'\n",
       "24. 'Röd glada'\n",
       "25. 'Rödbena'\n",
       "26. 'Spetsbergsgås'\n",
       "27. 'Spillkråka'\n",
       "28. 'Storlom'\n",
       "29. 'Strömstare'\n",
       "30. 'Tornfalk'\n",
       "31. 'Trädlärka'\n",
       "32. 'Tundrasädgås'\n",
       "33. 'Varfågel'\n",
       "34. 'Vinterhämpling'\n",
       "35. 'Ägretthäger'\n",
       "\n",
       "\n"
      ],
      "text/plain": [
       " [1] \"Bivråk\"                    \"Bändelkorsnäbb\"           \n",
       " [3] \"Doppingfåglar\"             \"Ejder\"                    \n",
       " [5] \"Fiskgjuse\"                 \"Fjällvråk\"                \n",
       " [7] \"Forsärla\"                  \"Gravand\"                  \n",
       " [9] \"Gråhakedopping\"            \"Knipskrake\"               \n",
       "[11] \"Kustlabb\"                  \"Lappsparv\"                \n",
       "[13] \"Ljungpipare\"               \"Mellanskarv\"              \n",
       "[15] \"Måsfåglar\"                 \"Nordlig gulärla\"          \n",
       "[17] \"Ob. bo-/bergfink\"          \"Ob. fisk-/silvertärna\"    \n",
       "[19] \"Ob. gås\"                   \"Ob. korsnäbb\"             \n",
       "[21] \"Ormvråk, underarten buteo\" \"Prutgås\"                  \n",
       "[23] \"Rosenfink\"                 \"Röd glada\"                \n",
       "[25] \"Rödbena\"                   \"Spetsbergsgås\"            \n",
       "[27] \"Spillkråka\"                \"Storlom\"                  \n",
       "[29] \"Strömstare\"                \"Tornfalk\"                 \n",
       "[31] \"Trädlärka\"                 \"Tundrasädgås\"             \n",
       "[33] \"Varfågel\"                  \"Vinterhämpling\"           \n",
       "[35] \"Ägretthäger\"              "
      ]
     },
     "metadata": {},
     "output_type": "display_data"
    }
   ],
   "source": [
    "rarest_species <- bw_counts %>%\n",
    "    filter(count <= 1) %>%\n",
    "    pull(Artnamn)\n",
    "\n",
    "rarest_species"
   ]
  },
  {
   "cell_type": "markdown",
   "id": "0e812f3b-c144-46ab-9c11-b1160e749dee",
   "metadata": {},
   "source": [
    "The next task is to generate three questions of our own choice, and explore the dataset by answering the questions. The first question I want to explore is the following:\n",
    "\n",
    "- What species are most commonly reported during summer?\n",
    "\n",
    "First, we need to establish when summer is. A subjective take (my personal definition), is that summer is during the period June-August. We can now count the number of times a specie has been reported during this time period."
   ]
  },
  {
   "cell_type": "code",
   "execution_count": 12,
   "id": "399571d8-07f9-4846-b31b-9cd1b0a1a652",
   "metadata": {},
   "outputs": [
    {
     "data": {
      "text/html": [
       "<table class=\"dataframe\">\n",
       "<caption>A tibble: 3 × 2</caption>\n",
       "<thead>\n",
       "\t<tr><th scope=col>Artnamn</th><th scope=col>count</th></tr>\n",
       "\t<tr><th scope=col>&lt;chr&gt;</th><th scope=col>&lt;int&gt;</th></tr>\n",
       "</thead>\n",
       "<tbody>\n",
       "\t<tr><td>Mindre flugsnappare  </td><td>55</td></tr>\n",
       "\t<tr><td>Svartvit flugsnappare</td><td>54</td></tr>\n",
       "\t<tr><td>Koltrast             </td><td>50</td></tr>\n",
       "</tbody>\n",
       "</table>\n"
      ],
      "text/latex": [
       "A tibble: 3 × 2\n",
       "\\begin{tabular}{ll}\n",
       " Artnamn & count\\\\\n",
       " <chr> & <int>\\\\\n",
       "\\hline\n",
       "\t Mindre flugsnappare   & 55\\\\\n",
       "\t Svartvit flugsnappare & 54\\\\\n",
       "\t Koltrast              & 50\\\\\n",
       "\\end{tabular}\n"
      ],
      "text/markdown": [
       "\n",
       "A tibble: 3 × 2\n",
       "\n",
       "| Artnamn &lt;chr&gt; | count &lt;int&gt; |\n",
       "|---|---|\n",
       "| Mindre flugsnappare   | 55 |\n",
       "| Svartvit flugsnappare | 54 |\n",
       "| Koltrast              | 50 |\n",
       "\n"
      ],
      "text/plain": [
       "  Artnamn               count\n",
       "1 Mindre flugsnappare   55   \n",
       "2 Svartvit flugsnappare 54   \n",
       "3 Koltrast              50   "
      ]
     },
     "metadata": {},
     "output_type": "display_data"
    }
   ],
   "source": [
    "bw_summer <- bw_df %>%\n",
    "    mutate(Month = month(Startdatum, label = TRUE, abbr= TRUE)) %>%\n",
    "    filter(Month %in% c(\"jun\", \"jul\", \"aug\"))\n",
    "\n",
    "summer_counts <- bw_summer %>%\n",
    "    select(Artnamn, Month) %>%\n",
    "    group_by(Artnamn) %>%\n",
    "    summarize(count = n(), .groups = \"drop\") %>%\n",
    "    arrange(desc(count))\n",
    "\n",
    "head(summer_counts, 3)"
   ]
  },
  {
   "cell_type": "markdown",
   "id": "883a2c24-0dcc-4b7a-9b27-563687d7ca00",
   "metadata": {},
   "source": [
    "The analysis shows that ***Mindre flugsnappare***, ***Svartvit flugsnappare***, and ***Koltrast*** are the most commonly reported species during the summer months. These species are active breeders or migrants returning to Sweden to breed, which highlights seasonal patterns in bird activity and their visibility during this period. \n",
    "\n",
    "The second question we will explore is the following\n",
    "\n",
    "- Who are the most active reporters in this dataset, and how many unique species have they reported?\n",
    "\n",
    "To explore the question above, we group by `Rapportör`, and then count all the unique species each reporter has contributed as well as counting the total number of reports. "
   ]
  },
  {
   "cell_type": "code",
   "execution_count": 13,
   "id": "d0766766-bbc1-4275-8b6a-f8f01e2b34a5",
   "metadata": {},
   "outputs": [
    {
     "data": {
      "text/html": [
       "<table class=\"dataframe\">\n",
       "<caption>A tibble: 10 × 3</caption>\n",
       "<thead>\n",
       "\t<tr><th scope=col>Rapportör</th><th scope=col>unique_species_count</th><th scope=col>total_sightings</th></tr>\n",
       "\t<tr><th scope=col>&lt;chr&gt;</th><th scope=col>&lt;int&gt;</th><th scope=col>&lt;int&gt;</th></tr>\n",
       "</thead>\n",
       "<tbody>\n",
       "\t<tr><td>Svante Söderholm</td><td>143</td><td>5428</td></tr>\n",
       "\t<tr><td>Björn Lindkvist </td><td>100</td><td> 220</td></tr>\n",
       "\t<tr><td>Ari Määttä      </td><td> 99</td><td> 519</td></tr>\n",
       "\t<tr><td>Adrian Trost    </td><td> 96</td><td> 564</td></tr>\n",
       "\t<tr><td>Folke K Larsson </td><td> 94</td><td>1029</td></tr>\n",
       "\t<tr><td>Henrik Spovin   </td><td> 91</td><td> 498</td></tr>\n",
       "\t<tr><td>jesper sollerman</td><td> 90</td><td> 954</td></tr>\n",
       "\t<tr><td>Magnus Edberg   </td><td> 85</td><td> 693</td></tr>\n",
       "\t<tr><td>Erik Jonsson    </td><td> 84</td><td> 330</td></tr>\n",
       "\t<tr><td>Mattias Öberg   </td><td> 84</td><td> 218</td></tr>\n",
       "</tbody>\n",
       "</table>\n"
      ],
      "text/latex": [
       "A tibble: 10 × 3\n",
       "\\begin{tabular}{lll}\n",
       " Rapportör & unique\\_species\\_count & total\\_sightings\\\\\n",
       " <chr> & <int> & <int>\\\\\n",
       "\\hline\n",
       "\t Svante Söderholm & 143 & 5428\\\\\n",
       "\t Björn Lindkvist  & 100 &  220\\\\\n",
       "\t Ari Määttä       &  99 &  519\\\\\n",
       "\t Adrian Trost     &  96 &  564\\\\\n",
       "\t Folke K Larsson  &  94 & 1029\\\\\n",
       "\t Henrik Spovin    &  91 &  498\\\\\n",
       "\t jesper sollerman &  90 &  954\\\\\n",
       "\t Magnus Edberg    &  85 &  693\\\\\n",
       "\t Erik Jonsson     &  84 &  330\\\\\n",
       "\t Mattias Öberg    &  84 &  218\\\\\n",
       "\\end{tabular}\n"
      ],
      "text/markdown": [
       "\n",
       "A tibble: 10 × 3\n",
       "\n",
       "| Rapportör &lt;chr&gt; | unique_species_count &lt;int&gt; | total_sightings &lt;int&gt; |\n",
       "|---|---|---|\n",
       "| Svante Söderholm | 143 | 5428 |\n",
       "| Björn Lindkvist  | 100 |  220 |\n",
       "| Ari Määttä       |  99 |  519 |\n",
       "| Adrian Trost     |  96 |  564 |\n",
       "| Folke K Larsson  |  94 | 1029 |\n",
       "| Henrik Spovin    |  91 |  498 |\n",
       "| jesper sollerman |  90 |  954 |\n",
       "| Magnus Edberg    |  85 |  693 |\n",
       "| Erik Jonsson     |  84 |  330 |\n",
       "| Mattias Öberg    |  84 |  218 |\n",
       "\n"
      ],
      "text/plain": [
       "   Rapportör        unique_species_count total_sightings\n",
       "1  Svante Söderholm 143                  5428           \n",
       "2  Björn Lindkvist  100                   220           \n",
       "3  Ari Määttä        99                   519           \n",
       "4  Adrian Trost      96                   564           \n",
       "5  Folke K Larsson   94                  1029           \n",
       "6  Henrik Spovin     91                   498           \n",
       "7  jesper sollerman  90                   954           \n",
       "8  Magnus Edberg     85                   693           \n",
       "9  Erik Jonsson      84                   330           \n",
       "10 Mattias Öberg     84                   218           "
      ]
     },
     "metadata": {},
     "output_type": "display_data"
    }
   ],
   "source": [
    "reporter_activity <- bw_df %>%\n",
    "    group_by(Rapportör) %>%\n",
    "    summarize(unique_species_count = n_distinct(Artnamn),\n",
    "              total_sightings = n(),\n",
    "              .groups = \"drop\") %>%\n",
    "    arrange(desc(unique_species_count))\n",
    "\n",
    "head(reporter_activity, 10)"
   ]
  },
  {
   "cell_type": "markdown",
   "id": "c95a6967-b8aa-44d0-93c4-82835afaa5c0",
   "metadata": {},
   "source": [
    "The table above, reveals several key insights. Firstly, ***Svante Söderholm*** is a clear contributor, reporting the highest number of unique species and total sightings, accounting for roughly one-quarter of all observations. This highlights his significant influence on the dataset. Furthermore, there are some variation in reporting pattern. Some top contributors, like ***Erik Jonsson*** have reported a large amount of unique species but has a relatively low total sightings, suggesting a focus on quality or niche observations. Whilst others, like ***Jesper Sollerman***, appears to emphasize heavily on contributing large volumes of data, with fewer unique species but a high overall number of sightings.\n",
    "\n",
    "Finally, we explore the question:\n",
    "\n",
    "- Are any of the rarest observed specie red-listed?\n",
    "\n",
    "First, we check for all unique entries in the column `Rödlistade`."
   ]
  },
  {
   "cell_type": "code",
   "execution_count": 14,
   "id": "655abdbb-e241-40d8-a656-0ddba83b1e35",
   "metadata": {},
   "outputs": [
    {
     "data": {
      "text/html": [
       "<style>\n",
       ".list-inline {list-style: none; margin:0; padding: 0}\n",
       ".list-inline>li {display: inline-block}\n",
       ".list-inline>li:not(:last-child)::after {content: \"\\00b7\"; padding: 0 .5ex}\n",
       "</style>\n",
       "<ol class=list-inline><li>NA</li><li>'NT'</li><li>'VU'</li><li>'EN'</li></ol>\n"
      ],
      "text/latex": [
       "\\begin{enumerate*}\n",
       "\\item NA\n",
       "\\item 'NT'\n",
       "\\item 'VU'\n",
       "\\item 'EN'\n",
       "\\end{enumerate*}\n"
      ],
      "text/markdown": [
       "1. NA\n",
       "2. 'NT'\n",
       "3. 'VU'\n",
       "4. 'EN'\n",
       "\n",
       "\n"
      ],
      "text/plain": [
       "[1] NA   \"NT\" \"VU\" \"EN\""
      ]
     },
     "metadata": {},
     "output_type": "display_data"
    }
   ],
   "source": [
    "unique(bw_df$Rödlistade)"
   ]
  },
  {
   "cell_type": "markdown",
   "id": "ba301ab2-e5fb-4c93-8edd-378f6329d9c5",
   "metadata": {},
   "source": [
    "As we can see the dataset only includes at most endangered species (denoted EN). Next, we create a subset that includes the rarest species who are red-listed. To do this, we start by fetching all species with counts $\\leq 1$, and then we use `filter` to fetch all rarest species that are endangered."
   ]
  },
  {
   "cell_type": "code",
   "execution_count": 15,
   "id": "9b590ba3-4ddb-4f34-8ec8-68803dade799",
   "metadata": {},
   "outputs": [
    {
     "data": {
      "text/html": [
       "<table class=\"dataframe\">\n",
       "<caption>A data.frame: 8 × 2</caption>\n",
       "<thead>\n",
       "\t<tr><th scope=col>Artnamn</th><th scope=col>Rödlistade</th></tr>\n",
       "\t<tr><th scope=col>&lt;chr&gt;</th><th scope=col>&lt;chr&gt;</th></tr>\n",
       "</thead>\n",
       "<tbody>\n",
       "\t<tr><td>Fjällvråk     </td><td>NT</td></tr>\n",
       "\t<tr><td>Vinterhämpling</td><td>VU</td></tr>\n",
       "\t<tr><td>Spillkråka    </td><td>NT</td></tr>\n",
       "\t<tr><td>Lappsparv     </td><td>VU</td></tr>\n",
       "\t<tr><td>Ejder         </td><td>EN</td></tr>\n",
       "\t<tr><td>Gravand       </td><td>NT</td></tr>\n",
       "\t<tr><td>Kustlabb      </td><td>NT</td></tr>\n",
       "\t<tr><td>Rosenfink     </td><td>NT</td></tr>\n",
       "</tbody>\n",
       "</table>\n"
      ],
      "text/latex": [
       "A data.frame: 8 × 2\n",
       "\\begin{tabular}{ll}\n",
       " Artnamn & Rödlistade\\\\\n",
       " <chr> & <chr>\\\\\n",
       "\\hline\n",
       "\t Fjällvråk      & NT\\\\\n",
       "\t Vinterhämpling & VU\\\\\n",
       "\t Spillkråka     & NT\\\\\n",
       "\t Lappsparv      & VU\\\\\n",
       "\t Ejder          & EN\\\\\n",
       "\t Gravand        & NT\\\\\n",
       "\t Kustlabb       & NT\\\\\n",
       "\t Rosenfink      & NT\\\\\n",
       "\\end{tabular}\n"
      ],
      "text/markdown": [
       "\n",
       "A data.frame: 8 × 2\n",
       "\n",
       "| Artnamn &lt;chr&gt; | Rödlistade &lt;chr&gt; |\n",
       "|---|---|\n",
       "| Fjällvråk      | NT |\n",
       "| Vinterhämpling | VU |\n",
       "| Spillkråka     | NT |\n",
       "| Lappsparv      | VU |\n",
       "| Ejder          | EN |\n",
       "| Gravand        | NT |\n",
       "| Kustlabb       | NT |\n",
       "| Rosenfink      | NT |\n",
       "\n"
      ],
      "text/plain": [
       "  Artnamn        Rödlistade\n",
       "1 Fjällvråk      NT        \n",
       "2 Vinterhämpling VU        \n",
       "3 Spillkråka     NT        \n",
       "4 Lappsparv      VU        \n",
       "5 Ejder          EN        \n",
       "6 Gravand        NT        \n",
       "7 Kustlabb       NT        \n",
       "8 Rosenfink      NT        "
      ]
     },
     "metadata": {},
     "output_type": "display_data"
    }
   ],
   "source": [
    "rl_rarest_species <- bw_df %>%\n",
    "    select(Artnamn, Rödlistade) %>%\n",
    "    filter(Artnamn %in% rarest_species, !is.na(Rödlistade)) %>%\n",
    "    distinct(Artnamn, .keep_all = TRUE)\n",
    "\n",
    "rl_rarest_species"
   ]
  },
  {
   "cell_type": "markdown",
   "id": "9ed59e2b-97cc-4b94-8d5b-de6e7e129f79",
   "metadata": {},
   "source": [
    "Eight out of the 35 species reported only once are red-listed, representing approximately 23% of the rarest observed species. This highlights the overlap between rarity in observations and conservation risk. Furthermore, this finding is significant as it underscores how rare observations can serve as indicators of species under threat.\n",
    "\n",
    "### Predicting Strokes\n",
    "To explore `stroke-data`, we start by understanding the structure of the data."
   ]
  },
  {
   "cell_type": "code",
   "execution_count": 16,
   "id": "fba3c155-dce4-437e-9f12-54939ec89262",
   "metadata": {},
   "outputs": [
    {
     "name": "stdout",
     "output_type": "stream",
     "text": [
      "'data.frame':\t5110 obs. of  12 variables:\n",
      " $ id               : int  9046 51676 31112 60182 1665 56669 53882 10434 27419 60491 ...\n",
      " $ gender           : chr  \"Male\" \"Female\" \"Male\" \"Female\" ...\n",
      " $ age              : num  67 61 80 49 79 81 74 69 59 78 ...\n",
      " $ hypertension     : int  0 0 0 0 1 0 1 0 0 0 ...\n",
      " $ heart_disease    : int  1 0 1 0 0 0 1 0 0 0 ...\n",
      " $ ever_married     : chr  \"Yes\" \"Yes\" \"Yes\" \"Yes\" ...\n",
      " $ work_type        : chr  \"Private\" \"Self-employed\" \"Private\" \"Private\" ...\n",
      " $ Residence_type   : chr  \"Urban\" \"Rural\" \"Rural\" \"Urban\" ...\n",
      " $ avg_glucose_level: num  229 202 106 171 174 ...\n",
      " $ bmi              : chr  \"36.6\" \"N/A\" \"32.5\" \"34.4\" ...\n",
      " $ smoking_status   : chr  \"formerly smoked\" \"never smoked\" \"never smoked\" \"smokes\" ...\n",
      " $ stroke           : int  1 1 1 1 1 1 1 1 1 1 ...\n"
     ]
    }
   ],
   "source": [
    "stroke_df <- read.csv('https://raw.githubusercontent.com/su-mt4007/data/refs/heads/main/stroke-data.csv', fileEncoding = \"UTF-8\")\n",
    "str(stroke_df)"
   ]
  },
  {
   "cell_type": "markdown",
   "id": "55d20edf-5c19-4fe3-8301-7fc3a073a7b4",
   "metadata": {},
   "source": [
    "In order to generate some serious questions, we start by exploring a baseline questio\n",
    "\n",
    "- What type of variation occurs within the variables?\n",
    "\n",
    "This will gain more familiarity with the data, which lead to more serious questions. We choose some potential key factors such as `age`, `bmi` and `avg_glucose_level` and analyze the variation."
   ]
  },
  {
   "cell_type": "code",
   "execution_count": 17,
   "id": "94e9e426-33eb-406e-a1b0-2dbbebc6c5a8",
   "metadata": {},
   "outputs": [
    {
     "data": {
      "text/plain": [
       "      age        avg_glucose_level      bmi       \n",
       " Min.   : 0.08   Min.   : 55.12    Min.   :10.30  \n",
       " 1st Qu.:25.00   1st Qu.: 77.07    1st Qu.:23.50  \n",
       " Median :44.00   Median : 91.68    Median :28.10  \n",
       " Mean   :42.87   Mean   :105.31    Mean   :28.89  \n",
       " 3rd Qu.:60.00   3rd Qu.:113.57    3rd Qu.:33.10  \n",
       " Max.   :82.00   Max.   :271.74    Max.   :97.60  "
      ]
     },
     "metadata": {},
     "output_type": "display_data"
    },
    {
     "data": {
      "image/png": "[encoded data removed]",
      "text/plain": [
       "plot without title"
      ]
     },
     "metadata": {
      "image/png": {
       "height": 420,
       "width": 420
      }
     },
     "output_type": "display_data"
    }
   ],
   "source": [
    "summary_stats <- stroke_df %>%\n",
    "    select(age, avg_glucose_level, bmi) %>%\n",
    "    filter(bmi != \"N/A\") %>%\n",
    "    mutate(bmi = as.numeric(bmi)) %>%\n",
    "    summary()\n",
    "\n",
    "summary_stats\n",
    "\n",
    "age_plot <- ggplot(stroke_df, aes(x = age)) +\n",
    "    geom_histogram(bins = 20, binwidth = 2, fill = \"blue\", alpha = 0.7) +\n",
    "    labs(title = \"Age Distribution\", x = \"Age\", y = \"Count\") +\n",
    "    theme(aspect.ratio = 1)\n",
    "\n",
    "stroke_df_clean <- stroke_df %>% \n",
    "    filter(bmi != \"N/A\") %>%\n",
    "    mutate(bmi = as.numeric(bmi))\n",
    "\n",
    "bmi_plot <- ggplot(stroke_df_clean, aes(x = bmi)) +\n",
    "    geom_histogram(bins = 20, binwidth = 2, fill = \"green\", alpha = 0.7) +\n",
    "    labs(title = \"BMI Distribution\", x = \"BMI\", y = \"Count\") +\n",
    "    theme(aspect.ratio = 1)\n",
    "\n",
    "age_plot + bmi_plot"
   ]
  },
  {
   "cell_type": "markdown",
   "id": "51488019-de23-41d7-bd48-0ed160fc8de0",
   "metadata": {},
   "source": [
    "There is a large proportion of older individuals in the dataset, which should be the case when focusing one stroke-related analysis. However, the distribution seem to peak at both ends of the tails. This suggests that strokes may occur across all age groups but are more prevalent among older individuals. \n",
    "\n",
    "- How does age influence the likelihood of stroke occurence?\n",
    "\n",
    "BMI seems to follow a right-skewed distribution, with most values clustered between the interval 20 and 40. The mean BMI is 28.89, which is considered overweight based on Wikipedia. Also, we can observe extreme outliers in BMI, with values as high as 97.6. These observations could indicate that the individuals in this dataset are likely overweight, which could be an important risk factor for stroke occurances.\n",
    "\n",
    "- How does BMI influence the likelihood of stroke occurence?\n",
    "\n",
    "The mean glucose level 105.31 is slightly higher than the median, indicating a slight right skew. This could indicate that the dataset may include individuals with high blood sugar levels, which could potentially be a risk factor for stroke occurances.\n",
    "\n",
    "- Do higher glucose levels increase the risk of stroke occurence?\n",
    "\n",
    "We now have three more refined questions to explore.\n",
    "\n",
    "#### Age and Stroke Occurance\n",
    "First, we categorize individuals based on their age (e.g., children, middle-aged, elderly). Then we calculate stroke rates for each group and visualize age distributions for stroke vs. non-stroke."
   ]
  },
  {
   "cell_type": "code",
   "execution_count": 18,
   "id": "c97246b1-88ef-44c5-84d0-ab9b91d6b664",
   "metadata": {},
   "outputs": [
    {
     "data": {
      "text/html": [
       "<table class=\"dataframe\">\n",
       "<caption>A tibble: 4 × 4</caption>\n",
       "<thead>\n",
       "\t<tr><th scope=col>age_group</th><th scope=col>total</th><th scope=col>strokes</th><th scope=col>stroke_rate</th></tr>\n",
       "\t<tr><th scope=col>&lt;chr&gt;</th><th scope=col>&lt;int&gt;</th><th scope=col>&lt;int&gt;</th><th scope=col>&lt;dbl&gt;</th></tr>\n",
       "</thead>\n",
       "<tbody>\n",
       "\t<tr><td>Elderly           </td><td>1376</td><td>181</td><td>13.1540698</td></tr>\n",
       "\t<tr><td>Middle-Aged Adults</td><td>1564</td><td> 60</td><td> 3.8363171</td></tr>\n",
       "\t<tr><td>Young Adults      </td><td>1314</td><td>  6</td><td> 0.4566210</td></tr>\n",
       "\t<tr><td>Children          </td><td> 856</td><td>  2</td><td> 0.2336449</td></tr>\n",
       "</tbody>\n",
       "</table>\n"
      ],
      "text/latex": [
       "A tibble: 4 × 4\n",
       "\\begin{tabular}{llll}\n",
       " age\\_group & total & strokes & stroke\\_rate\\\\\n",
       " <chr> & <int> & <int> & <dbl>\\\\\n",
       "\\hline\n",
       "\t Elderly            & 1376 & 181 & 13.1540698\\\\\n",
       "\t Middle-Aged Adults & 1564 &  60 &  3.8363171\\\\\n",
       "\t Young Adults       & 1314 &   6 &  0.4566210\\\\\n",
       "\t Children           &  856 &   2 &  0.2336449\\\\\n",
       "\\end{tabular}\n"
      ],
      "text/markdown": [
       "\n",
       "A tibble: 4 × 4\n",
       "\n",
       "| age_group &lt;chr&gt; | total &lt;int&gt; | strokes &lt;int&gt; | stroke_rate &lt;dbl&gt; |\n",
       "|---|---|---|---|\n",
       "| Elderly            | 1376 | 181 | 13.1540698 |\n",
       "| Middle-Aged Adults | 1564 |  60 |  3.8363171 |\n",
       "| Young Adults       | 1314 |   6 |  0.4566210 |\n",
       "| Children           |  856 |   2 |  0.2336449 |\n",
       "\n"
      ],
      "text/plain": [
       "  age_group          total strokes stroke_rate\n",
       "1 Elderly            1376  181     13.1540698 \n",
       "2 Middle-Aged Adults 1564   60      3.8363171 \n",
       "3 Young Adults       1314    6      0.4566210 \n",
       "4 Children            856    2      0.2336449 "
      ]
     },
     "metadata": {},
     "output_type": "display_data"
    },
    {
     "data": {
      "image/png": "[encoded data removed]",
      "text/plain": [
       "plot without title"
      ]
     },
     "metadata": {
      "image/png": {
       "height": 420,
       "width": 420
      }
     },
     "output_type": "display_data"
    }
   ],
   "source": [
    "stroke_df <- stroke_df %>%\n",
    "    mutate(age_group = case_when(\n",
    "        age < 18 ~ \"Children\",\n",
    "        age >= 18 & age < 40 ~ \"Young Adults\",\n",
    "        age >= 40 & age < 60 ~ \"Middle-Aged Adults\",\n",
    "        age >= 60 ~ \"Elderly\"\n",
    "    ))\n",
    "\n",
    "age_group_summary <- stroke_df %>%\n",
    "    group_by(age_group) %>%\n",
    "    summarize(\n",
    "        total = n(),\n",
    "        strokes = sum(stroke, na.rm = TRUE),\n",
    "        stroke_rate = mean(stroke, na.rm = TRUE) * 100\n",
    "    ) %>%\n",
    "    arrange(desc(stroke_rate))\n",
    "\n",
    "age_group_summary\n",
    "\n",
    "ggplot(stroke_df, aes(x = age, color = factor(stroke), fill = factor(stroke))) +\n",
    "  geom_density(alpha = 0.3) +\n",
    "  labs(\n",
    "    title = \"Age Distribution Density by Stroke Occurrence\",\n",
    "    x = \"Age\",\n",
    "    y = \"Density\",\n",
    "    fill = \"Stroke\",\n",
    "    color = \"Stroke\"\n",
    "  )\n"
   ]
  },
  {
   "cell_type": "markdown",
   "id": "c52e25f1-ac7e-46de-be40-65a08f5ce62e",
   "metadata": {},
   "source": [
    "As expected, elderly individuals are predominantly prone to strokes, with a stroke rate of 13.15%, while children have the lowest stroke rate at 0.23%. Middle-aged adults fall in between, with a moderate stroke rate of 3.83%. The density plot shows that strokes are heavily concentrated in individuals aged 60–80, confirming that age is a primary risk factor for stroke. This analysis highlights that individuals aged 60 and above are the most vulnerable to stroke occurrence.\n",
    "\n",
    "#### BMI and Stroke Occurence\n",
    "Like previously, we create categories but now based on the individuals BMI (e.g., Underweight, Normal, Overwe\n",
    "ight, Obese), which are according to WHO classifications. Then we calculate stroke rates for each group and visualize BMI distributions for stroke vs. non-stroke."
   ]
  },
  {
   "cell_type": "code",
   "execution_count": 19,
   "id": "819c9862-10e0-43d7-a3b3-3f5051ada3be",
   "metadata": {},
   "outputs": [
    {
     "data": {
      "text/html": [
       "<table class=\"dataframe\">\n",
       "<caption>A tibble: 4 × 4</caption>\n",
       "<thead>\n",
       "\t<tr><th scope=col>bmi_category</th><th scope=col>total</th><th scope=col>strokes</th><th scope=col>stroke_rate</th></tr>\n",
       "\t<tr><th scope=col>&lt;chr&gt;</th><th scope=col>&lt;int&gt;</th><th scope=col>&lt;int&gt;</th><th scope=col>&lt;dbl&gt;</th></tr>\n",
       "</thead>\n",
       "<tbody>\n",
       "\t<tr><td>Overweight </td><td>1409</td><td>75</td><td>5.3229241</td></tr>\n",
       "\t<tr><td>Obese      </td><td>1920</td><td>98</td><td>5.1041667</td></tr>\n",
       "\t<tr><td>Normal     </td><td>1243</td><td>35</td><td>2.8157683</td></tr>\n",
       "\t<tr><td>Underweight</td><td> 337</td><td> 1</td><td>0.2967359</td></tr>\n",
       "</tbody>\n",
       "</table>\n"
      ],
      "text/latex": [
       "A tibble: 4 × 4\n",
       "\\begin{tabular}{llll}\n",
       " bmi\\_category & total & strokes & stroke\\_rate\\\\\n",
       " <chr> & <int> & <int> & <dbl>\\\\\n",
       "\\hline\n",
       "\t Overweight  & 1409 & 75 & 5.3229241\\\\\n",
       "\t Obese       & 1920 & 98 & 5.1041667\\\\\n",
       "\t Normal      & 1243 & 35 & 2.8157683\\\\\n",
       "\t Underweight &  337 &  1 & 0.2967359\\\\\n",
       "\\end{tabular}\n"
      ],
      "text/markdown": [
       "\n",
       "A tibble: 4 × 4\n",
       "\n",
       "| bmi_category &lt;chr&gt; | total &lt;int&gt; | strokes &lt;int&gt; | stroke_rate &lt;dbl&gt; |\n",
       "|---|---|---|---|\n",
       "| Overweight  | 1409 | 75 | 5.3229241 |\n",
       "| Obese       | 1920 | 98 | 5.1041667 |\n",
       "| Normal      | 1243 | 35 | 2.8157683 |\n",
       "| Underweight |  337 |  1 | 0.2967359 |\n",
       "\n"
      ],
      "text/plain": [
       "  bmi_category total strokes stroke_rate\n",
       "1 Overweight   1409  75      5.3229241  \n",
       "2 Obese        1920  98      5.1041667  \n",
       "3 Normal       1243  35      2.8157683  \n",
       "4 Underweight   337   1      0.2967359  "
      ]
     },
     "metadata": {},
     "output_type": "display_data"
    },
    {
     "data": {
      "image/png": "[encoded data removed]",
      "text/plain": [
       "plot without title"
      ]
     },
     "metadata": {
      "image/png": {
       "height": 420,
       "width": 420
      }
     },
     "output_type": "display_data"
    }
   ],
   "source": [
    "bmi_subgroups <- stroke_df_clean %>%\n",
    "  mutate(\n",
    "         bmi_category = case_when(\n",
    "           bmi < 18.5 ~ \"Underweight\",\n",
    "           bmi >= 18.5 & bmi < 25 ~ \"Normal\",\n",
    "           bmi >= 25 & bmi < 30 ~ \"Overweight\",\n",
    "           bmi >= 30 ~ \"Obese\"\n",
    "         ))\n",
    "\n",
    "bmi_category_summary <- bmi_subgroups %>%\n",
    "  group_by(bmi_category) %>%\n",
    "  summarize(\n",
    "    total = n(),\n",
    "    strokes = sum(stroke, na.rm = TRUE),\n",
    "    stroke_rate = mean(stroke, na.rm = TRUE) * 100,\n",
    "    .groups = \"drop\"\n",
    "  ) %>%\n",
    "  arrange(desc(stroke_rate))\n",
    "\n",
    "bmi_category_summary\n",
    "\n",
    "ggplot(bmi_subgroups, aes(x = bmi_category, y = bmi, fill = factor(stroke))) +\n",
    "  geom_boxplot(alpha = 0.7) +\n",
    "  labs(\n",
    "    title = \"BMI Distribution by Category and Stroke Occurrence\",\n",
    "    x = \"BMI Category\",\n",
    "    y = \"BMI\",\n",
    "    fill = \"Stroke\"\n",
    "  )"
   ]
  },
  {
   "cell_type": "markdown",
   "id": "1f539ab4-54cd-43be-8074-20c9c42ace6a",
   "metadata": {},
   "source": [
    "Stroke risk increases with BMI, with overweight individuals showing the highest stroke rate (5.32%), followed closely by obese individuals (5.10%). Normal-weight individuals have a lower stroke rate (2.82%), and underweight individuals have the lowest risk (0.30%). While BMI correlates with stroke occurrence, the overlap in distributions within BMI categories suggests it is a moderate predictor, and other factors likely contribute more strongly to stroke risk. \n",
    "\n",
    "#### Glucose levels and Stroke Status\n"
   ]
  },
  {
   "cell_type": "code",
   "execution_count": 20,
   "id": "2302eaba-8f6e-4f56-a1e9-58f930681c4c",
   "metadata": {},
   "outputs": [
    {
     "name": "stdout",
     "output_type": "stream",
     "text": [
      "\u001b[90m# A tibble: 2 x 6\u001b[39m\n",
      "  stroke mean_glucose median_glucose sd_glucose max_glucose min_glucose\n",
      "   \u001b[3m\u001b[90m<int>\u001b[39m\u001b[23m        \u001b[3m\u001b[90m<dbl>\u001b[39m\u001b[23m          \u001b[3m\u001b[90m<dbl>\u001b[39m\u001b[23m      \u001b[3m\u001b[90m<dbl>\u001b[39m\u001b[23m       \u001b[3m\u001b[90m<dbl>\u001b[39m\u001b[23m       \u001b[3m\u001b[90m<dbl>\u001b[39m\u001b[23m\n",
      "\u001b[90m1\u001b[39m      0         105.           91.5       43.8        268.        55.1\n",
      "\u001b[90m2\u001b[39m      1         133.          105.        61.9        272.        56.1\n",
      "\u001b[90m# A tibble: 2 x 4\u001b[39m\n",
      "  high_glucose                 total strokes stroke_rate\n",
      "  \u001b[3m\u001b[90m<chr>\u001b[39m\u001b[23m                        \u001b[3m\u001b[90m<int>\u001b[39m\u001b[23m   \u001b[3m\u001b[90m<int>\u001b[39m\u001b[23m       \u001b[3m\u001b[90m<dbl>\u001b[39m\u001b[23m\n",
      "\u001b[90m1\u001b[39m Abnormal level (>125)         \u001b[4m1\u001b[24m000     100       10   \n",
      "\u001b[90m2\u001b[39m Below abnormal level (<=125)  \u001b[4m4\u001b[24m110     149        3.63\n"
     ]
    },
    {
     "data": {
      "image/png": "[encoded data removed]",
      "text/plain": [
       "plot without title"
      ]
     },
     "metadata": {
      "image/png": {
       "height": 420,
       "width": 420
      }
     },
     "output_type": "display_data"
    }
   ],
   "source": [
    "glucose_summary <- stroke_df %>%\n",
    "    group_by(stroke) %>%\n",
    "    summarize(\n",
    "        mean_glucose = mean(avg_glucose_level, na.rm = TRUE),\n",
    "        median_glucose = median(avg_glucose_level, na.rm = TRUE),\n",
    "        sd_glucose = sd(avg_glucose_level, na.rm = TRUE),\n",
    "        max_glucose = max(avg_glucose_level, na.rm = TRUE),\n",
    "        min_glucose = min(avg_glucose_level, na.rm = TRUE),\n",
    "        .groups = \"drop\"\n",
    "    )\n",
    "\n",
    "print(glucose_summary)\n",
    "\n",
    "ggplot(stroke_df,\n",
    "       aes(x = factor(stroke), y = avg_glucose_level, fill = factor(stroke))) +\n",
    "  geom_boxplot(alpha = 0.7) +\n",
    "  labs(\n",
    "    title = \"Glucose Levels by Stroke Occurrence\",\n",
    "    x = \"Stroke (0 = No, 1 = Yes)\",\n",
    "    y = \"Average Glucose Level\",\n",
    "    fill = \"Stroke\"\n",
    "  )\n",
    "\n",
    "stroke_df <- stroke_df %>%\n",
    "  mutate(\n",
    "      high_glucose = ifelse(avg_glucose_level > 125,\n",
    "                            \"Abnormal level (>125)\",\n",
    "                            \"Below abnormal level (<=125)\")\n",
    "  )\n",
    "\n",
    "# Summarize stroke rates for high vs. normal glucose\n",
    "glucose_category_summary <- stroke_df %>%\n",
    "  group_by(high_glucose) %>%\n",
    "  summarize(\n",
    "    total = n(),\n",
    "    strokes = sum(stroke, na.rm = TRUE),\n",
    "    stroke_rate = mean(stroke, na.rm = TRUE) * 100,\n",
    "    .groups = \"drop\"\n",
    "  )\n",
    "\n",
    "print(glucose_category_summary)"
   ]
  },
  {
   "cell_type": "markdown",
   "id": "16cfca89-d405-4283-b15b-9000baec2c23",
   "metadata": {},
   "source": [
    "From above, we see that individuals with higher glucose levels are at significantly increased risk of stroke. Stroke rate among individuals with abnormal glucose levels > 125 is approximately three times higher than the 3.63% rate for those with normal glucose levels. These results highlight the critical role of glucose management in reducing stroke risk.\n",
    "\n",
    "## Data Preparation\n",
    "### Cleaning Data\n",
    "The task is to clean the dataset `cell_phones_total.csv`, specifically:\n",
    "\n",
    "- Deal with missing values in a suitable way.\n",
    "- Convert all the relevant cells to numbers (not strings).\n",
    "\n",
    "We start by reading the data and check the structure of it."
   ]
  },
  {
   "cell_type": "code",
   "execution_count": 21,
   "id": "a4e80065-3c43-4105-993d-cbac55317b2d",
   "metadata": {},
   "outputs": [
    {
     "name": "stdout",
     "output_type": "stream",
     "text": [
      "'data.frame':\t214 obs. of  57 variables:\n",
      " $ iso.3: chr  \"ABW\" \"AFG\" \"AGO\" \"ALB\" ...\n",
      " $ X1960: num  0 0 0 0 0 NA 0 0 0 0 ...\n",
      " $ X1965: num  0 0 0 0 0 NA 0 0 0 0 ...\n",
      " $ X1966: logi  NA NA NA NA NA NA ...\n",
      " $ X1967: logi  NA NA NA NA NA NA ...\n",
      " $ X1968: logi  NA NA NA NA NA NA ...\n",
      " $ X1969: logi  NA NA NA NA NA NA ...\n",
      " $ X1970: num  0 0 0 0 0 NA 0 0 0 0 ...\n",
      " $ X1971: logi  NA NA NA NA NA NA ...\n",
      " $ X1972: logi  NA NA NA NA NA NA ...\n",
      " $ X1973: logi  NA NA NA NA NA NA ...\n",
      " $ X1974: logi  NA NA NA NA NA NA ...\n",
      " $ X1975: num  0 0 0 0 0 NA 0 0 0 0 ...\n",
      " $ X1976: num  0 0 0 0 0 NA 0 0 0 0 ...\n",
      " $ X1977: num  0 0 0 0 0 NA 0 0 0 0 ...\n",
      " $ X1978: num  0 0 0 0 0 NA 0 0 0 0 ...\n",
      " $ X1979: num  0 0 0 0 0 NA 0 0 0 0 ...\n",
      " $ X1980: chr  \"0\" \"0\" \"0\" \"0\" ...\n",
      " $ X1981: chr  \"0\" \"0\" \"0\" \"0\" ...\n",
      " $ X1982: chr  \"0\" \"0\" \"0\" \"0\" ...\n",
      " $ X1983: chr  \"0\" \"0\" \"0\" \"0\" ...\n",
      " $ X1984: chr  \"0\" \"0\" \"0\" \"0\" ...\n",
      " $ X1985: chr  \"0\" \"0\" \"0\" \"0\" ...\n",
      " $ X1986: chr  \"0\" \"0\" \"0\" \"0\" ...\n",
      " $ X1987: chr  \"0\" \"0\" \"0\" \"0\" ...\n",
      " $ X1988: chr  \"0\" \"0\" \"0\" \"0\" ...\n",
      " $ X1989: chr  \"0\" \"0\" \"0\" \"0\" ...\n",
      " $ X1990: chr  \"0\" \"0\" \"0\" \"0\" ...\n",
      " $ X1991: chr  \"0\" \"0\" \"0\" \"0\" ...\n",
      " $ X1992: chr  \"20\" \"0\" \"0\" \"0\" ...\n",
      " $ X1993: chr  \"\" \"0\" \"1100\" \"0\" ...\n",
      " $ X1994: chr  \"\" \"0\" \"1820\" \"0\" ...\n",
      " $ X1995: chr  \"1720\" \"0\" \"1990\" \"0\" ...\n",
      " $ X1996: chr  \"3000\" \"0\" \"3300\" \"2300\" ...\n",
      " $ X1997: chr  \"3400\" \"0\" \"7050\" \"3300\" ...\n",
      " $ X1998: chr  \"5380\" \"0\" \"9820\" \"5600\" ...\n",
      " $ X1999: chr  \"12k\" \"0\" \"24k\" \"11k\" ...\n",
      " $ X2000: chr  \"15k\" \"0\" \"25.8k\" \"29.8k\" ...\n",
      " $ X2001: chr  \"53k\" \"0\" \"75k\" \"393k\" ...\n",
      " $ X2002: chr  \"61.8k\" \"25k\" \"140k\" \"851k\" ...\n",
      " $ X2003: chr  \"70k\" \"200k\" \"350k\" \"1.1M\" ...\n",
      " $ X2004: chr  \"98.4k\" \"600k\" \"740k\" \"1.26M\" ...\n",
      " $ X2005: chr  \"103k\" \"1.2M\" \"1.61M\" \"1.53M\" ...\n",
      " $ X2006: chr  \"109k\" \"2.52M\" \"3.05M\" \"1.91M\" ...\n",
      " $ X2007: chr  \"114k\" \"4.67M\" \"4.96M\" \"2.32M\" ...\n",
      " $ X2008: chr  \"121k\" \"7.9M\" \"6.77M\" \"1.86M\" ...\n",
      " $ X2009: chr  \"128k\" \"10.5M\" \"8.11M\" \"2.46M\" ...\n",
      " $ X2010: chr  \"132k\" \"10.2M\" \"9.4M\" \"2.69M\" ...\n",
      " $ X2011: chr  \"\" \"13.8M\" \"12.1M\" \"3.1M\" ...\n",
      " $ X2012: chr  \"135k\" \"15.3M\" \"12.8M\" \"3.5M\" ...\n",
      " $ X2013: chr  \"139k\" \"16.8M\" \"13.3M\" \"3.69M\" ...\n",
      " $ X2014: chr  \"140k\" \"18.4M\" \"14.1M\" \"3.36M\" ...\n",
      " $ X2015: chr  \"141k\" \"19.7M\" \"13.9M\" \"3.4M\" ...\n",
      " $ X2016: chr  \"\" \"21.6M\" \"13M\" \"3.37M\" ...\n",
      " $ X2017: chr  \"\" \"23.9M\" \"13.3M\" \"3.63M\" ...\n",
      " $ X2018: chr  \"\" \"22M\" \"13.3M\" \"2.71M\" ...\n",
      " $ X2019: chr  \"\" \"22.6M\" \"14.8M\" \"2.63M\" ...\n"
     ]
    }
   ],
   "source": [
    "cell_phones_df <- read.csv(\n",
    "    \"https://raw.githubusercontent.com/su-mt4007/data/refs/heads/main/cell_phones_total.csv\",\n",
    "    fileEncoding = \"UTF-8\"\n",
    ")\n",
    "\n",
    "str(cell_phones_df)"
   ]
  },
  {
   "cell_type": "markdown",
   "id": "64371a9c-a1d5-4556-a428-6c28e7581c65",
   "metadata": {},
   "source": [
    "Before converting all strings to numbers, we need to deal with all the observations that contain letters. To do this smoothly, we implement a function that uses `grepl()` and `sub()`. The `grepl()` function checks for pattern matches in strings, which we will use in our logical argument and the `sub()` function substitute a string or a character with a specific string. "
   ]
  },
  {
   "cell_type": "code",
   "execution_count": 22,
   "id": "7e4f79cd-ec34-4b4a-847e-6c9242e2e26b",
   "metadata": {},
   "outputs": [],
   "source": [
    "numeric_converter <- function(value) {\n",
    "    if (grepl(\"k\", value, ignore.case = TRUE)) {\n",
    "        as.numeric(sub(\"k\", \"\", value, ignore.case = TRUE)) * 1e3\n",
    "    } else if (grepl(\"M\", value, ignore.case = TRUE)) {\n",
    "        as.numeric(sub(\"M\", \"\", value, ignore.case = TRUE)) * 1e6\n",
    "    } else if (grepl(\"B\", value, ignore.case = TRUE)) {\n",
    "        as.numeric(sub(\"B\", \"\", value, ignore.case = TRUE)) * 1e9\n",
    "    } else {\n",
    "        as.numeric(value)\n",
    "    }\n",
    "}"
   ]
  },
  {
   "cell_type": "markdown",
   "id": "cdca016a-ca5e-489f-b608-d9897de336cb",
   "metadata": {},
   "source": [
    "Next step is to apply this function above. We do this by first extracting the columns we want to convert and then apply the function above together with `mutate()` and `across()` to efficiently transform the relevant columns."
   ]
  },
  {
   "cell_type": "code",
   "execution_count": 23,
   "id": "f44c169f-f4bd-42f6-9f6c-fa1cf50d76b5",
   "metadata": {},
   "outputs": [
    {
     "name": "stdout",
     "output_type": "stream",
     "text": [
      "'data.frame':\t214 obs. of  57 variables:\n",
      " $ iso.3: chr  \"ABW\" \"AFG\" \"AGO\" \"ALB\" ...\n",
      " $ X1960: num  0 0 0 0 0 NA 0 0 0 0 ...\n",
      " $ X1965: num  0 0 0 0 0 NA 0 0 0 0 ...\n",
      " $ X1966: logi  NA NA NA NA NA NA ...\n",
      " $ X1967: logi  NA NA NA NA NA NA ...\n",
      " $ X1968: logi  NA NA NA NA NA NA ...\n",
      " $ X1969: logi  NA NA NA NA NA NA ...\n",
      " $ X1970: num  0 0 0 0 0 NA 0 0 0 0 ...\n",
      " $ X1971: logi  NA NA NA NA NA NA ...\n",
      " $ X1972: logi  NA NA NA NA NA NA ...\n",
      " $ X1973: logi  NA NA NA NA NA NA ...\n",
      " $ X1974: logi  NA NA NA NA NA NA ...\n",
      " $ X1975: num  0 0 0 0 0 NA 0 0 0 0 ...\n",
      " $ X1976: num  0 0 0 0 0 NA 0 0 0 0 ...\n",
      " $ X1977: num  0 0 0 0 0 NA 0 0 0 0 ...\n",
      " $ X1978: num  0 0 0 0 0 NA 0 0 0 0 ...\n",
      " $ X1979: num  0 0 0 0 0 NA 0 0 0 0 ...\n",
      " $ X1980: num  0 0 0 0 0 NA 0 0 0 0 ...\n",
      " $ X1981: num  0 0 0 0 0 NA 0 0 0 0 ...\n",
      " $ X1982: num  0 0 0 0 0 2330 0 0 0 0 ...\n",
      " $ X1983: num  0 0 0 0 0 3560 0 0 0 0 ...\n",
      " $ X1984: num  0 0 0 0 0 4940 0 0 0 0 ...\n",
      " $ X1985: num  0 0 0 0 0 7920 0 0 0 0 ...\n",
      " $ X1986: num  0 0 0 0 0 11200 0 0 0 0 ...\n",
      " $ X1987: num  0 0 0 0 0 13700 0 0 NA 0 ...\n",
      " $ X1988: num  0 0 0 0 0 13800 0 0 NA 0 ...\n",
      " $ X1989: num  0 0 0 0 0 24900 2300 0 NA NA ...\n",
      " $ X1990: num  0 0 0 0 0 33600 12000 0 0 0 ...\n",
      " $ X1991: num  0 0 0 0 0 43000 25000 0 0 NA ...\n",
      " $ X1992: num  20 0 0 0 770 48900 46600 0 700 NA ...\n",
      " $ X1993: num  NA 0 1100 0 780 70600 112000 0 900 NA ...\n",
      " $ X1994: num  NA 0 1820 0 784 91500 241000 0 1200 NA ...\n",
      " $ X1995: num  1720 0 1990 0 2830 129000 405000 0 1250 NA ...\n",
      " $ X1996: num  3000 0 3300 2300 5490 194000 667000 300 1300 1300 ...\n",
      " $ X1997: num  3400 0 7050 3300 8620 309000 2010000 5000 1400 1400 ...\n",
      " $ X1998: num  5380 0 9820 5600 14100 493000 2670000 7830 1500 1500 ...\n",
      " $ X1999: num  12000 0 24000 11000 20600 832000 3850000 8160 1800 8500 ...\n",
      " $ X2000: num  15000 0 25800 29800 23500 1430000 6490000 17500 1990 22000 ...\n",
      " $ X2001: num  53000 0 75000 393000 29400 1910000 6740000 25500 2160 25000 ...\n",
      " $ X2002: num  61800 25000 140000 851000 32800 2430000 6570000 71300 2040 38200 ...\n",
      " $ X2003: num  70000 200000 350000 1100000 51900 2970000 7840000 114000 2100 46100 ...\n",
      " $ X2004: num  98400 600000 740000 1260000 58400 3680000 13500000 203000 2250 54000 ...\n",
      " $ X2005: num  103000 1200000 1610000 1530000 64600 4530000 22200000 318000 NA 86000 ...\n",
      " $ X2006: num  109000 2520000 3050000 1910000 69000 5520000 31500000 1260000 NA 110000 ...\n",
      " $ X2007: num  114000 4670000 4960000 2320000 63500 7730000 40400000 1880000 NA 112000 ...\n",
      " $ X2008: num  121000 7900000 6770000 1860000 64200 9360000 46500000 1440000 NA 137000 ...\n",
      " $ X2009: num  128000 10500000 8110000 2460000 64500 10700000 52500000 2190000 NA 135000 ...\n",
      " $ X2010: num  132000 10200000 9400000 2690000 65500 10900000 57100000 3870000 NA 168000 ...\n",
      " $ X2011: num  NA 13800000 12100000 3100000 65000 11700000 60700000 3210000 NA 176000 ...\n",
      " $ X2012: num  135000 15300000 12800000 3500000 63900 13800000 64300000 3320000 NA 127000 ...\n",
      " $ X2013: num  139000 16800000 13300000 3690000 63900 16100000 67400000 3350000 NA 114000 ...\n",
      " $ X2014: num  140000 18400000 14100000 3360000 66200 16800000 61200000 3460000 NA 120000 ...\n",
      " $ X2015: num  141000 19700000 13900000 3400000 71300 17900000 61800000 3460000 NA 176000 ...\n",
      " $ X2016: num  NA 21600000 13000000 3370000 76100 19900000 63700000 3430000 NA 180000 ...\n",
      " $ X2017: num  NA 23900000 13300000 3630000 80300 19800000 61900000 3490000 NA 184000 ...\n",
      " $ X2018: num  NA 22000000 13300000 2710000 82600 20100000 58600000 3580000 NA NA ...\n",
      " $ X2019: num  NA 22600000 14800000 2630000 87900 19600000 58600000 3620000 NA NA ...\n"
     ]
    }
   ],
   "source": [
    "char_columns <- cell_phones_df %>%\n",
    "    select(where(is.character)) %>%\n",
    "    select(-iso.3) %>% # Exclude iso-3\n",
    "    colnames()\n",
    "\n",
    "cell_phones_cleaned <- cell_phones_df %>%\n",
    "    mutate(\n",
    "        across(all_of(char_columns), ~ as.numeric(sapply(., numeric_converter)))\n",
    "        )\n",
    "\n",
    "str(cell_phones_cleaned)"
   ]
  },
  {
   "cell_type": "markdown",
   "id": "1ee674ad-b88b-4d70-ba4c-928428cd04af",
   "metadata": {},
   "source": [
    "The implementation seems to work so far. We can now focus on handling missing values. This will be done by imputating **Last Observation Carried Forward** (LOCF) method on all the numeric columns, which can be done by using `na.locf()` found in the package `zoo`. After that, we check whether there are still some missing values in the numeric columns."
   ]
  },
  {
   "cell_type": "code",
   "execution_count": 24,
   "id": "ad512433-df7e-4f3e-b02a-7830f1b4cad7",
   "metadata": {},
   "outputs": [
    {
     "name": "stderr",
     "output_type": "stream",
     "text": [
      "\n",
      "Attaching package: 'zoo'\n",
      "\n",
      "\n",
      "The following objects are masked from 'package:base':\n",
      "\n",
      "    as.Date, as.Date.numeric\n",
      "\n",
      "\n"
     ]
    },
    {
     "name": "stdout",
     "output_type": "stream",
     "text": [
      "  iso.3 X1960 X1965 X1966 X1967 X1968 X1969 X1970 X1971 X1972 X1973 X1974 X1975\n",
      "1     0     0     0   214   214   214   214     0   214   214   214   214     0\n",
      "  X1976 X1977 X1978 X1979 X1980 X1981 X1982 X1983 X1984 X1985 X1986 X1987 X1988\n",
      "1     0     0     0     0     0     0     0     0     0     0     0     0     0\n",
      "  X1989 X1990 X1991 X1992 X1993 X1994 X1995 X1996 X1997 X1998 X1999 X2000 X2001\n",
      "1     0     0     0     0     1     1     0     0     0     0     0     0     0\n",
      "  X2002 X2003 X2004 X2005 X2006 X2007 X2008 X2009 X2010 X2011 X2012 X2013 X2014\n",
      "1     0     0     0     0     0     0     0     0     0     1     0     0     0\n",
      "  X2015 X2016 X2017 X2018 X2019\n",
      "1     0     1     1     1     1\n"
     ]
    }
   ],
   "source": [
    "library(zoo)\n",
    "\n",
    "cell_phones_cleaned <- cell_phones_cleaned %>%\n",
    "    mutate(\n",
    "        across(where(is.numeric), ~ na.locf(., na.rm = FALSE))\n",
    "    )\n",
    "\n",
    "na_summary <- cell_phones_cleaned %>%\n",
    "    summarize(across(everything(), ~ sum(is.na(.))))\n",
    "\n",
    "print(na_summary)"
   ]
  },
  {
   "cell_type": "markdown",
   "id": "cf1e45c4-41a7-4945-8e77-210a796d6e7c",
   "metadata": {},
   "source": [
    "As we can see, there are still some missing values in the numeric columns. This is because the first entry in the columns are `NA`, which LOCF does not handle. Furthermore, we see that some columns only contains missing values (e.g., X1966-X1969, X1971-X1974) and  these columns are of type `logical`. We will fill the first entries using **Last Observation Carried Backward** and then remove the columns that only contain missing values."
   ]
  },
  {
   "cell_type": "code",
   "execution_count": 25,
   "id": "4c492000-9d7c-4222-adf3-c0433a6d6cee",
   "metadata": {},
   "outputs": [
    {
     "name": "stdout",
     "output_type": "stream",
     "text": [
      "  iso.3 X1960 X1965 X1970 X1975 X1976 X1977 X1978 X1979 X1980 X1981 X1982 X1983\n",
      "1     0     0     0     0     0     0     0     0     0     0     0     0     0\n",
      "  X1984 X1985 X1986 X1987 X1988 X1989 X1990 X1991 X1992 X1993 X1994 X1995 X1996\n",
      "1     0     0     0     0     0     0     0     0     0     0     0     0     0\n",
      "  X1997 X1998 X1999 X2000 X2001 X2002 X2003 X2004 X2005 X2006 X2007 X2008 X2009\n",
      "1     0     0     0     0     0     0     0     0     0     0     0     0     0\n",
      "  X2010 X2011 X2012 X2013 X2014 X2015 X2016 X2017 X2018 X2019\n",
      "1     0     0     0     0     0     0     0     0     0     0\n"
     ]
    }
   ],
   "source": [
    "cell_phones_cleaned <- cell_phones_cleaned %>%\n",
    "    select(-where(is.logical)) %>%\n",
    "    mutate(across(\n",
    "        where(is.numeric),\n",
    "        ~ na.locf(., na.rm = FALSE, fromLast = TRUE))\n",
    "    )\n",
    "\n",
    "na_summary <- cell_phones_cleaned %>%\n",
    "    summarize(across(everything(), ~ sum(is.na(.))))\n",
    "\n",
    "print(na_summary)"
   ]
  },
  {
   "cell_type": "markdown",
   "id": "ecaf91fe-fa91-4004-879c-5b0ef2d1f2a9",
   "metadata": {},
   "source": [
    "We have successfully cleaned the data. Now we check whether we get the same table as the one displayed in the assignment."
   ]
  },
  {
   "cell_type": "code",
   "execution_count": 26,
   "id": "acb6e070-ec3d-4919-854f-5234be69a5fd",
   "metadata": {},
   "outputs": [
    {
     "data": {
      "text/html": [
       "<table class=\"dataframe\">\n",
       "<caption>A data.frame: 5 × 6</caption>\n",
       "<thead>\n",
       "\t<tr><th></th><th scope=col>iso.3</th><th scope=col>X2015</th><th scope=col>X2016</th><th scope=col>X2017</th><th scope=col>X2018</th><th scope=col>X2019</th></tr>\n",
       "\t<tr><th></th><th scope=col>&lt;chr&gt;</th><th scope=col>&lt;dbl&gt;</th><th scope=col>&lt;dbl&gt;</th><th scope=col>&lt;dbl&gt;</th><th scope=col>&lt;dbl&gt;</th><th scope=col>&lt;dbl&gt;</th></tr>\n",
       "</thead>\n",
       "<tbody>\n",
       "\t<tr><th scope=row>1</th><td>CHN</td><td>1.29e+09</td><td>1.36e+09</td><td>1.47e+09</td><td>1.65e+09</td><td>1.73e+09</td></tr>\n",
       "\t<tr><th scope=row>2</th><td>IND</td><td>1.00e+09</td><td>1.13e+09</td><td>1.17e+09</td><td>1.18e+09</td><td>1.15e+09</td></tr>\n",
       "\t<tr><th scope=row>3</th><td>USA</td><td>3.82e+08</td><td>3.96e+08</td><td>4.00e+08</td><td>4.22e+08</td><td>4.78e+06</td></tr>\n",
       "\t<tr><th scope=row>4</th><td>IDN</td><td>3.39e+08</td><td>3.86e+08</td><td>4.35e+08</td><td>3.19e+08</td><td>3.45e+08</td></tr>\n",
       "\t<tr><th scope=row>5</th><td>BRA</td><td>2.58e+08</td><td>2.44e+08</td><td>2.18e+08</td><td>2.07e+08</td><td>2.55e+05</td></tr>\n",
       "</tbody>\n",
       "</table>\n"
      ],
      "text/latex": [
       "A data.frame: 5 × 6\n",
       "\\begin{tabular}{r|llllll}\n",
       "  & iso.3 & X2015 & X2016 & X2017 & X2018 & X2019\\\\\n",
       "  & <chr> & <dbl> & <dbl> & <dbl> & <dbl> & <dbl>\\\\\n",
       "\\hline\n",
       "\t1 & CHN & 1.29e+09 & 1.36e+09 & 1.47e+09 & 1.65e+09 & 1.73e+09\\\\\n",
       "\t2 & IND & 1.00e+09 & 1.13e+09 & 1.17e+09 & 1.18e+09 & 1.15e+09\\\\\n",
       "\t3 & USA & 3.82e+08 & 3.96e+08 & 4.00e+08 & 4.22e+08 & 4.78e+06\\\\\n",
       "\t4 & IDN & 3.39e+08 & 3.86e+08 & 4.35e+08 & 3.19e+08 & 3.45e+08\\\\\n",
       "\t5 & BRA & 2.58e+08 & 2.44e+08 & 2.18e+08 & 2.07e+08 & 2.55e+05\\\\\n",
       "\\end{tabular}\n"
      ],
      "text/markdown": [
       "\n",
       "A data.frame: 5 × 6\n",
       "\n",
       "| <!--/--> | iso.3 &lt;chr&gt; | X2015 &lt;dbl&gt; | X2016 &lt;dbl&gt; | X2017 &lt;dbl&gt; | X2018 &lt;dbl&gt; | X2019 &lt;dbl&gt; |\n",
       "|---|---|---|---|---|---|---|\n",
       "| 1 | CHN | 1.29e+09 | 1.36e+09 | 1.47e+09 | 1.65e+09 | 1.73e+09 |\n",
       "| 2 | IND | 1.00e+09 | 1.13e+09 | 1.17e+09 | 1.18e+09 | 1.15e+09 |\n",
       "| 3 | USA | 3.82e+08 | 3.96e+08 | 4.00e+08 | 4.22e+08 | 4.78e+06 |\n",
       "| 4 | IDN | 3.39e+08 | 3.86e+08 | 4.35e+08 | 3.19e+08 | 3.45e+08 |\n",
       "| 5 | BRA | 2.58e+08 | 2.44e+08 | 2.18e+08 | 2.07e+08 | 2.55e+05 |\n",
       "\n"
      ],
      "text/plain": [
       "  iso.3 X2015    X2016    X2017    X2018    X2019   \n",
       "1 CHN   1.29e+09 1.36e+09 1.47e+09 1.65e+09 1.73e+09\n",
       "2 IND   1.00e+09 1.13e+09 1.17e+09 1.18e+09 1.15e+09\n",
       "3 USA   3.82e+08 3.96e+08 4.00e+08 4.22e+08 4.78e+06\n",
       "4 IDN   3.39e+08 3.86e+08 4.35e+08 3.19e+08 3.45e+08\n",
       "5 BRA   2.58e+08 2.44e+08 2.18e+08 2.07e+08 2.55e+05"
      ]
     },
     "metadata": {},
     "output_type": "display_data"
    }
   ],
   "source": [
    "verified_table <- cell_phones_cleaned %>%\n",
    "    select(iso.3, X2015, X2016, X2017, X2018, X2019) %>%\n",
    "    arrange(desc(X2015))\n",
    "\n",
    "head(verified_table, n = 5)"
   ]
  }
 ],
 "metadata": {
  "kernelspec": {
   "display_name": "R",
   "language": "R",
   "name": "ir"
  },
  "language_info": {
   "codemirror_mode": "r",
   "file_extension": ".r",
   "mimetype": "text/x-r-source",
   "name": "R",
   "pygments_lexer": "r",
   "version": "4.1.3"
  }
 },
 "nbformat": 4,
 "nbformat_minor": 5
}
