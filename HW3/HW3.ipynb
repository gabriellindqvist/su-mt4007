{
 "cells": [
  {
   "cell_type": "markdown",
   "id": "57b632d4-64e1-49f2-92bc-ad32175b1e7e",
   "metadata": {},
   "source": [
    "# Homework 3 \n",
    "\n",
    "## Exploratory Data Analysis\n",
    "\n",
    "### IRIS Data\n",
    "We start by reading the data `IRIS.csv` and use the function `head` to see the structure of the data. "
   ]
  },
  {
   "cell_type": "code",
   "execution_count": 6,
   "id": "fdc40476-ae9c-4eae-8810-dde21b591d13",
   "metadata": {},
   "outputs": [
    {
     "data": {
      "text/html": [
       "<table class=\"dataframe\">\n",
       "<caption>A data.frame: 6 × 5</caption>\n",
       "<thead>\n",
       "\t<tr><th></th><th scope=col>sepal_length</th><th scope=col>sepal_width</th><th scope=col>petal_length</th><th scope=col>petal_width</th><th scope=col>species</th></tr>\n",
       "\t<tr><th></th><th scope=col>&lt;dbl&gt;</th><th scope=col>&lt;dbl&gt;</th><th scope=col>&lt;dbl&gt;</th><th scope=col>&lt;dbl&gt;</th><th scope=col>&lt;chr&gt;</th></tr>\n",
       "</thead>\n",
       "<tbody>\n",
       "\t<tr><th scope=row>1</th><td>5.1</td><td>3.5</td><td>1.4</td><td>0.2</td><td>Iris-setosa</td></tr>\n",
       "\t<tr><th scope=row>2</th><td>4.9</td><td>3.0</td><td>1.4</td><td>0.2</td><td>Iris-setosa</td></tr>\n",
       "\t<tr><th scope=row>3</th><td>4.7</td><td>3.2</td><td>1.3</td><td>0.2</td><td>Iris-setosa</td></tr>\n",
       "\t<tr><th scope=row>4</th><td>4.6</td><td>3.1</td><td>1.5</td><td>0.2</td><td>Iris-setosa</td></tr>\n",
       "\t<tr><th scope=row>5</th><td>5.0</td><td>3.6</td><td>1.4</td><td>0.2</td><td>Iris-setosa</td></tr>\n",
       "\t<tr><th scope=row>6</th><td>5.4</td><td>3.9</td><td>1.7</td><td>0.4</td><td>Iris-setosa</td></tr>\n",
       "</tbody>\n",
       "</table>\n"
      ],
      "text/latex": [
       "A data.frame: 6 × 5\n",
       "\\begin{tabular}{r|lllll}\n",
       "  & sepal\\_length & sepal\\_width & petal\\_length & petal\\_width & species\\\\\n",
       "  & <dbl> & <dbl> & <dbl> & <dbl> & <chr>\\\\\n",
       "\\hline\n",
       "\t1 & 5.1 & 3.5 & 1.4 & 0.2 & Iris-setosa\\\\\n",
       "\t2 & 4.9 & 3.0 & 1.4 & 0.2 & Iris-setosa\\\\\n",
       "\t3 & 4.7 & 3.2 & 1.3 & 0.2 & Iris-setosa\\\\\n",
       "\t4 & 4.6 & 3.1 & 1.5 & 0.2 & Iris-setosa\\\\\n",
       "\t5 & 5.0 & 3.6 & 1.4 & 0.2 & Iris-setosa\\\\\n",
       "\t6 & 5.4 & 3.9 & 1.7 & 0.4 & Iris-setosa\\\\\n",
       "\\end{tabular}\n"
      ],
      "text/markdown": [
       "\n",
       "A data.frame: 6 × 5\n",
       "\n",
       "| <!--/--> | sepal_length &lt;dbl&gt; | sepal_width &lt;dbl&gt; | petal_length &lt;dbl&gt; | petal_width &lt;dbl&gt; | species &lt;chr&gt; |\n",
       "|---|---|---|---|---|---|\n",
       "| 1 | 5.1 | 3.5 | 1.4 | 0.2 | Iris-setosa |\n",
       "| 2 | 4.9 | 3.0 | 1.4 | 0.2 | Iris-setosa |\n",
       "| 3 | 4.7 | 3.2 | 1.3 | 0.2 | Iris-setosa |\n",
       "| 4 | 4.6 | 3.1 | 1.5 | 0.2 | Iris-setosa |\n",
       "| 5 | 5.0 | 3.6 | 1.4 | 0.2 | Iris-setosa |\n",
       "| 6 | 5.4 | 3.9 | 1.7 | 0.4 | Iris-setosa |\n",
       "\n"
      ],
      "text/plain": [
       "  sepal_length sepal_width petal_length petal_width species    \n",
       "1 5.1          3.5         1.4          0.2         Iris-setosa\n",
       "2 4.9          3.0         1.4          0.2         Iris-setosa\n",
       "3 4.7          3.2         1.3          0.2         Iris-setosa\n",
       "4 4.6          3.1         1.5          0.2         Iris-setosa\n",
       "5 5.0          3.6         1.4          0.2         Iris-setosa\n",
       "6 5.4          3.9         1.7          0.4         Iris-setosa"
      ]
     },
     "metadata": {},
     "output_type": "display_data"
    }
   ],
   "source": [
    "iris_df <- read.csv('https://raw.githubusercontent.com/su-mt4007/data/refs/heads/main/IRIS.csv', fileEncoding = 'UTF-8')\n",
    "head(iris_df)"
   ]
  },
  {
   "cell_type": "markdown",
   "id": "c9ca2ca0-3c54-498f-a15f-b2e563751f65",
   "metadata": {},
   "source": [
    "From `head`, we can see that the data includes four numeric variables (`sepal_length`, `sepal_width`, `petal_length` and `petal_width`) and one string nominal variable `species`.\n",
    "\n",
    "In this task we want to explore the following questions:\n",
    "\n",
    "1. Is there a relationship between sepal dimensions and petal dimensions?\n",
    "2. How are the sepal and petal dimensions distributed?\n",
    "3. How are the different variables related to each other?\n",
    "\n",
    "We start by exploring question 1. To draw some conclusions, we want to create a scatterplot as the one provided in the instructions. I craeted the plots using `ggplot` and the package `patchwork` to align the two plots together."
   ]
  },
  {
   "cell_type": "code",
   "execution_count": 131,
   "id": "ab705b50-9d9c-4680-8bea-b0a25c1aca6f",
   "metadata": {},
   "outputs": [
    {
     "data": {
      "image/png": "[encoded data removed]",
      "text/plain": [
       "plot without title"
      ]
     },
     "metadata": {
      "image/png": {
       "height": 420,
       "width": 420
      }
     },
     "output_type": "display_data"
    }
   ],
   "source": [
    "library(tidyverse, quietly = TRUE, warn.conflicts = FALSE)\n",
    "library(patchwork)\n",
    "\n",
    "# Adjust the colors of the points to match the ones provided. I googled for R color cheatsheet to find these (see link):\n",
    "# https://www.nceas.ucsb.edu/sites/default/files/2020-04/colorPaletteCheatsheet.pdf\n",
    "custom_colors <- c(\"Iris-setosa\" = \"steelblue4\", \"Iris-versicolor\" = \"mediumseagreen\", \"Iris-virginica\" = \"indianred\")\n",
    "\n",
    "left_plot <- ggplot(iris_df, aes(x = sepal_length, y = petal_length, color = species)) +\n",
    "    geom_point(size = 2) +\n",
    "    scale_color_manual(values = custom_colors) +\n",
    "    scale_x_continuous(limits = c(4, 8), breaks = seq(4, 8, 1)) +\n",
    "    scale_y_continuous(limits = c(1, 7), breaks = seq(1, 7, 1)) +\n",
    "    theme(\n",
    "        # Adjust the position of legend to match the plot provided in the instructions\n",
    "        legend.position = c(0, 1),\n",
    "        legend.justification = c(\"left\", \"top\"),\n",
    "        # Make the legend transparent to match the plot provided in the instructions\n",
    "        legend.background = element_rect(fill = \"transparent\"),\n",
    "        legend.key = element_rect(fill = \"transparent\"),\n",
    "        # Adjust the aspect ratio to match the plot provided in the instructions\n",
    "        aspect.ratio = 1\n",
    "    )\n",
    "\n",
    "right_plot <- ggplot(iris_df, aes(x = sepal_width, y = petal_width, color = species)) +\n",
    "    geom_point(size = 2) +\n",
    "    scale_color_manual(values = custom_colors) +\n",
    "    scale_x_continuous(limits = c(2, 4.5), breaks = seq(2, 4.5, 0.5)) +\n",
    "    scale_y_continuous(limits = c(0, 2.5), breaks = seq(0, 2.5, 0.5)) +\n",
    "    theme(\n",
    "        legend.position = c(1.05, 0.25),\n",
    "        legend.justification = c(\"right\", \"bottom\"),\n",
    "        legend.background = element_rect(fill = \"transparent\"),\n",
    "        legend.key = element_rect(fill = \"transparent\"),\n",
    "        aspect.ratio = 1\n",
    "    )\n",
    "\n",
    "left_plot + right_plot"
   ]
  },
  {
   "cell_type": "markdown",
   "id": "2ef2bc6b-0dd9-4fb7-96a8-3500c7d1f776",
   "metadata": {},
   "source": [
    "From the figure above, there is a clear positive linear trend between between the sepal and petal dimensions for the species Versicolor and Virginica. In contrast, for Setosa, the relationship between sepal and petal dimensions does not show a noticeable trend. That is, the data indicates that there is a relationship between sepal dimensions and petal dimensions, but this relationship is species-dependent.\n",
    "\n",
    "We can now move on the the second question."
   ]
  },
  {
   "cell_type": "code",
   "execution_count": 132,
   "id": "de1eb4aa-9192-45e5-ab27-6fb514dd27fb",
   "metadata": {},
   "outputs": [
    {
     "data": {
      "image/png": "[encoded data removed]",
      "text/plain": [
       "plot without title"
      ]
     },
     "metadata": {
      "image/png": {
       "height": 420,
       "width": 420
      }
     },
     "output_type": "display_data"
    }
   ],
   "source": [
    "boxplot11 <- ggplot(iris_df, aes(x = species, y = sepal_width, fill = species)) +\n",
    "    stat_boxplot(geom = \"errorbar\", width = 0.5) +\n",
    "    geom_boxplot(\n",
    "        outlier.shape = 1,\n",
    "        outlier.size = 2,\n",
    "        outlier.stroke = 0.75\n",
    "    ) +\n",
    "    scale_fill_manual(values = custom_colors) +\n",
    "    scale_y_continuous(limits = c(2, 4.5), breaks = seq(2, 4.5, 0.5)) +\n",
    "    theme(\n",
    "        legend.position = \"none\",\n",
    "        aspect.ratio = 1\n",
    "    )\n",
    "\n",
    "boxplot12 <- ggplot(iris_df, aes(x = species, y = sepal_length, fill = species)) +\n",
    "    stat_boxplot(geom = \"errorbar\", width = 0.5) +\n",
    "    geom_boxplot(\n",
    "        outlier.shape = 1,\n",
    "        outlier.size = 2,\n",
    "        outlier.stroke = 0.75\n",
    "    ) +\n",
    "    scale_fill_manual(values = custom_colors) +\n",
    "    scale_y_continuous(limits = c(4.0, 8.0), breaks = seq(4.5, 8.0, 0.5)) +\n",
    "    theme(\n",
    "        legend.position = \"none\",\n",
    "        aspect.ratio = 1\n",
    "    )\n",
    "\n",
    "boxplot21 <- ggplot(iris_df, aes(x = species, y = petal_width, fill = species)) +\n",
    "    stat_boxplot(geom = \"errorbar\", width = 0.5) +\n",
    "    geom_boxplot(\n",
    "        outlier.shape = 1,\n",
    "        outlier.size = 2,\n",
    "        outlier.stroke = 0.75\n",
    "    ) +\n",
    "    scale_fill_manual(values = custom_colors) +\n",
    "    scale_y_continuous(limits = c(0.0, 2.5), breaks = seq(0.0, 2.5, 0.5)) +\n",
    "    theme(\n",
    "        legend.position = \"none\",\n",
    "        aspect.ratio = 1\n",
    "    )\n",
    "\n",
    "boxplot22 <- ggplot(iris_df, aes(x = species, y = petal_length, fill = species)) +\n",
    "    stat_boxplot(geom = \"errorbar\", width = 0.5) +\n",
    "    geom_boxplot(\n",
    "        outlier.shape = 1,\n",
    "        outlier.size = 2,\n",
    "        outlier.stroke = 0.75\n",
    "    ) +\n",
    "    scale_fill_manual(values = custom_colors) +\n",
    "    scale_y_continuous(limits = c(1, 7), breaks = seq(1, 7, 1)) +\n",
    "    theme(\n",
    "        legend.position = \"none\",\n",
    "        aspect.ratio = 1\n",
    "    )\n",
    "\n",
    "boxplot11 + boxplot12 + boxplot21 + boxplot22 + plot_layout(widths = c(2, 2))"
   ]
  },
  {
   "cell_type": "code",
   "execution_count": null,
   "id": "b8985b68-7f81-4956-bbb7-71d49cc83e43",
   "metadata": {},
   "outputs": [],
   "source": []
  },
  {
   "cell_type": "code",
   "execution_count": null,
   "id": "01d20eb7-79b9-410d-ab70-1a647ee3da7a",
   "metadata": {},
   "outputs": [],
   "source": []
  }
 ],
 "metadata": {
  "kernelspec": {
   "display_name": "R",
   "language": "R",
   "name": "ir"
  },
  "language_info": {
   "codemirror_mode": "r",
   "file_extension": ".r",
   "mimetype": "text/x-r-source",
   "name": "R",
   "pygments_lexer": "r",
   "version": "4.1.3"
  }
 },
 "nbformat": 4,
 "nbformat_minor": 5
}
